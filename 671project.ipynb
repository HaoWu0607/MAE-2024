{
  "nbformat": 4,
  "nbformat_minor": 0,
  "metadata": {
    "colab": {
      "provenance": [],
      "authorship_tag": "ABX9TyOkpzT4/iBppCH7zpX6GlsK",
      "include_colab_link": true
    },
    "kernelspec": {
      "name": "python3",
      "display_name": "Python 3"
    },
    "language_info": {
      "name": "python"
    }
  },
  "cells": [
    {
      "cell_type": "markdown",
      "metadata": {
        "id": "view-in-github",
        "colab_type": "text"
      },
      "source": [
        "<a href=\"https://colab.research.google.com/github/HaoWu0607/MAE-2024/blob/main/671project.ipynb\" target=\"_parent\"><img src=\"https://colab.research.google.com/assets/colab-badge.svg\" alt=\"Open In Colab\"/></a>"
      ]
    },
    {
      "cell_type": "markdown",
      "source": [
        "**Step1: Import Packages**"
      ],
      "metadata": {
        "id": "VriMkqzeqjfV"
      }
    },
    {
      "cell_type": "code",
      "execution_count": null,
      "metadata": {
        "id": "6uRJQTpecHPM"
      },
      "outputs": [],
      "source": [
        "import numpy as np\n",
        "import pandas as pd\n",
        "import re\n",
        "import tqdm\n",
        "import nltk\n",
        "from nltk.corpus import stopwords\n",
        "import seaborn as sns\n",
        "import matplotlib.pyplot as plt\n",
        "from sklearn.model_selection import train_test_split,cross_val_score\n",
        "from sklearn.ensemble import RandomForestClassifier\n",
        "from sklearn.metrics import accuracy_score,balanced_accuracy_score"
      ]
    },
    {
      "cell_type": "markdown",
      "source": [
        "**Step2: Data-preprocessing for training data-frame**"
      ],
      "metadata": {
        "id": "5-k9INqoqu0r"
      }
    },
    {
      "cell_type": "code",
      "source": [
        "#read csv for both test and train\n",
        "path_test = '/content/test.csv'\n",
        "path_train = '/content/train.csv'\n",
        "df_train = pd.read_csv(path_train)\n",
        "df_test = pd.read_csv(path_test)"
      ],
      "metadata": {
        "id": "RR6BxqS12W0c"
      },
      "execution_count": null,
      "outputs": []
    },
    {
      "cell_type": "code",
      "source": [
        "#get shape of the training data-frame\n",
        "print(f'shape of original training set: {df_train.shape }')\n",
        "#get shape of the test data-frame\n",
        "print(f'shape of original test set: {df_test.shape }')"
      ],
      "metadata": {
        "id": "ZIZZ7SRwcqrv",
        "colab": {
          "base_uri": "https://localhost:8080/"
        },
        "outputId": "134ec31d-a4f6-40c2-919c-08dc75b38dbf"
      },
      "execution_count": null,
      "outputs": [
        {
          "output_type": "stream",
          "name": "stdout",
          "text": [
            "shape of original training set: (15441, 48)\n",
            "shape of original test set: (6291, 47)\n"
          ]
        }
      ]
    },
    {
      "cell_type": "code",
      "source": [
        "print(f'data type of training set: \\n {df_train.info()}')#get detailed info of the training data-frame"
      ],
      "metadata": {
        "id": "wCWna4Hr2ZqR",
        "colab": {
          "base_uri": "https://localhost:8080/"
        },
        "outputId": "6b2d5806-9ea6-48dc-90db-734af8d0f6c4"
      },
      "execution_count": null,
      "outputs": [
        {
          "output_type": "stream",
          "name": "stdout",
          "text": [
            "<class 'pandas.core.frame.DataFrame'>\n",
            "RangeIndex: 15441 entries, 0 to 15440\n",
            "Data columns (total 48 columns):\n",
            " #   Column                                        Non-Null Count  Dtype  \n",
            "---  ------                                        --------------  -----  \n",
            " 0   id                                            15441 non-null  int64  \n",
            " 1   scrape_id                                     15441 non-null  int64  \n",
            " 2   last_scraped                                  15441 non-null  object \n",
            " 3   name                                          15441 non-null  object \n",
            " 4   description                                   15216 non-null  object \n",
            " 5   picture_url                                   15441 non-null  object \n",
            " 6   host_id                                       15441 non-null  int64  \n",
            " 7   host_name                                     15441 non-null  object \n",
            " 8   host_since                                    15441 non-null  object \n",
            " 9   host_is_superhost                             15013 non-null  object \n",
            " 10  host_listings_count                           15441 non-null  float64\n",
            " 11  host_total_listings_count                     15441 non-null  float64\n",
            " 12  host_verifications                            15441 non-null  object \n",
            " 13  host_has_profile_pic                          15441 non-null  object \n",
            " 14  host_identity_verified                        15441 non-null  object \n",
            " 15  neighbourhood_cleansed                        15441 non-null  object \n",
            " 16  neighbourhood_group_cleansed                  15441 non-null  object \n",
            " 17  latitude                                      15441 non-null  float64\n",
            " 18  longitude                                     15441 non-null  float64\n",
            " 19  property_type                                 15441 non-null  object \n",
            " 20  room_type                                     15441 non-null  object \n",
            " 21  accommodates                                  15441 non-null  int64  \n",
            " 22  bathrooms_text                                15433 non-null  object \n",
            " 23  beds                                          15322 non-null  float64\n",
            " 24  amenities                                     15441 non-null  object \n",
            " 25  price                                         15441 non-null  float64\n",
            " 26  minimum_nights                                15441 non-null  int64  \n",
            " 27  maximum_nights                                15441 non-null  int64  \n",
            " 28  minimum_minimum_nights                        15441 non-null  int64  \n",
            " 29  maximum_minimum_nights                        15441 non-null  int64  \n",
            " 30  minimum_maximum_nights                        15441 non-null  int64  \n",
            " 31  maximum_maximum_nights                        15441 non-null  int64  \n",
            " 32  minimum_nights_avg_ntm                        15441 non-null  float64\n",
            " 33  maximum_nights_avg_ntm                        15441 non-null  float64\n",
            " 34  has_availability                              15441 non-null  object \n",
            " 35  availability_30                               15441 non-null  int64  \n",
            " 36  availability_60                               15441 non-null  int64  \n",
            " 37  availability_90                               15441 non-null  int64  \n",
            " 38  availability_365                              15441 non-null  int64  \n",
            " 39  calendar_last_scraped                         15441 non-null  object \n",
            " 40  number_of_reviews                             15441 non-null  int64  \n",
            " 41  number_of_reviews_ltm                         15441 non-null  int64  \n",
            " 42  number_of_reviews_l30d                        15441 non-null  int64  \n",
            " 43  instant_bookable                              15441 non-null  object \n",
            " 44  calculated_host_listings_count                15441 non-null  int64  \n",
            " 45  calculated_host_listings_count_entire_homes   15441 non-null  int64  \n",
            " 46  calculated_host_listings_count_private_rooms  15441 non-null  int64  \n",
            " 47  calculated_host_listings_count_shared_rooms   15441 non-null  int64  \n",
            "dtypes: float64(8), int64(21), object(19)\n",
            "memory usage: 5.7+ MB\n",
            "data type of training set: \n",
            " None\n"
          ]
        }
      ]
    },
    {
      "cell_type": "code",
      "source": [
        "df_train.isnull().sum() #check null value of the data set"
      ],
      "metadata": {
        "id": "QQPASOqac3sD",
        "colab": {
          "base_uri": "https://localhost:8080/"
        },
        "outputId": "9bb454e1-b75c-4af7-d151-8e6210b7c8e1"
      },
      "execution_count": null,
      "outputs": [
        {
          "output_type": "execute_result",
          "data": {
            "text/plain": [
              "id                                                0\n",
              "scrape_id                                         0\n",
              "last_scraped                                      0\n",
              "name                                              0\n",
              "description                                     225\n",
              "picture_url                                       0\n",
              "host_id                                           0\n",
              "host_name                                         0\n",
              "host_since                                        0\n",
              "host_is_superhost                               428\n",
              "host_listings_count                               0\n",
              "host_total_listings_count                         0\n",
              "host_verifications                                0\n",
              "host_has_profile_pic                              0\n",
              "host_identity_verified                            0\n",
              "neighbourhood_cleansed                            0\n",
              "neighbourhood_group_cleansed                      0\n",
              "latitude                                          0\n",
              "longitude                                         0\n",
              "property_type                                     0\n",
              "room_type                                         0\n",
              "accommodates                                      0\n",
              "bathrooms_text                                    8\n",
              "beds                                            119\n",
              "amenities                                         0\n",
              "price                                             0\n",
              "minimum_nights                                    0\n",
              "maximum_nights                                    0\n",
              "minimum_minimum_nights                            0\n",
              "maximum_minimum_nights                            0\n",
              "minimum_maximum_nights                            0\n",
              "maximum_maximum_nights                            0\n",
              "minimum_nights_avg_ntm                            0\n",
              "maximum_nights_avg_ntm                            0\n",
              "has_availability                                  0\n",
              "availability_30                                   0\n",
              "availability_60                                   0\n",
              "availability_90                                   0\n",
              "availability_365                                  0\n",
              "calendar_last_scraped                             0\n",
              "number_of_reviews                                 0\n",
              "number_of_reviews_ltm                             0\n",
              "number_of_reviews_l30d                            0\n",
              "instant_bookable                                  0\n",
              "calculated_host_listings_count                    0\n",
              "calculated_host_listings_count_entire_homes       0\n",
              "calculated_host_listings_count_private_rooms      0\n",
              "calculated_host_listings_count_shared_rooms       0\n",
              "dtype: int64"
            ]
          },
          "metadata": {},
          "execution_count": 312
        }
      ]
    },
    {
      "cell_type": "code",
      "source": [
        "#drop na value, as the proportion of missed is low\n",
        "df_train = df_train.dropna(subset=['host_is_superhost','beds','bathrooms_text','description'])"
      ],
      "metadata": {
        "id": "znVbe2DSrAsV"
      },
      "execution_count": null,
      "outputs": []
    },
    {
      "cell_type": "code",
      "source": [
        "#select features that will probobaly have effects on the price\n",
        "target_var = ['name',\n",
        "              'host_id',\n",
        "              'property_type',\n",
        "              'neighbourhood_cleansed',\n",
        "              'description',\n",
        "              'host_since',\n",
        "              'host_is_superhost',\n",
        "              'host_verifications',\n",
        "              'host_has_profile_pic',\n",
        "              'host_identity_verified',\n",
        "              'neighbourhood_group_cleansed',\n",
        "              'room_type',\n",
        "              'accommodates',\n",
        "              'bathrooms_text',\n",
        "              'beds',\n",
        "              'amenities',\n",
        "              'latitude',\n",
        "              'longitude',\n",
        "              'price',\n",
        "              'host_listings_count',\n",
        "              'has_availability',\n",
        "              'instant_bookable',\n",
        "              'number_of_reviews',\n",
        "              'availability_30',\n",
        "              'availability_60',\n",
        "              'availability_90',\n",
        "              'availability_365',\n",
        "              'minimum_nights',\n",
        "              'maximum_nights',\n",
        "              'minimum_minimum_nights',\n",
        "              'minimum_maximum_nights',\n",
        "              'minimum_nights_avg_ntm',\n",
        "              'maximum_nights_avg_ntm',\n",
        "              'calculated_host_listings_count',\n",
        "              'calculated_host_listings_count_entire_homes',\n",
        "              'calculated_host_listings_count_private_rooms',\n",
        "              'calculated_host_listings_count_shared_rooms'\n",
        "        ]\n",
        "df_train = df_train[target_var]"
      ],
      "metadata": {
        "id": "K1hDZcZL0LLX"
      },
      "execution_count": null,
      "outputs": []
    },
    {
      "cell_type": "markdown",
      "source": [
        "Step 2.1 Feature engineering for 'description'"
      ],
      "metadata": {
        "id": "dk5gWQqHvJV6"
      }
    },
    {
      "cell_type": "code",
      "source": [
        "# sentiment_score = []\n",
        "# df_train['description']"
      ],
      "metadata": {
        "id": "KVkwo9l52kbL"
      },
      "execution_count": null,
      "outputs": []
    },
    {
      "cell_type": "code",
      "source": [
        "# from nltk.sentiment import SentimentIntensityAnalyzer\n",
        "# nltk.download('vader_lexicon')\n",
        "\n",
        "# # Assuming df_train is your DataFrame with a 'text_column' containing text data\n",
        "# # Replace 'text_column' with the actual column name\n",
        "\n",
        "# # Example: Fill NaN values with an empty string\n",
        "# df_train['description'] = df_train['description'].fillna('')\n",
        "\n",
        "# # Create a SentimentIntensityAnalyzer\n",
        "# sia = SentimentIntensityAnalyzer()\n",
        "\n",
        "# # Function to calculate sentiment score using SentimentIntensityAnalyzer\n",
        "# def calculate_sentiment(text):\n",
        "#     return sia.polarity_scores(text)['compound']\n",
        "\n",
        "# df_train['description_count'] = df_train['description'].apply(lambda x: len(x.split()))\n",
        "# # Apply the function to create a new column 'sentiment_score'\n",
        "# df_train['sentiment_score'] = df_train['description'].apply(calculate_sentiment)"
      ],
      "metadata": {
        "id": "appDPvO38KYH"
      },
      "execution_count": null,
      "outputs": []
    },
    {
      "cell_type": "code",
      "source": [
        "df_train = df_train.drop('description',axis=1)"
      ],
      "metadata": {
        "id": "imIBB3t69yZ2"
      },
      "execution_count": null,
      "outputs": []
    },
    {
      "cell_type": "markdown",
      "source": [
        "Step2.1 Data-Cleaning for 'host_verifications'"
      ],
      "metadata": {
        "id": "-0jGFaOnskwX"
      }
    },
    {
      "cell_type": "code",
      "source": [
        "#check types of the verication\n",
        "df_train['host_verifications'].unique()"
      ],
      "metadata": {
        "id": "NYtN71BNuIa1",
        "colab": {
          "base_uri": "https://localhost:8080/"
        },
        "outputId": "cfb5c50a-2e66-41bb-a647-22d612b963f3"
      },
      "execution_count": null,
      "outputs": [
        {
          "output_type": "execute_result",
          "data": {
            "text/plain": [
              "array([\"['email', 'phone']\", \"['email', 'phone', 'work_email']\",\n",
              "       \"['phone']\", \"['phone', 'work_email']\", \"['email']\", '[]',\n",
              "       \"['email', 'work_email']\"], dtype=object)"
            ]
          },
          "metadata": {},
          "execution_count": 318
        }
      ]
    },
    {
      "cell_type": "code",
      "source": [
        "#apply one hot encoding for 'host_verifications'\n",
        "methods = ['email','phone','work_email']\n",
        "for method in methods:\n",
        "\n",
        "    df_train[method] = df_train['host_verifications'].apply(lambda x: 1 if method in x else 0)"
      ],
      "metadata": {
        "id": "028Tfbicsryl"
      },
      "execution_count": null,
      "outputs": []
    },
    {
      "cell_type": "code",
      "source": [
        "#sanity check\n",
        "df_train[['email','phone','work_email','host_verifications']]"
      ],
      "metadata": {
        "id": "ltPx6W32vEBZ",
        "colab": {
          "base_uri": "https://localhost:8080/",
          "height": 424
        },
        "outputId": "d01f4337-501b-49cc-c185-3769dba936a8"
      },
      "execution_count": null,
      "outputs": [
        {
          "output_type": "execute_result",
          "data": {
            "text/plain": [
              "       email  phone  work_email                host_verifications\n",
              "0          1      1           0                ['email', 'phone']\n",
              "1          1      1           0                ['email', 'phone']\n",
              "2          1      1           1  ['email', 'phone', 'work_email']\n",
              "3          1      1           0                ['email', 'phone']\n",
              "4          1      1           0                ['email', 'phone']\n",
              "...      ...    ...         ...                               ...\n",
              "15434      1      1           0                ['email', 'phone']\n",
              "15435      1      1           0                ['email', 'phone']\n",
              "15436      0      1           0                         ['phone']\n",
              "15438      1      1           0                ['email', 'phone']\n",
              "15440      1      1           0                ['email', 'phone']\n",
              "\n",
              "[14675 rows x 4 columns]"
            ],
            "text/html": [
              "\n",
              "  <div id=\"df-14d9d6a0-d5d9-4aa5-8451-3535b287450f\" class=\"colab-df-container\">\n",
              "    <div>\n",
              "<style scoped>\n",
              "    .dataframe tbody tr th:only-of-type {\n",
              "        vertical-align: middle;\n",
              "    }\n",
              "\n",
              "    .dataframe tbody tr th {\n",
              "        vertical-align: top;\n",
              "    }\n",
              "\n",
              "    .dataframe thead th {\n",
              "        text-align: right;\n",
              "    }\n",
              "</style>\n",
              "<table border=\"1\" class=\"dataframe\">\n",
              "  <thead>\n",
              "    <tr style=\"text-align: right;\">\n",
              "      <th></th>\n",
              "      <th>email</th>\n",
              "      <th>phone</th>\n",
              "      <th>work_email</th>\n",
              "      <th>host_verifications</th>\n",
              "    </tr>\n",
              "  </thead>\n",
              "  <tbody>\n",
              "    <tr>\n",
              "      <th>0</th>\n",
              "      <td>1</td>\n",
              "      <td>1</td>\n",
              "      <td>0</td>\n",
              "      <td>['email', 'phone']</td>\n",
              "    </tr>\n",
              "    <tr>\n",
              "      <th>1</th>\n",
              "      <td>1</td>\n",
              "      <td>1</td>\n",
              "      <td>0</td>\n",
              "      <td>['email', 'phone']</td>\n",
              "    </tr>\n",
              "    <tr>\n",
              "      <th>2</th>\n",
              "      <td>1</td>\n",
              "      <td>1</td>\n",
              "      <td>1</td>\n",
              "      <td>['email', 'phone', 'work_email']</td>\n",
              "    </tr>\n",
              "    <tr>\n",
              "      <th>3</th>\n",
              "      <td>1</td>\n",
              "      <td>1</td>\n",
              "      <td>0</td>\n",
              "      <td>['email', 'phone']</td>\n",
              "    </tr>\n",
              "    <tr>\n",
              "      <th>4</th>\n",
              "      <td>1</td>\n",
              "      <td>1</td>\n",
              "      <td>0</td>\n",
              "      <td>['email', 'phone']</td>\n",
              "    </tr>\n",
              "    <tr>\n",
              "      <th>...</th>\n",
              "      <td>...</td>\n",
              "      <td>...</td>\n",
              "      <td>...</td>\n",
              "      <td>...</td>\n",
              "    </tr>\n",
              "    <tr>\n",
              "      <th>15434</th>\n",
              "      <td>1</td>\n",
              "      <td>1</td>\n",
              "      <td>0</td>\n",
              "      <td>['email', 'phone']</td>\n",
              "    </tr>\n",
              "    <tr>\n",
              "      <th>15435</th>\n",
              "      <td>1</td>\n",
              "      <td>1</td>\n",
              "      <td>0</td>\n",
              "      <td>['email', 'phone']</td>\n",
              "    </tr>\n",
              "    <tr>\n",
              "      <th>15436</th>\n",
              "      <td>0</td>\n",
              "      <td>1</td>\n",
              "      <td>0</td>\n",
              "      <td>['phone']</td>\n",
              "    </tr>\n",
              "    <tr>\n",
              "      <th>15438</th>\n",
              "      <td>1</td>\n",
              "      <td>1</td>\n",
              "      <td>0</td>\n",
              "      <td>['email', 'phone']</td>\n",
              "    </tr>\n",
              "    <tr>\n",
              "      <th>15440</th>\n",
              "      <td>1</td>\n",
              "      <td>1</td>\n",
              "      <td>0</td>\n",
              "      <td>['email', 'phone']</td>\n",
              "    </tr>\n",
              "  </tbody>\n",
              "</table>\n",
              "<p>14675 rows × 4 columns</p>\n",
              "</div>\n",
              "    <div class=\"colab-df-buttons\">\n",
              "\n",
              "  <div class=\"colab-df-container\">\n",
              "    <button class=\"colab-df-convert\" onclick=\"convertToInteractive('df-14d9d6a0-d5d9-4aa5-8451-3535b287450f')\"\n",
              "            title=\"Convert this dataframe to an interactive table.\"\n",
              "            style=\"display:none;\">\n",
              "\n",
              "  <svg xmlns=\"http://www.w3.org/2000/svg\" height=\"24px\" viewBox=\"0 -960 960 960\">\n",
              "    <path d=\"M120-120v-720h720v720H120Zm60-500h600v-160H180v160Zm220 220h160v-160H400v160Zm0 220h160v-160H400v160ZM180-400h160v-160H180v160Zm440 0h160v-160H620v160ZM180-180h160v-160H180v160Zm440 0h160v-160H620v160Z\"/>\n",
              "  </svg>\n",
              "    </button>\n",
              "\n",
              "  <style>\n",
              "    .colab-df-container {\n",
              "      display:flex;\n",
              "      gap: 12px;\n",
              "    }\n",
              "\n",
              "    .colab-df-convert {\n",
              "      background-color: #E8F0FE;\n",
              "      border: none;\n",
              "      border-radius: 50%;\n",
              "      cursor: pointer;\n",
              "      display: none;\n",
              "      fill: #1967D2;\n",
              "      height: 32px;\n",
              "      padding: 0 0 0 0;\n",
              "      width: 32px;\n",
              "    }\n",
              "\n",
              "    .colab-df-convert:hover {\n",
              "      background-color: #E2EBFA;\n",
              "      box-shadow: 0px 1px 2px rgba(60, 64, 67, 0.3), 0px 1px 3px 1px rgba(60, 64, 67, 0.15);\n",
              "      fill: #174EA6;\n",
              "    }\n",
              "\n",
              "    .colab-df-buttons div {\n",
              "      margin-bottom: 4px;\n",
              "    }\n",
              "\n",
              "    [theme=dark] .colab-df-convert {\n",
              "      background-color: #3B4455;\n",
              "      fill: #D2E3FC;\n",
              "    }\n",
              "\n",
              "    [theme=dark] .colab-df-convert:hover {\n",
              "      background-color: #434B5C;\n",
              "      box-shadow: 0px 1px 3px 1px rgba(0, 0, 0, 0.15);\n",
              "      filter: drop-shadow(0px 1px 2px rgba(0, 0, 0, 0.3));\n",
              "      fill: #FFFFFF;\n",
              "    }\n",
              "  </style>\n",
              "\n",
              "    <script>\n",
              "      const buttonEl =\n",
              "        document.querySelector('#df-14d9d6a0-d5d9-4aa5-8451-3535b287450f button.colab-df-convert');\n",
              "      buttonEl.style.display =\n",
              "        google.colab.kernel.accessAllowed ? 'block' : 'none';\n",
              "\n",
              "      async function convertToInteractive(key) {\n",
              "        const element = document.querySelector('#df-14d9d6a0-d5d9-4aa5-8451-3535b287450f');\n",
              "        const dataTable =\n",
              "          await google.colab.kernel.invokeFunction('convertToInteractive',\n",
              "                                                    [key], {});\n",
              "        if (!dataTable) return;\n",
              "\n",
              "        const docLinkHtml = 'Like what you see? Visit the ' +\n",
              "          '<a target=\"_blank\" href=https://colab.research.google.com/notebooks/data_table.ipynb>data table notebook</a>'\n",
              "          + ' to learn more about interactive tables.';\n",
              "        element.innerHTML = '';\n",
              "        dataTable['output_type'] = 'display_data';\n",
              "        await google.colab.output.renderOutput(dataTable, element);\n",
              "        const docLink = document.createElement('div');\n",
              "        docLink.innerHTML = docLinkHtml;\n",
              "        element.appendChild(docLink);\n",
              "      }\n",
              "    </script>\n",
              "  </div>\n",
              "\n",
              "\n",
              "<div id=\"df-92eab40f-f4cf-4de0-b6da-5863e4247751\">\n",
              "  <button class=\"colab-df-quickchart\" onclick=\"quickchart('df-92eab40f-f4cf-4de0-b6da-5863e4247751')\"\n",
              "            title=\"Suggest charts\"\n",
              "            style=\"display:none;\">\n",
              "\n",
              "<svg xmlns=\"http://www.w3.org/2000/svg\" height=\"24px\"viewBox=\"0 0 24 24\"\n",
              "     width=\"24px\">\n",
              "    <g>\n",
              "        <path d=\"M19 3H5c-1.1 0-2 .9-2 2v14c0 1.1.9 2 2 2h14c1.1 0 2-.9 2-2V5c0-1.1-.9-2-2-2zM9 17H7v-7h2v7zm4 0h-2V7h2v10zm4 0h-2v-4h2v4z\"/>\n",
              "    </g>\n",
              "</svg>\n",
              "  </button>\n",
              "\n",
              "<style>\n",
              "  .colab-df-quickchart {\n",
              "      --bg-color: #E8F0FE;\n",
              "      --fill-color: #1967D2;\n",
              "      --hover-bg-color: #E2EBFA;\n",
              "      --hover-fill-color: #174EA6;\n",
              "      --disabled-fill-color: #AAA;\n",
              "      --disabled-bg-color: #DDD;\n",
              "  }\n",
              "\n",
              "  [theme=dark] .colab-df-quickchart {\n",
              "      --bg-color: #3B4455;\n",
              "      --fill-color: #D2E3FC;\n",
              "      --hover-bg-color: #434B5C;\n",
              "      --hover-fill-color: #FFFFFF;\n",
              "      --disabled-bg-color: #3B4455;\n",
              "      --disabled-fill-color: #666;\n",
              "  }\n",
              "\n",
              "  .colab-df-quickchart {\n",
              "    background-color: var(--bg-color);\n",
              "    border: none;\n",
              "    border-radius: 50%;\n",
              "    cursor: pointer;\n",
              "    display: none;\n",
              "    fill: var(--fill-color);\n",
              "    height: 32px;\n",
              "    padding: 0;\n",
              "    width: 32px;\n",
              "  }\n",
              "\n",
              "  .colab-df-quickchart:hover {\n",
              "    background-color: var(--hover-bg-color);\n",
              "    box-shadow: 0 1px 2px rgba(60, 64, 67, 0.3), 0 1px 3px 1px rgba(60, 64, 67, 0.15);\n",
              "    fill: var(--button-hover-fill-color);\n",
              "  }\n",
              "\n",
              "  .colab-df-quickchart-complete:disabled,\n",
              "  .colab-df-quickchart-complete:disabled:hover {\n",
              "    background-color: var(--disabled-bg-color);\n",
              "    fill: var(--disabled-fill-color);\n",
              "    box-shadow: none;\n",
              "  }\n",
              "\n",
              "  .colab-df-spinner {\n",
              "    border: 2px solid var(--fill-color);\n",
              "    border-color: transparent;\n",
              "    border-bottom-color: var(--fill-color);\n",
              "    animation:\n",
              "      spin 1s steps(1) infinite;\n",
              "  }\n",
              "\n",
              "  @keyframes spin {\n",
              "    0% {\n",
              "      border-color: transparent;\n",
              "      border-bottom-color: var(--fill-color);\n",
              "      border-left-color: var(--fill-color);\n",
              "    }\n",
              "    20% {\n",
              "      border-color: transparent;\n",
              "      border-left-color: var(--fill-color);\n",
              "      border-top-color: var(--fill-color);\n",
              "    }\n",
              "    30% {\n",
              "      border-color: transparent;\n",
              "      border-left-color: var(--fill-color);\n",
              "      border-top-color: var(--fill-color);\n",
              "      border-right-color: var(--fill-color);\n",
              "    }\n",
              "    40% {\n",
              "      border-color: transparent;\n",
              "      border-right-color: var(--fill-color);\n",
              "      border-top-color: var(--fill-color);\n",
              "    }\n",
              "    60% {\n",
              "      border-color: transparent;\n",
              "      border-right-color: var(--fill-color);\n",
              "    }\n",
              "    80% {\n",
              "      border-color: transparent;\n",
              "      border-right-color: var(--fill-color);\n",
              "      border-bottom-color: var(--fill-color);\n",
              "    }\n",
              "    90% {\n",
              "      border-color: transparent;\n",
              "      border-bottom-color: var(--fill-color);\n",
              "    }\n",
              "  }\n",
              "</style>\n",
              "\n",
              "  <script>\n",
              "    async function quickchart(key) {\n",
              "      const quickchartButtonEl =\n",
              "        document.querySelector('#' + key + ' button');\n",
              "      quickchartButtonEl.disabled = true;  // To prevent multiple clicks.\n",
              "      quickchartButtonEl.classList.add('colab-df-spinner');\n",
              "      try {\n",
              "        const charts = await google.colab.kernel.invokeFunction(\n",
              "            'suggestCharts', [key], {});\n",
              "      } catch (error) {\n",
              "        console.error('Error during call to suggestCharts:', error);\n",
              "      }\n",
              "      quickchartButtonEl.classList.remove('colab-df-spinner');\n",
              "      quickchartButtonEl.classList.add('colab-df-quickchart-complete');\n",
              "    }\n",
              "    (() => {\n",
              "      let quickchartButtonEl =\n",
              "        document.querySelector('#df-92eab40f-f4cf-4de0-b6da-5863e4247751 button');\n",
              "      quickchartButtonEl.style.display =\n",
              "        google.colab.kernel.accessAllowed ? 'block' : 'none';\n",
              "    })();\n",
              "  </script>\n",
              "</div>\n",
              "    </div>\n",
              "  </div>\n"
            ]
          },
          "metadata": {},
          "execution_count": 320
        }
      ]
    },
    {
      "cell_type": "markdown",
      "source": [
        "Step2.2 Data-Cleaning for 'amenities'"
      ],
      "metadata": {
        "id": "UmW9S15hvta5"
      }
    },
    {
      "cell_type": "code",
      "source": [
        "df_train['amenities_list'] = df_train['amenities'].str.split(',')\n",
        "\n",
        "# Use explode to create a new row for each amenity\n",
        "df_amenities = df_train.explode('amenities_list')\n",
        "\n",
        "# Get unique values\n",
        "unique_amenities = df_amenities['amenities_list'].unique()"
      ],
      "metadata": {
        "id": "BnVD841wxOkA"
      },
      "execution_count": null,
      "outputs": []
    },
    {
      "cell_type": "code",
      "source": [
        "print(f'there are {len(unique_amenities)} of attributes in train df')"
      ],
      "metadata": {
        "id": "Hz19kxnl3cdz",
        "colab": {
          "base_uri": "https://localhost:8080/"
        },
        "outputId": "74282300-6a01-4621-c74c-9c7e191fbd99"
      },
      "execution_count": null,
      "outputs": [
        {
          "output_type": "stream",
          "name": "stdout",
          "text": [
            "there are 4595 of attributes in train df\n"
          ]
        }
      ]
    },
    {
      "cell_type": "code",
      "source": [
        "#check frequency of top 10 amentities\n",
        "top_amenities = df_amenities['amenities_list'].value_counts().head(10)\n",
        "top_amenities"
      ],
      "metadata": {
        "id": "muJCJRX_4FFY",
        "colab": {
          "base_uri": "https://localhost:8080/"
        },
        "outputId": "c4aa4bae-78ef-449d-df5f-ca197807bc19"
      },
      "execution_count": null,
      "outputs": [
        {
          "output_type": "execute_result",
          "data": {
            "text/plain": [
              " \"Kitchen\"                  13203\n",
              " \"Wifi\"                     13170\n",
              " \"Smoke alarm\"              13097\n",
              " \"Essentials\"               12410\n",
              " \"Hangers\"                  11400\n",
              " \"Hot water\"                10722\n",
              " \"Iron\"                     10261\n",
              " \"Dishes and silverware\"    10200\n",
              " \"Shampoo\"                   9935\n",
              " \"Hair dryer\"                9882\n",
              "Name: amenities_list, dtype: int64"
            ]
          },
          "metadata": {},
          "execution_count": 323
        }
      ]
    },
    {
      "cell_type": "code",
      "source": [
        "#check frequency of tail 4300 amentities\n",
        "top_amenities = df_amenities['amenities_list'].value_counts().tail(4300)\n",
        "top_amenities"
      ],
      "metadata": {
        "id": "-8LShjxC4TBP",
        "colab": {
          "base_uri": "https://localhost:8080/"
        },
        "outputId": "9dfcfee6-d096-4ff4-8fb2-9b490c20538c"
      },
      "execution_count": null,
      "outputs": [
        {
          "output_type": "execute_result",
          "data": {
            "text/plain": [
              " \"Samsung stainless steel gas stove\"                                               83\n",
              " french press                                                                      83\n",
              " \"Kitchen\"]                                                                        82\n",
              " \"Marina view\"                                                                     82\n",
              " \"Free residential garage on premises \\u2013 2 spaces\"                             82\n",
              "                                                                                   ..\n",
              " \"Handmade Bluetooth sound system\"                                                  1\n",
              " \"Kitchen aid  refrigerator\"                                                        1\n",
              "[\"54\\\" HDTV with Amazon Prime Video                                                 1\n",
              " \"Fast wifi \\u2013 331 Mbps\"                                                        1\n",
              " \"LG French Door. Water Dispenser not working but Ice Maker is OK refrigerator\"     1\n",
              "Name: amenities_list, Length: 4300, dtype: int64"
            ]
          },
          "metadata": {},
          "execution_count": 324
        }
      ]
    },
    {
      "cell_type": "code",
      "source": [
        "#using attributes ranked between 10 to 40\n",
        "top_amenities = df_amenities['amenities_list'].value_counts().head(50).tail(10).index"
      ],
      "metadata": {
        "id": "4tbrjHPw_rHJ"
      },
      "execution_count": null,
      "outputs": []
    },
    {
      "cell_type": "code",
      "source": [
        "# top_amenities = ['Sound system', 'TV', 'Wifi', 'Air conditioning' ,\n",
        "#           'Pool', 'Washer', 'Dryer',\n",
        "#           'BBQ grill', 'Clothing storage', 'Kitchen',\n",
        "#           'Stove', 'Bathtub', 'Microwave','Refrigerator',\n",
        "#           'Freezer','Mini fridge']\n",
        "top_amenities = [\"Hair dryer\", \"Cooking basics\", \"Refrigerator\", \"Microwave\",\n",
        "        \"Bed linens\", \"Dedicated workspace\", \"Fire extinguisher\",\n",
        "        \"Air conditioning\", \"First aid kit\"]\n",
        "#one hot encoding for the selected amentities\n",
        "for attr in top_amenities:\n",
        "     indicator = attr.replace(' ', '_').lower()\n",
        "     df_train[indicator] = np.where(df_train['amenities'].str.contains(attr, case=False), 1, 0)\n"
      ],
      "metadata": {
        "id": "sZBEAf0Qwi2w"
      },
      "execution_count": null,
      "outputs": []
    },
    {
      "cell_type": "code",
      "source": [
        "#create amentities_count as a new feature\n",
        "df_train['amenities_count'] = df_train['amenities'].apply(lambda x: len(eval(x)))\n",
        "\n",
        "# # Display the DataFrame with the new 'amenities_count' column\n",
        "print(df_train[['amenities', 'amenities_count']])\n",
        "\n",
        "df_train = df_train.drop('amenities_list',axis = 1)\n",
        "df_train = df_train.drop('amenities',axis = 1)"
      ],
      "metadata": {
        "id": "2NZK51i4mUMs",
        "colab": {
          "base_uri": "https://localhost:8080/"
        },
        "outputId": "8ac0b004-90e1-4235-ffc3-d49dc9876455"
      },
      "execution_count": null,
      "outputs": [
        {
          "output_type": "stream",
          "name": "stdout",
          "text": [
            "                                               amenities  amenities_count\n",
            "0      [\"Stove\", \"Iron\", \"Window guards\", \"Smoking al...               35\n",
            "1      [\"Stove\", \"Carbon monoxide alarm\", \"Iron\", \"Fr...               58\n",
            "2      [\"Stove\", \"Carbon monoxide alarm\", \"Iron\", \"Ho...               28\n",
            "3      [\"Free parking on premises\", \"Smoke alarm\", \"C...               13\n",
            "4      [\"Carbon monoxide alarm\", \"Iron\", \"Air conditi...               23\n",
            "...                                                  ...              ...\n",
            "15434  [\"Carbon monoxide alarm\", \"Iron\", \"Stainless s...               52\n",
            "15435  [\"Courtyard view\", \"Carbon monoxide alarm\", \"I...               51\n",
            "15436  [\"Free parking on premises\", \"Smoke alarm\", \"D...               20\n",
            "15438  [\"Stove\", \"Carbon monoxide alarm\", \"Iron\", \"Fr...               52\n",
            "15440  [\"Stove\", \"Carbon monoxide alarm\", \"Single ove...               34\n",
            "\n",
            "[14675 rows x 2 columns]\n"
          ]
        }
      ]
    },
    {
      "cell_type": "markdown",
      "source": [
        "Step2.3 Data-Cleaning for 'name'\n",
        "\n",
        "in this part, I will extract number of bedroom, whether the room is a studio or not and the star rate. The reason why I'm not using numbers of bed and bathroom is that they will are listed on the different columns"
      ],
      "metadata": {
        "id": "1t4xESN8yUT_"
      }
    },
    {
      "cell_type": "code",
      "source": [
        "#check types of data in the column\n",
        "df_train['name'][1]"
      ],
      "metadata": {
        "id": "QxCOZg0H5Ze_",
        "colab": {
          "base_uri": "https://localhost:8080/",
          "height": 35
        },
        "outputId": "b3689ece-2d5c-4675-cd5f-6acd3c330b37"
      },
      "execution_count": null,
      "outputs": [
        {
          "output_type": "execute_result",
          "data": {
            "text/plain": [
              "'Rental unit in Venice · ★4.74 · 2 bedrooms · 2 beds · 2 baths'"
            ],
            "application/vnd.google.colaboratory.intrinsic+json": {
              "type": "string"
            }
          },
          "metadata": {},
          "execution_count": 328
        }
      ]
    },
    {
      "cell_type": "code",
      "source": [
        "#check whether the house is a studio or not, than apply one hot encoding\n",
        "df_train['is_studio'] = df_train['name'].apply(lambda x: 1 if 'Studio' in x.split() else 0)"
      ],
      "metadata": {
        "id": "kxev5R_CyTdo"
      },
      "execution_count": null,
      "outputs": []
    },
    {
      "cell_type": "code",
      "source": [
        "#chekc number of houses which are studios\n",
        "df_train['is_studio'].sum()"
      ],
      "metadata": {
        "id": "AGBl5d6Oz1Lq",
        "colab": {
          "base_uri": "https://localhost:8080/"
        },
        "outputId": "e9d615ee-191a-4aff-9009-b44bbe93757b"
      },
      "execution_count": null,
      "outputs": [
        {
          "output_type": "execute_result",
          "data": {
            "text/plain": [
              "805"
            ]
          },
          "metadata": {},
          "execution_count": 330
        }
      ]
    },
    {
      "cell_type": "code",
      "source": [
        "#check correlation\n",
        "rows_is_studio = df_train[df_train['is_studio'] == 1][['is_studio', 'price']]\n",
        "rows_isnot_studio = df_train[df_train['is_studio'] == 0][['is_studio', 'price']]\n",
        "mean_price_is_studio = rows_is_studio['price'].mean()\n",
        "mean_price_isnot_studio = rows_isnot_studio['price'].mean()\n",
        "\n",
        "# Print mean prices\n",
        "print(f\"Mean price for studio: {mean_price_is_studio}\")\n",
        "print(f\"Mean price for non-studio: {mean_price_isnot_studio}\")\n",
        "\n",
        "# Plot the mean prices\n",
        "sns.barplot(x=['Studio', 'Non-Studio'], y=[mean_price_is_studio, mean_price_isnot_studio])\n",
        "plt.ylabel('Mean Price')\n",
        "plt.title('Mean Price for Studio and Non-Studio Listings')\n",
        "plt.show()"
      ],
      "metadata": {
        "id": "Piregi9Y2rXU",
        "colab": {
          "base_uri": "https://localhost:8080/",
          "height": 488
        },
        "outputId": "553209fd-298c-4b82-9070-48cb5a2ac1a9"
      },
      "execution_count": null,
      "outputs": [
        {
          "output_type": "stream",
          "name": "stdout",
          "text": [
            "Mean price for studio: 1.0844720496894409\n",
            "Mean price for non-studio: 1.998341744772891\n"
          ]
        },
        {
          "output_type": "display_data",
          "data": {
            "text/plain": [
              "<Figure size 640x480 with 1 Axes>"
            ],
            "image/png": "[encoded data removed]"
          },
          "metadata": {}
        }
      ]
    },
    {
      "cell_type": "code",
      "source": [
        "df_train = df_train.drop('host_verifications',axis = 1)"
      ],
      "metadata": {
        "id": "ui3fcdqTPfSI"
      },
      "execution_count": null,
      "outputs": []
    },
    {
      "cell_type": "code",
      "source": [
        "#extract number of bedrooms from name column\n",
        "bedroom_list = []\n",
        "# Define a regular expression pattern\n",
        "pattern = r'(\\d+)\\s*bedrooms?'\n",
        "for info in df_train['name'].values:\n",
        "\n",
        "# Use re.search to find the match in the string\n",
        "    match = re.search(pattern, info)\n",
        "\n",
        "# If a match is found, extract the number of bedrooms\n",
        "    if match:\n",
        "        num_bedrooms = int(match.group(1))\n",
        "    else:\n",
        "        num_bedrooms = None\n",
        "\n",
        "    bedroom_list.append(num_bedrooms)\n",
        "\n",
        "df_train['num_bedrooms'] = bedroom_list"
      ],
      "metadata": {
        "id": "mhpGF5W50p2l"
      },
      "execution_count": null,
      "outputs": []
    },
    {
      "cell_type": "code",
      "source": [
        "#sanity check\n",
        "df_train[['num_bedrooms','name']]"
      ],
      "metadata": {
        "id": "iNvVX5U909er",
        "colab": {
          "base_uri": "https://localhost:8080/",
          "height": 424
        },
        "outputId": "5f202b9e-c10a-4d1a-fd34-3b7083f50434"
      },
      "execution_count": null,
      "outputs": [
        {
          "output_type": "execute_result",
          "data": {
            "text/plain": [
              "       num_bedrooms                                               name\n",
              "0               1.0  Home in Torrance · 1 bedroom · 1 bed · 1 share...\n",
              "1               2.0  Rental unit in Venice · ★4.74 · 2 bedrooms · 2...\n",
              "2               3.0  Home in Avalon · ★5.0 · 3 bedrooms · 4 beds · ...\n",
              "3               4.0  Home in Santa Clarita · 4 bedrooms · 5 beds · ...\n",
              "4               1.0  Hotel in Los Angeles · ★New · 1 bedroom · 1 be...\n",
              "...             ...                                                ...\n",
              "15434           4.0  Home in Diamond Bar · 4 bedrooms · 4 beds · 2 ...\n",
              "15435           1.0  Condo in Santa Monica · ★4.86 · 1 bedroom · 1 ...\n",
              "15436           2.0  Rental unit in Glendale · 2 bedrooms · 2 beds ...\n",
              "15438           1.0  Rental unit in Los Angeles · 1 bedroom · 1 bed...\n",
              "15440           2.0  Rental unit in Los Angeles · ★New · 2 bedrooms...\n",
              "\n",
              "[14675 rows x 2 columns]"
            ],
            "text/html": [
              "\n",
              "  <div id=\"df-3f0530b3-0827-411b-af1d-5a0bb9aaddc8\" class=\"colab-df-container\">\n",
              "    <div>\n",
              "<style scoped>\n",
              "    .dataframe tbody tr th:only-of-type {\n",
              "        vertical-align: middle;\n",
              "    }\n",
              "\n",
              "    .dataframe tbody tr th {\n",
              "        vertical-align: top;\n",
              "    }\n",
              "\n",
              "    .dataframe thead th {\n",
              "        text-align: right;\n",
              "    }\n",
              "</style>\n",
              "<table border=\"1\" class=\"dataframe\">\n",
              "  <thead>\n",
              "    <tr style=\"text-align: right;\">\n",
              "      <th></th>\n",
              "      <th>num_bedrooms</th>\n",
              "      <th>name</th>\n",
              "    </tr>\n",
              "  </thead>\n",
              "  <tbody>\n",
              "    <tr>\n",
              "      <th>0</th>\n",
              "      <td>1.0</td>\n",
              "      <td>Home in Torrance · 1 bedroom · 1 bed · 1 share...</td>\n",
              "    </tr>\n",
              "    <tr>\n",
              "      <th>1</th>\n",
              "      <td>2.0</td>\n",
              "      <td>Rental unit in Venice · ★4.74 · 2 bedrooms · 2...</td>\n",
              "    </tr>\n",
              "    <tr>\n",
              "      <th>2</th>\n",
              "      <td>3.0</td>\n",
              "      <td>Home in Avalon · ★5.0 · 3 bedrooms · 4 beds · ...</td>\n",
              "    </tr>\n",
              "    <tr>\n",
              "      <th>3</th>\n",
              "      <td>4.0</td>\n",
              "      <td>Home in Santa Clarita · 4 bedrooms · 5 beds · ...</td>\n",
              "    </tr>\n",
              "    <tr>\n",
              "      <th>4</th>\n",
              "      <td>1.0</td>\n",
              "      <td>Hotel in Los Angeles · ★New · 1 bedroom · 1 be...</td>\n",
              "    </tr>\n",
              "    <tr>\n",
              "      <th>...</th>\n",
              "      <td>...</td>\n",
              "      <td>...</td>\n",
              "    </tr>\n",
              "    <tr>\n",
              "      <th>15434</th>\n",
              "      <td>4.0</td>\n",
              "      <td>Home in Diamond Bar · 4 bedrooms · 4 beds · 2 ...</td>\n",
              "    </tr>\n",
              "    <tr>\n",
              "      <th>15435</th>\n",
              "      <td>1.0</td>\n",
              "      <td>Condo in Santa Monica · ★4.86 · 1 bedroom · 1 ...</td>\n",
              "    </tr>\n",
              "    <tr>\n",
              "      <th>15436</th>\n",
              "      <td>2.0</td>\n",
              "      <td>Rental unit in Glendale · 2 bedrooms · 2 beds ...</td>\n",
              "    </tr>\n",
              "    <tr>\n",
              "      <th>15438</th>\n",
              "      <td>1.0</td>\n",
              "      <td>Rental unit in Los Angeles · 1 bedroom · 1 bed...</td>\n",
              "    </tr>\n",
              "    <tr>\n",
              "      <th>15440</th>\n",
              "      <td>2.0</td>\n",
              "      <td>Rental unit in Los Angeles · ★New · 2 bedrooms...</td>\n",
              "    </tr>\n",
              "  </tbody>\n",
              "</table>\n",
              "<p>14675 rows × 2 columns</p>\n",
              "</div>\n",
              "    <div class=\"colab-df-buttons\">\n",
              "\n",
              "  <div class=\"colab-df-container\">\n",
              "    <button class=\"colab-df-convert\" onclick=\"convertToInteractive('df-3f0530b3-0827-411b-af1d-5a0bb9aaddc8')\"\n",
              "            title=\"Convert this dataframe to an interactive table.\"\n",
              "            style=\"display:none;\">\n",
              "\n",
              "  <svg xmlns=\"http://www.w3.org/2000/svg\" height=\"24px\" viewBox=\"0 -960 960 960\">\n",
              "    <path d=\"M120-120v-720h720v720H120Zm60-500h600v-160H180v160Zm220 220h160v-160H400v160Zm0 220h160v-160H400v160ZM180-400h160v-160H180v160Zm440 0h160v-160H620v160ZM180-180h160v-160H180v160Zm440 0h160v-160H620v160Z\"/>\n",
              "  </svg>\n",
              "    </button>\n",
              "\n",
              "  <style>\n",
              "    .colab-df-container {\n",
              "      display:flex;\n",
              "      gap: 12px;\n",
              "    }\n",
              "\n",
              "    .colab-df-convert {\n",
              "      background-color: #E8F0FE;\n",
              "      border: none;\n",
              "      border-radius: 50%;\n",
              "      cursor: pointer;\n",
              "      display: none;\n",
              "      fill: #1967D2;\n",
              "      height: 32px;\n",
              "      padding: 0 0 0 0;\n",
              "      width: 32px;\n",
              "    }\n",
              "\n",
              "    .colab-df-convert:hover {\n",
              "      background-color: #E2EBFA;\n",
              "      box-shadow: 0px 1px 2px rgba(60, 64, 67, 0.3), 0px 1px 3px 1px rgba(60, 64, 67, 0.15);\n",
              "      fill: #174EA6;\n",
              "    }\n",
              "\n",
              "    .colab-df-buttons div {\n",
              "      margin-bottom: 4px;\n",
              "    }\n",
              "\n",
              "    [theme=dark] .colab-df-convert {\n",
              "      background-color: #3B4455;\n",
              "      fill: #D2E3FC;\n",
              "    }\n",
              "\n",
              "    [theme=dark] .colab-df-convert:hover {\n",
              "      background-color: #434B5C;\n",
              "      box-shadow: 0px 1px 3px 1px rgba(0, 0, 0, 0.15);\n",
              "      filter: drop-shadow(0px 1px 2px rgba(0, 0, 0, 0.3));\n",
              "      fill: #FFFFFF;\n",
              "    }\n",
              "  </style>\n",
              "\n",
              "    <script>\n",
              "      const buttonEl =\n",
              "        document.querySelector('#df-3f0530b3-0827-411b-af1d-5a0bb9aaddc8 button.colab-df-convert');\n",
              "      buttonEl.style.display =\n",
              "        google.colab.kernel.accessAllowed ? 'block' : 'none';\n",
              "\n",
              "      async function convertToInteractive(key) {\n",
              "        const element = document.querySelector('#df-3f0530b3-0827-411b-af1d-5a0bb9aaddc8');\n",
              "        const dataTable =\n",
              "          await google.colab.kernel.invokeFunction('convertToInteractive',\n",
              "                                                    [key], {});\n",
              "        if (!dataTable) return;\n",
              "\n",
              "        const docLinkHtml = 'Like what you see? Visit the ' +\n",
              "          '<a target=\"_blank\" href=https://colab.research.google.com/notebooks/data_table.ipynb>data table notebook</a>'\n",
              "          + ' to learn more about interactive tables.';\n",
              "        element.innerHTML = '';\n",
              "        dataTable['output_type'] = 'display_data';\n",
              "        await google.colab.output.renderOutput(dataTable, element);\n",
              "        const docLink = document.createElement('div');\n",
              "        docLink.innerHTML = docLinkHtml;\n",
              "        element.appendChild(docLink);\n",
              "      }\n",
              "    </script>\n",
              "  </div>\n",
              "\n",
              "\n",
              "<div id=\"df-5d91de5c-caec-4898-97a3-427abc08a862\">\n",
              "  <button class=\"colab-df-quickchart\" onclick=\"quickchart('df-5d91de5c-caec-4898-97a3-427abc08a862')\"\n",
              "            title=\"Suggest charts\"\n",
              "            style=\"display:none;\">\n",
              "\n",
              "<svg xmlns=\"http://www.w3.org/2000/svg\" height=\"24px\"viewBox=\"0 0 24 24\"\n",
              "     width=\"24px\">\n",
              "    <g>\n",
              "        <path d=\"M19 3H5c-1.1 0-2 .9-2 2v14c0 1.1.9 2 2 2h14c1.1 0 2-.9 2-2V5c0-1.1-.9-2-2-2zM9 17H7v-7h2v7zm4 0h-2V7h2v10zm4 0h-2v-4h2v4z\"/>\n",
              "    </g>\n",
              "</svg>\n",
              "  </button>\n",
              "\n",
              "<style>\n",
              "  .colab-df-quickchart {\n",
              "      --bg-color: #E8F0FE;\n",
              "      --fill-color: #1967D2;\n",
              "      --hover-bg-color: #E2EBFA;\n",
              "      --hover-fill-color: #174EA6;\n",
              "      --disabled-fill-color: #AAA;\n",
              "      --disabled-bg-color: #DDD;\n",
              "  }\n",
              "\n",
              "  [theme=dark] .colab-df-quickchart {\n",
              "      --bg-color: #3B4455;\n",
              "      --fill-color: #D2E3FC;\n",
              "      --hover-bg-color: #434B5C;\n",
              "      --hover-fill-color: #FFFFFF;\n",
              "      --disabled-bg-color: #3B4455;\n",
              "      --disabled-fill-color: #666;\n",
              "  }\n",
              "\n",
              "  .colab-df-quickchart {\n",
              "    background-color: var(--bg-color);\n",
              "    border: none;\n",
              "    border-radius: 50%;\n",
              "    cursor: pointer;\n",
              "    display: none;\n",
              "    fill: var(--fill-color);\n",
              "    height: 32px;\n",
              "    padding: 0;\n",
              "    width: 32px;\n",
              "  }\n",
              "\n",
              "  .colab-df-quickchart:hover {\n",
              "    background-color: var(--hover-bg-color);\n",
              "    box-shadow: 0 1px 2px rgba(60, 64, 67, 0.3), 0 1px 3px 1px rgba(60, 64, 67, 0.15);\n",
              "    fill: var(--button-hover-fill-color);\n",
              "  }\n",
              "\n",
              "  .colab-df-quickchart-complete:disabled,\n",
              "  .colab-df-quickchart-complete:disabled:hover {\n",
              "    background-color: var(--disabled-bg-color);\n",
              "    fill: var(--disabled-fill-color);\n",
              "    box-shadow: none;\n",
              "  }\n",
              "\n",
              "  .colab-df-spinner {\n",
              "    border: 2px solid var(--fill-color);\n",
              "    border-color: transparent;\n",
              "    border-bottom-color: var(--fill-color);\n",
              "    animation:\n",
              "      spin 1s steps(1) infinite;\n",
              "  }\n",
              "\n",
              "  @keyframes spin {\n",
              "    0% {\n",
              "      border-color: transparent;\n",
              "      border-bottom-color: var(--fill-color);\n",
              "      border-left-color: var(--fill-color);\n",
              "    }\n",
              "    20% {\n",
              "      border-color: transparent;\n",
              "      border-left-color: var(--fill-color);\n",
              "      border-top-color: var(--fill-color);\n",
              "    }\n",
              "    30% {\n",
              "      border-color: transparent;\n",
              "      border-left-color: var(--fill-color);\n",
              "      border-top-color: var(--fill-color);\n",
              "      border-right-color: var(--fill-color);\n",
              "    }\n",
              "    40% {\n",
              "      border-color: transparent;\n",
              "      border-right-color: var(--fill-color);\n",
              "      border-top-color: var(--fill-color);\n",
              "    }\n",
              "    60% {\n",
              "      border-color: transparent;\n",
              "      border-right-color: var(--fill-color);\n",
              "    }\n",
              "    80% {\n",
              "      border-color: transparent;\n",
              "      border-right-color: var(--fill-color);\n",
              "      border-bottom-color: var(--fill-color);\n",
              "    }\n",
              "    90% {\n",
              "      border-color: transparent;\n",
              "      border-bottom-color: var(--fill-color);\n",
              "    }\n",
              "  }\n",
              "</style>\n",
              "\n",
              "  <script>\n",
              "    async function quickchart(key) {\n",
              "      const quickchartButtonEl =\n",
              "        document.querySelector('#' + key + ' button');\n",
              "      quickchartButtonEl.disabled = true;  // To prevent multiple clicks.\n",
              "      quickchartButtonEl.classList.add('colab-df-spinner');\n",
              "      try {\n",
              "        const charts = await google.colab.kernel.invokeFunction(\n",
              "            'suggestCharts', [key], {});\n",
              "      } catch (error) {\n",
              "        console.error('Error during call to suggestCharts:', error);\n",
              "      }\n",
              "      quickchartButtonEl.classList.remove('colab-df-spinner');\n",
              "      quickchartButtonEl.classList.add('colab-df-quickchart-complete');\n",
              "    }\n",
              "    (() => {\n",
              "      let quickchartButtonEl =\n",
              "        document.querySelector('#df-5d91de5c-caec-4898-97a3-427abc08a862 button');\n",
              "      quickchartButtonEl.style.display =\n",
              "        google.colab.kernel.accessAllowed ? 'block' : 'none';\n",
              "    })();\n",
              "  </script>\n",
              "</div>\n",
              "    </div>\n",
              "  </div>\n"
            ]
          },
          "metadata": {},
          "execution_count": 334
        }
      ]
    },
    {
      "cell_type": "code",
      "source": [
        "#correlation check\n",
        "bedroom_categories = df_train['num_bedrooms'].unique()\n",
        "\n",
        "mean_prices = []\n",
        "\n",
        "for num_bedrooms in bedroom_categories:\n",
        "    rows = df_train[df_train['num_bedrooms'] == num_bedrooms][['num_bedrooms', 'price']]\n",
        "    mean_price = rows['price'].mean()\n",
        "    mean_prices.append(mean_price)\n",
        "\n",
        "# Plot the mean prices\n",
        "sns.barplot(x=bedroom_categories, y=mean_prices)\n",
        "plt.xlabel('Number of Bedrooms')\n",
        "plt.ylabel('Mean Price')\n",
        "plt.title('Mean Price for Different Numbers of Bedrooms')\n",
        "plt.show()"
      ],
      "metadata": {
        "id": "U_nvWNsP5AJ9",
        "colab": {
          "base_uri": "https://localhost:8080/",
          "height": 472
        },
        "outputId": "8565ea8c-0e92-4409-b664-057240cc3f8a"
      },
      "execution_count": null,
      "outputs": [
        {
          "output_type": "display_data",
          "data": {
            "text/plain": [
              "<Figure size 640x480 with 1 Axes>"
            ],
            "image/png": "[encoded data removed]"
          },
          "metadata": {}
        }
      ]
    },
    {
      "cell_type": "code",
      "source": [
        "#sanity check\n",
        "nan_values = df_train[df_train['num_bedrooms'].isna()][['name', 'num_bedrooms']]\n",
        "nan_values"
      ],
      "metadata": {
        "id": "JNKogFV2llcQ",
        "colab": {
          "base_uri": "https://localhost:8080/",
          "height": 424
        },
        "outputId": "56e649a3-91bf-41ec-bd72-fa02881f7479"
      },
      "execution_count": null,
      "outputs": [
        {
          "output_type": "execute_result",
          "data": {
            "text/plain": [
              "                                                    name  num_bedrooms\n",
              "9      Boutique hotel in Beverly Hills · Studio · 2 b...           NaN\n",
              "15     Rental unit in Malibu · ★5.0 · Studio · 2 beds...           NaN\n",
              "41     Rental unit in Los Angeles · Studio · 1 bed · ...           NaN\n",
              "52     Rental unit in Los Angeles · ★5.0 · Studio · 1...           NaN\n",
              "69       Guesthouse in Arcadia · Studio · 1 bed · 1 bath           NaN\n",
              "...                                                  ...           ...\n",
              "15313  Guesthouse in Malibu · ★4.95 · Studio · 2 beds...           NaN\n",
              "15380  Rental unit in Los Angeles · Studio · 1 bed · ...           NaN\n",
              "15397  Rental unit in Los Angeles · ★New · Studio · 1...           NaN\n",
              "15414  Boutique hotel in Los Angeles · Studio · 1 bed...           NaN\n",
              "15431  Rental unit in Los Angeles · ★4.66 · Studio · ...           NaN\n",
              "\n",
              "[821 rows x 2 columns]"
            ],
            "text/html": [
              "\n",
              "  <div id=\"df-d601d056-b611-41f0-b194-0f27c9b463ce\" class=\"colab-df-container\">\n",
              "    <div>\n",
              "<style scoped>\n",
              "    .dataframe tbody tr th:only-of-type {\n",
              "        vertical-align: middle;\n",
              "    }\n",
              "\n",
              "    .dataframe tbody tr th {\n",
              "        vertical-align: top;\n",
              "    }\n",
              "\n",
              "    .dataframe thead th {\n",
              "        text-align: right;\n",
              "    }\n",
              "</style>\n",
              "<table border=\"1\" class=\"dataframe\">\n",
              "  <thead>\n",
              "    <tr style=\"text-align: right;\">\n",
              "      <th></th>\n",
              "      <th>name</th>\n",
              "      <th>num_bedrooms</th>\n",
              "    </tr>\n",
              "  </thead>\n",
              "  <tbody>\n",
              "    <tr>\n",
              "      <th>9</th>\n",
              "      <td>Boutique hotel in Beverly Hills · Studio · 2 b...</td>\n",
              "      <td>NaN</td>\n",
              "    </tr>\n",
              "    <tr>\n",
              "      <th>15</th>\n",
              "      <td>Rental unit in Malibu · ★5.0 · Studio · 2 beds...</td>\n",
              "      <td>NaN</td>\n",
              "    </tr>\n",
              "    <tr>\n",
              "      <th>41</th>\n",
              "      <td>Rental unit in Los Angeles · Studio · 1 bed · ...</td>\n",
              "      <td>NaN</td>\n",
              "    </tr>\n",
              "    <tr>\n",
              "      <th>52</th>\n",
              "      <td>Rental unit in Los Angeles · ★5.0 · Studio · 1...</td>\n",
              "      <td>NaN</td>\n",
              "    </tr>\n",
              "    <tr>\n",
              "      <th>69</th>\n",
              "      <td>Guesthouse in Arcadia · Studio · 1 bed · 1 bath</td>\n",
              "      <td>NaN</td>\n",
              "    </tr>\n",
              "    <tr>\n",
              "      <th>...</th>\n",
              "      <td>...</td>\n",
              "      <td>...</td>\n",
              "    </tr>\n",
              "    <tr>\n",
              "      <th>15313</th>\n",
              "      <td>Guesthouse in Malibu · ★4.95 · Studio · 2 beds...</td>\n",
              "      <td>NaN</td>\n",
              "    </tr>\n",
              "    <tr>\n",
              "      <th>15380</th>\n",
              "      <td>Rental unit in Los Angeles · Studio · 1 bed · ...</td>\n",
              "      <td>NaN</td>\n",
              "    </tr>\n",
              "    <tr>\n",
              "      <th>15397</th>\n",
              "      <td>Rental unit in Los Angeles · ★New · Studio · 1...</td>\n",
              "      <td>NaN</td>\n",
              "    </tr>\n",
              "    <tr>\n",
              "      <th>15414</th>\n",
              "      <td>Boutique hotel in Los Angeles · Studio · 1 bed...</td>\n",
              "      <td>NaN</td>\n",
              "    </tr>\n",
              "    <tr>\n",
              "      <th>15431</th>\n",
              "      <td>Rental unit in Los Angeles · ★4.66 · Studio · ...</td>\n",
              "      <td>NaN</td>\n",
              "    </tr>\n",
              "  </tbody>\n",
              "</table>\n",
              "<p>821 rows × 2 columns</p>\n",
              "</div>\n",
              "    <div class=\"colab-df-buttons\">\n",
              "\n",
              "  <div class=\"colab-df-container\">\n",
              "    <button class=\"colab-df-convert\" onclick=\"convertToInteractive('df-d601d056-b611-41f0-b194-0f27c9b463ce')\"\n",
              "            title=\"Convert this dataframe to an interactive table.\"\n",
              "            style=\"display:none;\">\n",
              "\n",
              "  <svg xmlns=\"http://www.w3.org/2000/svg\" height=\"24px\" viewBox=\"0 -960 960 960\">\n",
              "    <path d=\"M120-120v-720h720v720H120Zm60-500h600v-160H180v160Zm220 220h160v-160H400v160Zm0 220h160v-160H400v160ZM180-400h160v-160H180v160Zm440 0h160v-160H620v160ZM180-180h160v-160H180v160Zm440 0h160v-160H620v160Z\"/>\n",
              "  </svg>\n",
              "    </button>\n",
              "\n",
              "  <style>\n",
              "    .colab-df-container {\n",
              "      display:flex;\n",
              "      gap: 12px;\n",
              "    }\n",
              "\n",
              "    .colab-df-convert {\n",
              "      background-color: #E8F0FE;\n",
              "      border: none;\n",
              "      border-radius: 50%;\n",
              "      cursor: pointer;\n",
              "      display: none;\n",
              "      fill: #1967D2;\n",
              "      height: 32px;\n",
              "      padding: 0 0 0 0;\n",
              "      width: 32px;\n",
              "    }\n",
              "\n",
              "    .colab-df-convert:hover {\n",
              "      background-color: #E2EBFA;\n",
              "      box-shadow: 0px 1px 2px rgba(60, 64, 67, 0.3), 0px 1px 3px 1px rgba(60, 64, 67, 0.15);\n",
              "      fill: #174EA6;\n",
              "    }\n",
              "\n",
              "    .colab-df-buttons div {\n",
              "      margin-bottom: 4px;\n",
              "    }\n",
              "\n",
              "    [theme=dark] .colab-df-convert {\n",
              "      background-color: #3B4455;\n",
              "      fill: #D2E3FC;\n",
              "    }\n",
              "\n",
              "    [theme=dark] .colab-df-convert:hover {\n",
              "      background-color: #434B5C;\n",
              "      box-shadow: 0px 1px 3px 1px rgba(0, 0, 0, 0.15);\n",
              "      filter: drop-shadow(0px 1px 2px rgba(0, 0, 0, 0.3));\n",
              "      fill: #FFFFFF;\n",
              "    }\n",
              "  </style>\n",
              "\n",
              "    <script>\n",
              "      const buttonEl =\n",
              "        document.querySelector('#df-d601d056-b611-41f0-b194-0f27c9b463ce button.colab-df-convert');\n",
              "      buttonEl.style.display =\n",
              "        google.colab.kernel.accessAllowed ? 'block' : 'none';\n",
              "\n",
              "      async function convertToInteractive(key) {\n",
              "        const element = document.querySelector('#df-d601d056-b611-41f0-b194-0f27c9b463ce');\n",
              "        const dataTable =\n",
              "          await google.colab.kernel.invokeFunction('convertToInteractive',\n",
              "                                                    [key], {});\n",
              "        if (!dataTable) return;\n",
              "\n",
              "        const docLinkHtml = 'Like what you see? Visit the ' +\n",
              "          '<a target=\"_blank\" href=https://colab.research.google.com/notebooks/data_table.ipynb>data table notebook</a>'\n",
              "          + ' to learn more about interactive tables.';\n",
              "        element.innerHTML = '';\n",
              "        dataTable['output_type'] = 'display_data';\n",
              "        await google.colab.output.renderOutput(dataTable, element);\n",
              "        const docLink = document.createElement('div');\n",
              "        docLink.innerHTML = docLinkHtml;\n",
              "        element.appendChild(docLink);\n",
              "      }\n",
              "    </script>\n",
              "  </div>\n",
              "\n",
              "\n",
              "<div id=\"df-62eaa8f1-aaa1-4c6c-89e3-54aecb4928d6\">\n",
              "  <button class=\"colab-df-quickchart\" onclick=\"quickchart('df-62eaa8f1-aaa1-4c6c-89e3-54aecb4928d6')\"\n",
              "            title=\"Suggest charts\"\n",
              "            style=\"display:none;\">\n",
              "\n",
              "<svg xmlns=\"http://www.w3.org/2000/svg\" height=\"24px\"viewBox=\"0 0 24 24\"\n",
              "     width=\"24px\">\n",
              "    <g>\n",
              "        <path d=\"M19 3H5c-1.1 0-2 .9-2 2v14c0 1.1.9 2 2 2h14c1.1 0 2-.9 2-2V5c0-1.1-.9-2-2-2zM9 17H7v-7h2v7zm4 0h-2V7h2v10zm4 0h-2v-4h2v4z\"/>\n",
              "    </g>\n",
              "</svg>\n",
              "  </button>\n",
              "\n",
              "<style>\n",
              "  .colab-df-quickchart {\n",
              "      --bg-color: #E8F0FE;\n",
              "      --fill-color: #1967D2;\n",
              "      --hover-bg-color: #E2EBFA;\n",
              "      --hover-fill-color: #174EA6;\n",
              "      --disabled-fill-color: #AAA;\n",
              "      --disabled-bg-color: #DDD;\n",
              "  }\n",
              "\n",
              "  [theme=dark] .colab-df-quickchart {\n",
              "      --bg-color: #3B4455;\n",
              "      --fill-color: #D2E3FC;\n",
              "      --hover-bg-color: #434B5C;\n",
              "      --hover-fill-color: #FFFFFF;\n",
              "      --disabled-bg-color: #3B4455;\n",
              "      --disabled-fill-color: #666;\n",
              "  }\n",
              "\n",
              "  .colab-df-quickchart {\n",
              "    background-color: var(--bg-color);\n",
              "    border: none;\n",
              "    border-radius: 50%;\n",
              "    cursor: pointer;\n",
              "    display: none;\n",
              "    fill: var(--fill-color);\n",
              "    height: 32px;\n",
              "    padding: 0;\n",
              "    width: 32px;\n",
              "  }\n",
              "\n",
              "  .colab-df-quickchart:hover {\n",
              "    background-color: var(--hover-bg-color);\n",
              "    box-shadow: 0 1px 2px rgba(60, 64, 67, 0.3), 0 1px 3px 1px rgba(60, 64, 67, 0.15);\n",
              "    fill: var(--button-hover-fill-color);\n",
              "  }\n",
              "\n",
              "  .colab-df-quickchart-complete:disabled,\n",
              "  .colab-df-quickchart-complete:disabled:hover {\n",
              "    background-color: var(--disabled-bg-color);\n",
              "    fill: var(--disabled-fill-color);\n",
              "    box-shadow: none;\n",
              "  }\n",
              "\n",
              "  .colab-df-spinner {\n",
              "    border: 2px solid var(--fill-color);\n",
              "    border-color: transparent;\n",
              "    border-bottom-color: var(--fill-color);\n",
              "    animation:\n",
              "      spin 1s steps(1) infinite;\n",
              "  }\n",
              "\n",
              "  @keyframes spin {\n",
              "    0% {\n",
              "      border-color: transparent;\n",
              "      border-bottom-color: var(--fill-color);\n",
              "      border-left-color: var(--fill-color);\n",
              "    }\n",
              "    20% {\n",
              "      border-color: transparent;\n",
              "      border-left-color: var(--fill-color);\n",
              "      border-top-color: var(--fill-color);\n",
              "    }\n",
              "    30% {\n",
              "      border-color: transparent;\n",
              "      border-left-color: var(--fill-color);\n",
              "      border-top-color: var(--fill-color);\n",
              "      border-right-color: var(--fill-color);\n",
              "    }\n",
              "    40% {\n",
              "      border-color: transparent;\n",
              "      border-right-color: var(--fill-color);\n",
              "      border-top-color: var(--fill-color);\n",
              "    }\n",
              "    60% {\n",
              "      border-color: transparent;\n",
              "      border-right-color: var(--fill-color);\n",
              "    }\n",
              "    80% {\n",
              "      border-color: transparent;\n",
              "      border-right-color: var(--fill-color);\n",
              "      border-bottom-color: var(--fill-color);\n",
              "    }\n",
              "    90% {\n",
              "      border-color: transparent;\n",
              "      border-bottom-color: var(--fill-color);\n",
              "    }\n",
              "  }\n",
              "</style>\n",
              "\n",
              "  <script>\n",
              "    async function quickchart(key) {\n",
              "      const quickchartButtonEl =\n",
              "        document.querySelector('#' + key + ' button');\n",
              "      quickchartButtonEl.disabled = true;  // To prevent multiple clicks.\n",
              "      quickchartButtonEl.classList.add('colab-df-spinner');\n",
              "      try {\n",
              "        const charts = await google.colab.kernel.invokeFunction(\n",
              "            'suggestCharts', [key], {});\n",
              "      } catch (error) {\n",
              "        console.error('Error during call to suggestCharts:', error);\n",
              "      }\n",
              "      quickchartButtonEl.classList.remove('colab-df-spinner');\n",
              "      quickchartButtonEl.classList.add('colab-df-quickchart-complete');\n",
              "    }\n",
              "    (() => {\n",
              "      let quickchartButtonEl =\n",
              "        document.querySelector('#df-62eaa8f1-aaa1-4c6c-89e3-54aecb4928d6 button');\n",
              "      quickchartButtonEl.style.display =\n",
              "        google.colab.kernel.accessAllowed ? 'block' : 'none';\n",
              "    })();\n",
              "  </script>\n",
              "</div>\n",
              "    </div>\n",
              "  </div>\n"
            ]
          },
          "metadata": {},
          "execution_count": 336
        }
      ]
    },
    {
      "cell_type": "code",
      "source": [
        "#fill na with 0\n",
        "df_train['num_bedrooms'] = df_train['num_bedrooms'].fillna(0)"
      ],
      "metadata": {
        "id": "rQpzXOzTlpJe"
      },
      "execution_count": null,
      "outputs": []
    },
    {
      "cell_type": "code",
      "source": [
        "#extract star from name column\n",
        "star_list = []\n",
        "for info in df_train['name'].values:\n",
        "    pattern = r'★([\\d.]+)'\n",
        "    match = re.search(pattern, info)\n",
        "    if match:\n",
        "        rating = match.group(1)\n",
        "    else:\n",
        "        rating = None\n",
        "    star_list.append(rating)\n",
        "\n",
        "df_train['star'] = star_list"
      ],
      "metadata": {
        "id": "EID463Np__h2"
      },
      "execution_count": null,
      "outputs": []
    },
    {
      "cell_type": "code",
      "source": [
        "#sanity check\n",
        "df_train[['star','name']]"
      ],
      "metadata": {
        "id": "VUT3bNXCAGmc",
        "colab": {
          "base_uri": "https://localhost:8080/",
          "height": 424
        },
        "outputId": "15cd390a-299d-46f1-b3bf-d00d07a80eb8"
      },
      "execution_count": null,
      "outputs": [
        {
          "output_type": "execute_result",
          "data": {
            "text/plain": [
              "       star                                               name\n",
              "0      None  Home in Torrance · 1 bedroom · 1 bed · 1 share...\n",
              "1      4.74  Rental unit in Venice · ★4.74 · 2 bedrooms · 2...\n",
              "2       5.0  Home in Avalon · ★5.0 · 3 bedrooms · 4 beds · ...\n",
              "3      None  Home in Santa Clarita · 4 bedrooms · 5 beds · ...\n",
              "4      None  Hotel in Los Angeles · ★New · 1 bedroom · 1 be...\n",
              "...     ...                                                ...\n",
              "15434  None  Home in Diamond Bar · 4 bedrooms · 4 beds · 2 ...\n",
              "15435  4.86  Condo in Santa Monica · ★4.86 · 1 bedroom · 1 ...\n",
              "15436  None  Rental unit in Glendale · 2 bedrooms · 2 beds ...\n",
              "15438  None  Rental unit in Los Angeles · 1 bedroom · 1 bed...\n",
              "15440  None  Rental unit in Los Angeles · ★New · 2 bedrooms...\n",
              "\n",
              "[14675 rows x 2 columns]"
            ],
            "text/html": [
              "\n",
              "  <div id=\"df-ddf19b9a-c398-44bb-8958-a3a0c8266a18\" class=\"colab-df-container\">\n",
              "    <div>\n",
              "<style scoped>\n",
              "    .dataframe tbody tr th:only-of-type {\n",
              "        vertical-align: middle;\n",
              "    }\n",
              "\n",
              "    .dataframe tbody tr th {\n",
              "        vertical-align: top;\n",
              "    }\n",
              "\n",
              "    .dataframe thead th {\n",
              "        text-align: right;\n",
              "    }\n",
              "</style>\n",
              "<table border=\"1\" class=\"dataframe\">\n",
              "  <thead>\n",
              "    <tr style=\"text-align: right;\">\n",
              "      <th></th>\n",
              "      <th>star</th>\n",
              "      <th>name</th>\n",
              "    </tr>\n",
              "  </thead>\n",
              "  <tbody>\n",
              "    <tr>\n",
              "      <th>0</th>\n",
              "      <td>None</td>\n",
              "      <td>Home in Torrance · 1 bedroom · 1 bed · 1 share...</td>\n",
              "    </tr>\n",
              "    <tr>\n",
              "      <th>1</th>\n",
              "      <td>4.74</td>\n",
              "      <td>Rental unit in Venice · ★4.74 · 2 bedrooms · 2...</td>\n",
              "    </tr>\n",
              "    <tr>\n",
              "      <th>2</th>\n",
              "      <td>5.0</td>\n",
              "      <td>Home in Avalon · ★5.0 · 3 bedrooms · 4 beds · ...</td>\n",
              "    </tr>\n",
              "    <tr>\n",
              "      <th>3</th>\n",
              "      <td>None</td>\n",
              "      <td>Home in Santa Clarita · 4 bedrooms · 5 beds · ...</td>\n",
              "    </tr>\n",
              "    <tr>\n",
              "      <th>4</th>\n",
              "      <td>None</td>\n",
              "      <td>Hotel in Los Angeles · ★New · 1 bedroom · 1 be...</td>\n",
              "    </tr>\n",
              "    <tr>\n",
              "      <th>...</th>\n",
              "      <td>...</td>\n",
              "      <td>...</td>\n",
              "    </tr>\n",
              "    <tr>\n",
              "      <th>15434</th>\n",
              "      <td>None</td>\n",
              "      <td>Home in Diamond Bar · 4 bedrooms · 4 beds · 2 ...</td>\n",
              "    </tr>\n",
              "    <tr>\n",
              "      <th>15435</th>\n",
              "      <td>4.86</td>\n",
              "      <td>Condo in Santa Monica · ★4.86 · 1 bedroom · 1 ...</td>\n",
              "    </tr>\n",
              "    <tr>\n",
              "      <th>15436</th>\n",
              "      <td>None</td>\n",
              "      <td>Rental unit in Glendale · 2 bedrooms · 2 beds ...</td>\n",
              "    </tr>\n",
              "    <tr>\n",
              "      <th>15438</th>\n",
              "      <td>None</td>\n",
              "      <td>Rental unit in Los Angeles · 1 bedroom · 1 bed...</td>\n",
              "    </tr>\n",
              "    <tr>\n",
              "      <th>15440</th>\n",
              "      <td>None</td>\n",
              "      <td>Rental unit in Los Angeles · ★New · 2 bedrooms...</td>\n",
              "    </tr>\n",
              "  </tbody>\n",
              "</table>\n",
              "<p>14675 rows × 2 columns</p>\n",
              "</div>\n",
              "    <div class=\"colab-df-buttons\">\n",
              "\n",
              "  <div class=\"colab-df-container\">\n",
              "    <button class=\"colab-df-convert\" onclick=\"convertToInteractive('df-ddf19b9a-c398-44bb-8958-a3a0c8266a18')\"\n",
              "            title=\"Convert this dataframe to an interactive table.\"\n",
              "            style=\"display:none;\">\n",
              "\n",
              "  <svg xmlns=\"http://www.w3.org/2000/svg\" height=\"24px\" viewBox=\"0 -960 960 960\">\n",
              "    <path d=\"M120-120v-720h720v720H120Zm60-500h600v-160H180v160Zm220 220h160v-160H400v160Zm0 220h160v-160H400v160ZM180-400h160v-160H180v160Zm440 0h160v-160H620v160ZM180-180h160v-160H180v160Zm440 0h160v-160H620v160Z\"/>\n",
              "  </svg>\n",
              "    </button>\n",
              "\n",
              "  <style>\n",
              "    .colab-df-container {\n",
              "      display:flex;\n",
              "      gap: 12px;\n",
              "    }\n",
              "\n",
              "    .colab-df-convert {\n",
              "      background-color: #E8F0FE;\n",
              "      border: none;\n",
              "      border-radius: 50%;\n",
              "      cursor: pointer;\n",
              "      display: none;\n",
              "      fill: #1967D2;\n",
              "      height: 32px;\n",
              "      padding: 0 0 0 0;\n",
              "      width: 32px;\n",
              "    }\n",
              "\n",
              "    .colab-df-convert:hover {\n",
              "      background-color: #E2EBFA;\n",
              "      box-shadow: 0px 1px 2px rgba(60, 64, 67, 0.3), 0px 1px 3px 1px rgba(60, 64, 67, 0.15);\n",
              "      fill: #174EA6;\n",
              "    }\n",
              "\n",
              "    .colab-df-buttons div {\n",
              "      margin-bottom: 4px;\n",
              "    }\n",
              "\n",
              "    [theme=dark] .colab-df-convert {\n",
              "      background-color: #3B4455;\n",
              "      fill: #D2E3FC;\n",
              "    }\n",
              "\n",
              "    [theme=dark] .colab-df-convert:hover {\n",
              "      background-color: #434B5C;\n",
              "      box-shadow: 0px 1px 3px 1px rgba(0, 0, 0, 0.15);\n",
              "      filter: drop-shadow(0px 1px 2px rgba(0, 0, 0, 0.3));\n",
              "      fill: #FFFFFF;\n",
              "    }\n",
              "  </style>\n",
              "\n",
              "    <script>\n",
              "      const buttonEl =\n",
              "        document.querySelector('#df-ddf19b9a-c398-44bb-8958-a3a0c8266a18 button.colab-df-convert');\n",
              "      buttonEl.style.display =\n",
              "        google.colab.kernel.accessAllowed ? 'block' : 'none';\n",
              "\n",
              "      async function convertToInteractive(key) {\n",
              "        const element = document.querySelector('#df-ddf19b9a-c398-44bb-8958-a3a0c8266a18');\n",
              "        const dataTable =\n",
              "          await google.colab.kernel.invokeFunction('convertToInteractive',\n",
              "                                                    [key], {});\n",
              "        if (!dataTable) return;\n",
              "\n",
              "        const docLinkHtml = 'Like what you see? Visit the ' +\n",
              "          '<a target=\"_blank\" href=https://colab.research.google.com/notebooks/data_table.ipynb>data table notebook</a>'\n",
              "          + ' to learn more about interactive tables.';\n",
              "        element.innerHTML = '';\n",
              "        dataTable['output_type'] = 'display_data';\n",
              "        await google.colab.output.renderOutput(dataTable, element);\n",
              "        const docLink = document.createElement('div');\n",
              "        docLink.innerHTML = docLinkHtml;\n",
              "        element.appendChild(docLink);\n",
              "      }\n",
              "    </script>\n",
              "  </div>\n",
              "\n",
              "\n",
              "<div id=\"df-edb406f2-89f0-4bd8-9812-4b1a7e8bbdc1\">\n",
              "  <button class=\"colab-df-quickchart\" onclick=\"quickchart('df-edb406f2-89f0-4bd8-9812-4b1a7e8bbdc1')\"\n",
              "            title=\"Suggest charts\"\n",
              "            style=\"display:none;\">\n",
              "\n",
              "<svg xmlns=\"http://www.w3.org/2000/svg\" height=\"24px\"viewBox=\"0 0 24 24\"\n",
              "     width=\"24px\">\n",
              "    <g>\n",
              "        <path d=\"M19 3H5c-1.1 0-2 .9-2 2v14c0 1.1.9 2 2 2h14c1.1 0 2-.9 2-2V5c0-1.1-.9-2-2-2zM9 17H7v-7h2v7zm4 0h-2V7h2v10zm4 0h-2v-4h2v4z\"/>\n",
              "    </g>\n",
              "</svg>\n",
              "  </button>\n",
              "\n",
              "<style>\n",
              "  .colab-df-quickchart {\n",
              "      --bg-color: #E8F0FE;\n",
              "      --fill-color: #1967D2;\n",
              "      --hover-bg-color: #E2EBFA;\n",
              "      --hover-fill-color: #174EA6;\n",
              "      --disabled-fill-color: #AAA;\n",
              "      --disabled-bg-color: #DDD;\n",
              "  }\n",
              "\n",
              "  [theme=dark] .colab-df-quickchart {\n",
              "      --bg-color: #3B4455;\n",
              "      --fill-color: #D2E3FC;\n",
              "      --hover-bg-color: #434B5C;\n",
              "      --hover-fill-color: #FFFFFF;\n",
              "      --disabled-bg-color: #3B4455;\n",
              "      --disabled-fill-color: #666;\n",
              "  }\n",
              "\n",
              "  .colab-df-quickchart {\n",
              "    background-color: var(--bg-color);\n",
              "    border: none;\n",
              "    border-radius: 50%;\n",
              "    cursor: pointer;\n",
              "    display: none;\n",
              "    fill: var(--fill-color);\n",
              "    height: 32px;\n",
              "    padding: 0;\n",
              "    width: 32px;\n",
              "  }\n",
              "\n",
              "  .colab-df-quickchart:hover {\n",
              "    background-color: var(--hover-bg-color);\n",
              "    box-shadow: 0 1px 2px rgba(60, 64, 67, 0.3), 0 1px 3px 1px rgba(60, 64, 67, 0.15);\n",
              "    fill: var(--button-hover-fill-color);\n",
              "  }\n",
              "\n",
              "  .colab-df-quickchart-complete:disabled,\n",
              "  .colab-df-quickchart-complete:disabled:hover {\n",
              "    background-color: var(--disabled-bg-color);\n",
              "    fill: var(--disabled-fill-color);\n",
              "    box-shadow: none;\n",
              "  }\n",
              "\n",
              "  .colab-df-spinner {\n",
              "    border: 2px solid var(--fill-color);\n",
              "    border-color: transparent;\n",
              "    border-bottom-color: var(--fill-color);\n",
              "    animation:\n",
              "      spin 1s steps(1) infinite;\n",
              "  }\n",
              "\n",
              "  @keyframes spin {\n",
              "    0% {\n",
              "      border-color: transparent;\n",
              "      border-bottom-color: var(--fill-color);\n",
              "      border-left-color: var(--fill-color);\n",
              "    }\n",
              "    20% {\n",
              "      border-color: transparent;\n",
              "      border-left-color: var(--fill-color);\n",
              "      border-top-color: var(--fill-color);\n",
              "    }\n",
              "    30% {\n",
              "      border-color: transparent;\n",
              "      border-left-color: var(--fill-color);\n",
              "      border-top-color: var(--fill-color);\n",
              "      border-right-color: var(--fill-color);\n",
              "    }\n",
              "    40% {\n",
              "      border-color: transparent;\n",
              "      border-right-color: var(--fill-color);\n",
              "      border-top-color: var(--fill-color);\n",
              "    }\n",
              "    60% {\n",
              "      border-color: transparent;\n",
              "      border-right-color: var(--fill-color);\n",
              "    }\n",
              "    80% {\n",
              "      border-color: transparent;\n",
              "      border-right-color: var(--fill-color);\n",
              "      border-bottom-color: var(--fill-color);\n",
              "    }\n",
              "    90% {\n",
              "      border-color: transparent;\n",
              "      border-bottom-color: var(--fill-color);\n",
              "    }\n",
              "  }\n",
              "</style>\n",
              "\n",
              "  <script>\n",
              "    async function quickchart(key) {\n",
              "      const quickchartButtonEl =\n",
              "        document.querySelector('#' + key + ' button');\n",
              "      quickchartButtonEl.disabled = true;  // To prevent multiple clicks.\n",
              "      quickchartButtonEl.classList.add('colab-df-spinner');\n",
              "      try {\n",
              "        const charts = await google.colab.kernel.invokeFunction(\n",
              "            'suggestCharts', [key], {});\n",
              "      } catch (error) {\n",
              "        console.error('Error during call to suggestCharts:', error);\n",
              "      }\n",
              "      quickchartButtonEl.classList.remove('colab-df-spinner');\n",
              "      quickchartButtonEl.classList.add('colab-df-quickchart-complete');\n",
              "    }\n",
              "    (() => {\n",
              "      let quickchartButtonEl =\n",
              "        document.querySelector('#df-edb406f2-89f0-4bd8-9812-4b1a7e8bbdc1 button');\n",
              "      quickchartButtonEl.style.display =\n",
              "        google.colab.kernel.accessAllowed ? 'block' : 'none';\n",
              "    })();\n",
              "  </script>\n",
              "</div>\n",
              "    </div>\n",
              "  </div>\n"
            ]
          },
          "metadata": {},
          "execution_count": 339
        }
      ]
    },
    {
      "cell_type": "code",
      "source": [
        "df_train['star'] = df_train['star'].astype(float)"
      ],
      "metadata": {
        "id": "fRiX6PgCBHN2"
      },
      "execution_count": null,
      "outputs": []
    },
    {
      "cell_type": "code",
      "source": [
        "# check correlation\n",
        "mean_price_bin1 = df_train[(df_train['star'] >= 4.75) & (df_train['star'] <= 5.0)]['price'].mean()\n",
        "mean_price_bin2= df_train[(df_train['star'] >= 4.5) & (df_train['star'] <= 4.75)]['price'].mean()\n",
        "mean_price_bin3 = df_train[(df_train['star'] >= 4.25) & (df_train['star'] <= 4.5)]['price'].mean()\n",
        "mean_price_bin4 = df_train[(df_train['star'] >= 4) & (df_train['star'] <= 4.25)]['price'].mean()\n",
        "mean_price_bin5 = df_train[(df_train['star'] >= 3.75) & (df_train['star'] <= 4)]['price'].mean()\n",
        "bin_list = [mean_price_bin1,mean_price_bin2,mean_price_bin3,mean_price_bin4,mean_price_bin5]\n",
        "\n",
        "# Plot the bar chart\n",
        "plt.bar(['4.75-5', '4.5-4.75', '4.25-4.5', '4-4.25', '3.75-4'], bin_list, color='skyblue')\n",
        "plt.xlabel('Star Rating Bins')\n",
        "plt.ylabel('Mean Price')\n",
        "plt.title('Bar Plot: Mean Price for Different Star Rating Bins')\n",
        "plt.show()"
      ],
      "metadata": {
        "id": "s7c1lIKBBi0g",
        "colab": {
          "base_uri": "https://localhost:8080/",
          "height": 472
        },
        "outputId": "85b22f71-7bad-4e19-9015-24b69d90a4a8"
      },
      "execution_count": null,
      "outputs": [
        {
          "output_type": "display_data",
          "data": {
            "text/plain": [
              "<Figure size 640x480 with 1 Axes>"
            ],
            "image/png": "[encoded data removed]"
          },
          "metadata": {}
        }
      ]
    },
    {
      "cell_type": "code",
      "source": [
        "#fill star score with outlier 50\n",
        "df_train['star'].fillna(50,inplace = True)"
      ],
      "metadata": {
        "id": "-4CahnVR763_"
      },
      "execution_count": null,
      "outputs": []
    },
    {
      "cell_type": "code",
      "source": [
        "df_train = df_train.drop('name',axis = 1)"
      ],
      "metadata": {
        "id": "4l82OPMNP1dE"
      },
      "execution_count": null,
      "outputs": []
    },
    {
      "cell_type": "markdown",
      "source": [
        "Step2.3 Data-Cleaning for 'host_since'"
      ],
      "metadata": {
        "id": "vEnZlikG6xvv"
      }
    },
    {
      "cell_type": "code",
      "source": [
        "#check data type in host_since column\n",
        "df_train['host_since']"
      ],
      "metadata": {
        "id": "TRFq9Hho6xPt",
        "colab": {
          "base_uri": "https://localhost:8080/"
        },
        "outputId": "bf79c09d-7a8f-4a35-c4ec-81823aaef21d"
      },
      "execution_count": null,
      "outputs": [
        {
          "output_type": "execute_result",
          "data": {
            "text/plain": [
              "0        2018-07-27\n",
              "1        2013-07-19\n",
              "2        2019-06-24\n",
              "3        2021-11-01\n",
              "4        2023-02-20\n",
              "            ...    \n",
              "15434    2023-02-19\n",
              "15435    2021-11-23\n",
              "15436    2020-09-10\n",
              "15438    2015-10-09\n",
              "15440    2015-09-08\n",
              "Name: host_since, Length: 14675, dtype: object"
            ]
          },
          "metadata": {},
          "execution_count": 344
        }
      ]
    },
    {
      "cell_type": "code",
      "source": [
        "#convert datetime data to number of days since the hosting\n",
        "df_train['host_since'] = pd.to_datetime(df_train['host_since'])\n",
        "target_date = pd.to_datetime('2023-12-2')\n",
        "df_train['days_since_hosting'] = (target_date - df_train['host_since']).dt.days"
      ],
      "metadata": {
        "id": "dXzJ80cw7W8a"
      },
      "execution_count": null,
      "outputs": []
    },
    {
      "cell_type": "code",
      "source": [
        "#sanity check\n",
        "df_train['days_since_hosting']"
      ],
      "metadata": {
        "id": "31xoms5e7ink",
        "colab": {
          "base_uri": "https://localhost:8080/"
        },
        "outputId": "49ce5ae9-dcfd-4c1c-f870-ba460954e41f"
      },
      "execution_count": null,
      "outputs": [
        {
          "output_type": "execute_result",
          "data": {
            "text/plain": [
              "0        1954\n",
              "1        3788\n",
              "2        1622\n",
              "3         761\n",
              "4         285\n",
              "         ... \n",
              "15434     286\n",
              "15435     739\n",
              "15436    1178\n",
              "15438    2976\n",
              "15440    3007\n",
              "Name: days_since_hosting, Length: 14675, dtype: int64"
            ]
          },
          "metadata": {},
          "execution_count": 346
        }
      ]
    },
    {
      "cell_type": "code",
      "source": [
        "#correlation check\n",
        "sns.scatterplot(x='days_since_hosting', y='price', data=df_train)\n",
        "plt.xlabel('days_since_hosting')\n",
        "plt.ylabel('Price')\n",
        "plt.title('Scatter Plot: days_since_hosting vs. Price')\n",
        "plt.show()\n",
        "correlation_coefficient = df_train['days_since_hosting'].corr(df_train['price'])\n",
        "print(f\"Correlation Coefficient: {correlation_coefficient}\")"
      ],
      "metadata": {
        "id": "Jutxxgv47sIE",
        "colab": {
          "base_uri": "https://localhost:8080/",
          "height": 490
        },
        "outputId": "00b53783-edae-49a4-bf42-c0f8d28ee9cb"
      },
      "execution_count": null,
      "outputs": [
        {
          "output_type": "display_data",
          "data": {
            "text/plain": [
              "<Figure size 640x480 with 1 Axes>"
            ],
            "image/png": "[encoded data removed]"
          },
          "metadata": {}
        },
        {
          "output_type": "stream",
          "name": "stdout",
          "text": [
            "Correlation Coefficient: -0.022524502412475972\n"
          ]
        }
      ]
    },
    {
      "cell_type": "markdown",
      "source": [
        "Hence, this feature seems useless in the price prediction"
      ],
      "metadata": {
        "id": "meIj1PRE8_pK"
      }
    },
    {
      "cell_type": "code",
      "source": [
        "#df_train = df_train.drop(['days_since_hosting','host_since'],axis = 1)\n",
        "df_train = df_train.drop(['host_since'],axis = 1)"
      ],
      "metadata": {
        "id": "w87A5cJ1_USg"
      },
      "execution_count": null,
      "outputs": []
    },
    {
      "cell_type": "markdown",
      "source": [
        "Step2.4 Data Cleaning for bathrooms_text"
      ],
      "metadata": {
        "id": "jopGEaY8HeH8"
      }
    },
    {
      "cell_type": "code",
      "source": [
        "#check data type\n",
        "df_train['bathrooms_text'].unique()"
      ],
      "metadata": {
        "id": "KbTvdnzHHnWe",
        "colab": {
          "base_uri": "https://localhost:8080/"
        },
        "outputId": "f7eaa177-bced-4451-e57f-0a82df6cec3b"
      },
      "execution_count": null,
      "outputs": [
        {
          "output_type": "execute_result",
          "data": {
            "text/plain": [
              "array(['1 shared bath', '2 baths', '2.5 baths', '1 bath', '5 baths',\n",
              "       '3.5 baths', '1 private bath', '3 baths', '2 shared baths',\n",
              "       '6 baths', '4 baths', '1.5 baths', '5.5 baths', '0 baths',\n",
              "       '4.5 baths', '3 shared baths', '8.5 baths', '2.5 shared baths',\n",
              "       '7 baths', '7.5 baths', '1.5 shared baths', '6.5 baths', '8 baths',\n",
              "       '11 shared baths', '10 baths', '10.5 baths', 'Shared half-bath',\n",
              "       '3.5 shared baths', '0 shared baths', '6 shared baths', '21 baths',\n",
              "       'Half-bath', '12 baths', '8 shared baths', '15 baths',\n",
              "       '4 shared baths', '11 baths', '9 baths', '5 shared baths',\n",
              "       '11.5 baths', '16 baths', '9.5 baths', '13 baths', '27 baths',\n",
              "       '25 baths', 'Private half-bath', '36 baths', '13.5 baths'],\n",
              "      dtype=object)"
            ]
          },
          "metadata": {},
          "execution_count": 349
        }
      ]
    },
    {
      "cell_type": "code",
      "source": [
        "#check whether the bathroom is shared or not\n",
        "df_train['share_indicator'] = np.where(df_train['bathrooms_text'].str.contains('share', case=False), 1, 0)\n",
        "df_train[['share_indicator', 'bathrooms_text']].head(15)"
      ],
      "metadata": {
        "id": "irw4weUPJW2C",
        "colab": {
          "base_uri": "https://localhost:8080/",
          "height": 520
        },
        "outputId": "072e7545-cd65-4258-a47c-72cb57c22361"
      },
      "execution_count": null,
      "outputs": [
        {
          "output_type": "execute_result",
          "data": {
            "text/plain": [
              "    share_indicator  bathrooms_text\n",
              "0                 1   1 shared bath\n",
              "1                 0         2 baths\n",
              "2                 0         2 baths\n",
              "3                 0       2.5 baths\n",
              "4                 0          1 bath\n",
              "6                 0         5 baths\n",
              "7                 0       3.5 baths\n",
              "8                 0       2.5 baths\n",
              "9                 0  1 private bath\n",
              "10                0         2 baths\n",
              "11                1   1 shared bath\n",
              "12                0          1 bath\n",
              "14                0       3.5 baths\n",
              "15                0          1 bath\n",
              "17                0          1 bath"
            ],
            "text/html": [
              "\n",
              "  <div id=\"df-719d39f9-bbe9-4b75-92c8-a6393e0e6362\" class=\"colab-df-container\">\n",
              "    <div>\n",
              "<style scoped>\n",
              "    .dataframe tbody tr th:only-of-type {\n",
              "        vertical-align: middle;\n",
              "    }\n",
              "\n",
              "    .dataframe tbody tr th {\n",
              "        vertical-align: top;\n",
              "    }\n",
              "\n",
              "    .dataframe thead th {\n",
              "        text-align: right;\n",
              "    }\n",
              "</style>\n",
              "<table border=\"1\" class=\"dataframe\">\n",
              "  <thead>\n",
              "    <tr style=\"text-align: right;\">\n",
              "      <th></th>\n",
              "      <th>share_indicator</th>\n",
              "      <th>bathrooms_text</th>\n",
              "    </tr>\n",
              "  </thead>\n",
              "  <tbody>\n",
              "    <tr>\n",
              "      <th>0</th>\n",
              "      <td>1</td>\n",
              "      <td>1 shared bath</td>\n",
              "    </tr>\n",
              "    <tr>\n",
              "      <th>1</th>\n",
              "      <td>0</td>\n",
              "      <td>2 baths</td>\n",
              "    </tr>\n",
              "    <tr>\n",
              "      <th>2</th>\n",
              "      <td>0</td>\n",
              "      <td>2 baths</td>\n",
              "    </tr>\n",
              "    <tr>\n",
              "      <th>3</th>\n",
              "      <td>0</td>\n",
              "      <td>2.5 baths</td>\n",
              "    </tr>\n",
              "    <tr>\n",
              "      <th>4</th>\n",
              "      <td>0</td>\n",
              "      <td>1 bath</td>\n",
              "    </tr>\n",
              "    <tr>\n",
              "      <th>6</th>\n",
              "      <td>0</td>\n",
              "      <td>5 baths</td>\n",
              "    </tr>\n",
              "    <tr>\n",
              "      <th>7</th>\n",
              "      <td>0</td>\n",
              "      <td>3.5 baths</td>\n",
              "    </tr>\n",
              "    <tr>\n",
              "      <th>8</th>\n",
              "      <td>0</td>\n",
              "      <td>2.5 baths</td>\n",
              "    </tr>\n",
              "    <tr>\n",
              "      <th>9</th>\n",
              "      <td>0</td>\n",
              "      <td>1 private bath</td>\n",
              "    </tr>\n",
              "    <tr>\n",
              "      <th>10</th>\n",
              "      <td>0</td>\n",
              "      <td>2 baths</td>\n",
              "    </tr>\n",
              "    <tr>\n",
              "      <th>11</th>\n",
              "      <td>1</td>\n",
              "      <td>1 shared bath</td>\n",
              "    </tr>\n",
              "    <tr>\n",
              "      <th>12</th>\n",
              "      <td>0</td>\n",
              "      <td>1 bath</td>\n",
              "    </tr>\n",
              "    <tr>\n",
              "      <th>14</th>\n",
              "      <td>0</td>\n",
              "      <td>3.5 baths</td>\n",
              "    </tr>\n",
              "    <tr>\n",
              "      <th>15</th>\n",
              "      <td>0</td>\n",
              "      <td>1 bath</td>\n",
              "    </tr>\n",
              "    <tr>\n",
              "      <th>17</th>\n",
              "      <td>0</td>\n",
              "      <td>1 bath</td>\n",
              "    </tr>\n",
              "  </tbody>\n",
              "</table>\n",
              "</div>\n",
              "    <div class=\"colab-df-buttons\">\n",
              "\n",
              "  <div class=\"colab-df-container\">\n",
              "    <button class=\"colab-df-convert\" onclick=\"convertToInteractive('df-719d39f9-bbe9-4b75-92c8-a6393e0e6362')\"\n",
              "            title=\"Convert this dataframe to an interactive table.\"\n",
              "            style=\"display:none;\">\n",
              "\n",
              "  <svg xmlns=\"http://www.w3.org/2000/svg\" height=\"24px\" viewBox=\"0 -960 960 960\">\n",
              "    <path d=\"M120-120v-720h720v720H120Zm60-500h600v-160H180v160Zm220 220h160v-160H400v160Zm0 220h160v-160H400v160ZM180-400h160v-160H180v160Zm440 0h160v-160H620v160ZM180-180h160v-160H180v160Zm440 0h160v-160H620v160Z\"/>\n",
              "  </svg>\n",
              "    </button>\n",
              "\n",
              "  <style>\n",
              "    .colab-df-container {\n",
              "      display:flex;\n",
              "      gap: 12px;\n",
              "    }\n",
              "\n",
              "    .colab-df-convert {\n",
              "      background-color: #E8F0FE;\n",
              "      border: none;\n",
              "      border-radius: 50%;\n",
              "      cursor: pointer;\n",
              "      display: none;\n",
              "      fill: #1967D2;\n",
              "      height: 32px;\n",
              "      padding: 0 0 0 0;\n",
              "      width: 32px;\n",
              "    }\n",
              "\n",
              "    .colab-df-convert:hover {\n",
              "      background-color: #E2EBFA;\n",
              "      box-shadow: 0px 1px 2px rgba(60, 64, 67, 0.3), 0px 1px 3px 1px rgba(60, 64, 67, 0.15);\n",
              "      fill: #174EA6;\n",
              "    }\n",
              "\n",
              "    .colab-df-buttons div {\n",
              "      margin-bottom: 4px;\n",
              "    }\n",
              "\n",
              "    [theme=dark] .colab-df-convert {\n",
              "      background-color: #3B4455;\n",
              "      fill: #D2E3FC;\n",
              "    }\n",
              "\n",
              "    [theme=dark] .colab-df-convert:hover {\n",
              "      background-color: #434B5C;\n",
              "      box-shadow: 0px 1px 3px 1px rgba(0, 0, 0, 0.15);\n",
              "      filter: drop-shadow(0px 1px 2px rgba(0, 0, 0, 0.3));\n",
              "      fill: #FFFFFF;\n",
              "    }\n",
              "  </style>\n",
              "\n",
              "    <script>\n",
              "      const buttonEl =\n",
              "        document.querySelector('#df-719d39f9-bbe9-4b75-92c8-a6393e0e6362 button.colab-df-convert');\n",
              "      buttonEl.style.display =\n",
              "        google.colab.kernel.accessAllowed ? 'block' : 'none';\n",
              "\n",
              "      async function convertToInteractive(key) {\n",
              "        const element = document.querySelector('#df-719d39f9-bbe9-4b75-92c8-a6393e0e6362');\n",
              "        const dataTable =\n",
              "          await google.colab.kernel.invokeFunction('convertToInteractive',\n",
              "                                                    [key], {});\n",
              "        if (!dataTable) return;\n",
              "\n",
              "        const docLinkHtml = 'Like what you see? Visit the ' +\n",
              "          '<a target=\"_blank\" href=https://colab.research.google.com/notebooks/data_table.ipynb>data table notebook</a>'\n",
              "          + ' to learn more about interactive tables.';\n",
              "        element.innerHTML = '';\n",
              "        dataTable['output_type'] = 'display_data';\n",
              "        await google.colab.output.renderOutput(dataTable, element);\n",
              "        const docLink = document.createElement('div');\n",
              "        docLink.innerHTML = docLinkHtml;\n",
              "        element.appendChild(docLink);\n",
              "      }\n",
              "    </script>\n",
              "  </div>\n",
              "\n",
              "\n",
              "<div id=\"df-b56a8440-c1dc-4d07-8de9-2724a23caadb\">\n",
              "  <button class=\"colab-df-quickchart\" onclick=\"quickchart('df-b56a8440-c1dc-4d07-8de9-2724a23caadb')\"\n",
              "            title=\"Suggest charts\"\n",
              "            style=\"display:none;\">\n",
              "\n",
              "<svg xmlns=\"http://www.w3.org/2000/svg\" height=\"24px\"viewBox=\"0 0 24 24\"\n",
              "     width=\"24px\">\n",
              "    <g>\n",
              "        <path d=\"M19 3H5c-1.1 0-2 .9-2 2v14c0 1.1.9 2 2 2h14c1.1 0 2-.9 2-2V5c0-1.1-.9-2-2-2zM9 17H7v-7h2v7zm4 0h-2V7h2v10zm4 0h-2v-4h2v4z\"/>\n",
              "    </g>\n",
              "</svg>\n",
              "  </button>\n",
              "\n",
              "<style>\n",
              "  .colab-df-quickchart {\n",
              "      --bg-color: #E8F0FE;\n",
              "      --fill-color: #1967D2;\n",
              "      --hover-bg-color: #E2EBFA;\n",
              "      --hover-fill-color: #174EA6;\n",
              "      --disabled-fill-color: #AAA;\n",
              "      --disabled-bg-color: #DDD;\n",
              "  }\n",
              "\n",
              "  [theme=dark] .colab-df-quickchart {\n",
              "      --bg-color: #3B4455;\n",
              "      --fill-color: #D2E3FC;\n",
              "      --hover-bg-color: #434B5C;\n",
              "      --hover-fill-color: #FFFFFF;\n",
              "      --disabled-bg-color: #3B4455;\n",
              "      --disabled-fill-color: #666;\n",
              "  }\n",
              "\n",
              "  .colab-df-quickchart {\n",
              "    background-color: var(--bg-color);\n",
              "    border: none;\n",
              "    border-radius: 50%;\n",
              "    cursor: pointer;\n",
              "    display: none;\n",
              "    fill: var(--fill-color);\n",
              "    height: 32px;\n",
              "    padding: 0;\n",
              "    width: 32px;\n",
              "  }\n",
              "\n",
              "  .colab-df-quickchart:hover {\n",
              "    background-color: var(--hover-bg-color);\n",
              "    box-shadow: 0 1px 2px rgba(60, 64, 67, 0.3), 0 1px 3px 1px rgba(60, 64, 67, 0.15);\n",
              "    fill: var(--button-hover-fill-color);\n",
              "  }\n",
              "\n",
              "  .colab-df-quickchart-complete:disabled,\n",
              "  .colab-df-quickchart-complete:disabled:hover {\n",
              "    background-color: var(--disabled-bg-color);\n",
              "    fill: var(--disabled-fill-color);\n",
              "    box-shadow: none;\n",
              "  }\n",
              "\n",
              "  .colab-df-spinner {\n",
              "    border: 2px solid var(--fill-color);\n",
              "    border-color: transparent;\n",
              "    border-bottom-color: var(--fill-color);\n",
              "    animation:\n",
              "      spin 1s steps(1) infinite;\n",
              "  }\n",
              "\n",
              "  @keyframes spin {\n",
              "    0% {\n",
              "      border-color: transparent;\n",
              "      border-bottom-color: var(--fill-color);\n",
              "      border-left-color: var(--fill-color);\n",
              "    }\n",
              "    20% {\n",
              "      border-color: transparent;\n",
              "      border-left-color: var(--fill-color);\n",
              "      border-top-color: var(--fill-color);\n",
              "    }\n",
              "    30% {\n",
              "      border-color: transparent;\n",
              "      border-left-color: var(--fill-color);\n",
              "      border-top-color: var(--fill-color);\n",
              "      border-right-color: var(--fill-color);\n",
              "    }\n",
              "    40% {\n",
              "      border-color: transparent;\n",
              "      border-right-color: var(--fill-color);\n",
              "      border-top-color: var(--fill-color);\n",
              "    }\n",
              "    60% {\n",
              "      border-color: transparent;\n",
              "      border-right-color: var(--fill-color);\n",
              "    }\n",
              "    80% {\n",
              "      border-color: transparent;\n",
              "      border-right-color: var(--fill-color);\n",
              "      border-bottom-color: var(--fill-color);\n",
              "    }\n",
              "    90% {\n",
              "      border-color: transparent;\n",
              "      border-bottom-color: var(--fill-color);\n",
              "    }\n",
              "  }\n",
              "</style>\n",
              "\n",
              "  <script>\n",
              "    async function quickchart(key) {\n",
              "      const quickchartButtonEl =\n",
              "        document.querySelector('#' + key + ' button');\n",
              "      quickchartButtonEl.disabled = true;  // To prevent multiple clicks.\n",
              "      quickchartButtonEl.classList.add('colab-df-spinner');\n",
              "      try {\n",
              "        const charts = await google.colab.kernel.invokeFunction(\n",
              "            'suggestCharts', [key], {});\n",
              "      } catch (error) {\n",
              "        console.error('Error during call to suggestCharts:', error);\n",
              "      }\n",
              "      quickchartButtonEl.classList.remove('colab-df-spinner');\n",
              "      quickchartButtonEl.classList.add('colab-df-quickchart-complete');\n",
              "    }\n",
              "    (() => {\n",
              "      let quickchartButtonEl =\n",
              "        document.querySelector('#df-b56a8440-c1dc-4d07-8de9-2724a23caadb button');\n",
              "      quickchartButtonEl.style.display =\n",
              "        google.colab.kernel.accessAllowed ? 'block' : 'none';\n",
              "    })();\n",
              "  </script>\n",
              "</div>\n",
              "    </div>\n",
              "  </div>\n"
            ]
          },
          "metadata": {},
          "execution_count": 350
        }
      ]
    },
    {
      "cell_type": "code",
      "source": [
        "#check correlation\n",
        "rows_is_shared = df_train[df_train['share_indicator'] == 1][['share_indicator', 'price']]\n",
        "rows_isnot_shared = df_train[df_train['share_indicator'] == 0][['share_indicator', 'price']]\n",
        "mean_price_is_shared = rows_is_shared['price'].mean()\n",
        "mean_price_isnot_shared = rows_isnot_shared['price'].mean()\n",
        "\n",
        "# Print mean prices\n",
        "print(f\"Mean price for studio: {mean_price_is_shared}\")\n",
        "print(f\"Mean price for non-studio: {mean_price_isnot_shared}\")\n",
        "\n",
        "# Plot the mean prices\n",
        "sns.barplot(x=['shared', 'Non-shared'], y=[mean_price_is_shared, mean_price_isnot_shared])\n",
        "plt.ylabel('Mean Price')\n",
        "plt.title('Mean Price for shared and Non-shared bath')\n",
        "plt.show()"
      ],
      "metadata": {
        "id": "Mk6_BUhsJh5J",
        "colab": {
          "base_uri": "https://localhost:8080/",
          "height": 488
        },
        "outputId": "ea9f11ec-cdd4-44a4-8a32-95cbafd9a712"
      },
      "execution_count": null,
      "outputs": [
        {
          "output_type": "stream",
          "name": "stdout",
          "text": [
            "Mean price for studio: 0.3840985442329227\n",
            "Mean price for non-studio: 2.0495573937019302\n"
          ]
        },
        {
          "output_type": "display_data",
          "data": {
            "text/plain": [
              "<Figure size 640x480 with 1 Axes>"
            ],
            "image/png": "[encoded data removed]"
          },
          "metadata": {}
        }
      ]
    },
    {
      "cell_type": "code",
      "source": [
        "#extract number of baths from 'bathrooms_text' column\n",
        "df_train['num_baths'] = df_train['bathrooms_text'].str.extract('(\\d+\\.?\\d*)').astype(float)"
      ],
      "metadata": {
        "id": "j_SHKOREcY_D"
      },
      "execution_count": null,
      "outputs": []
    },
    {
      "cell_type": "code",
      "source": [
        "#check missing value\n",
        "df_train['num_baths'].isnull().sum()"
      ],
      "metadata": {
        "id": "iurF5ajkdEmM",
        "colab": {
          "base_uri": "https://localhost:8080/"
        },
        "outputId": "4871837d-31f7-4568-f364-d5186a2fc109"
      },
      "execution_count": null,
      "outputs": [
        {
          "output_type": "execute_result",
          "data": {
            "text/plain": [
              "24"
            ]
          },
          "metadata": {},
          "execution_count": 353
        }
      ]
    },
    {
      "cell_type": "code",
      "source": [
        "#check what happend on nan value\n",
        "df_train[df_train['num_baths'].isna()][['bathrooms_text', 'num_baths']]"
      ],
      "metadata": {
        "id": "8Fs5cA8VdqKq",
        "colab": {
          "base_uri": "https://localhost:8080/",
          "height": 802
        },
        "outputId": "926d370a-2528-4364-d7a2-b2e8f0a4117f"
      },
      "execution_count": null,
      "outputs": [
        {
          "output_type": "execute_result",
          "data": {
            "text/plain": [
              "          bathrooms_text  num_baths\n",
              "1180    Shared half-bath        NaN\n",
              "2083    Shared half-bath        NaN\n",
              "3310           Half-bath        NaN\n",
              "3443    Shared half-bath        NaN\n",
              "3757    Shared half-bath        NaN\n",
              "4083           Half-bath        NaN\n",
              "4158    Shared half-bath        NaN\n",
              "4444           Half-bath        NaN\n",
              "5353           Half-bath        NaN\n",
              "5471           Half-bath        NaN\n",
              "5695           Half-bath        NaN\n",
              "5975    Shared half-bath        NaN\n",
              "6246    Shared half-bath        NaN\n",
              "6303    Shared half-bath        NaN\n",
              "8378    Shared half-bath        NaN\n",
              "8911           Half-bath        NaN\n",
              "9486           Half-bath        NaN\n",
              "10478          Half-bath        NaN\n",
              "11026          Half-bath        NaN\n",
              "11179   Shared half-bath        NaN\n",
              "11677   Shared half-bath        NaN\n",
              "12375          Half-bath        NaN\n",
              "14461   Shared half-bath        NaN\n",
              "14614  Private half-bath        NaN"
            ],
            "text/html": [
              "\n",
              "  <div id=\"df-de7c0166-641e-4349-b74e-7690e4dc23ad\" class=\"colab-df-container\">\n",
              "    <div>\n",
              "<style scoped>\n",
              "    .dataframe tbody tr th:only-of-type {\n",
              "        vertical-align: middle;\n",
              "    }\n",
              "\n",
              "    .dataframe tbody tr th {\n",
              "        vertical-align: top;\n",
              "    }\n",
              "\n",
              "    .dataframe thead th {\n",
              "        text-align: right;\n",
              "    }\n",
              "</style>\n",
              "<table border=\"1\" class=\"dataframe\">\n",
              "  <thead>\n",
              "    <tr style=\"text-align: right;\">\n",
              "      <th></th>\n",
              "      <th>bathrooms_text</th>\n",
              "      <th>num_baths</th>\n",
              "    </tr>\n",
              "  </thead>\n",
              "  <tbody>\n",
              "    <tr>\n",
              "      <th>1180</th>\n",
              "      <td>Shared half-bath</td>\n",
              "      <td>NaN</td>\n",
              "    </tr>\n",
              "    <tr>\n",
              "      <th>2083</th>\n",
              "      <td>Shared half-bath</td>\n",
              "      <td>NaN</td>\n",
              "    </tr>\n",
              "    <tr>\n",
              "      <th>3310</th>\n",
              "      <td>Half-bath</td>\n",
              "      <td>NaN</td>\n",
              "    </tr>\n",
              "    <tr>\n",
              "      <th>3443</th>\n",
              "      <td>Shared half-bath</td>\n",
              "      <td>NaN</td>\n",
              "    </tr>\n",
              "    <tr>\n",
              "      <th>3757</th>\n",
              "      <td>Shared half-bath</td>\n",
              "      <td>NaN</td>\n",
              "    </tr>\n",
              "    <tr>\n",
              "      <th>4083</th>\n",
              "      <td>Half-bath</td>\n",
              "      <td>NaN</td>\n",
              "    </tr>\n",
              "    <tr>\n",
              "      <th>4158</th>\n",
              "      <td>Shared half-bath</td>\n",
              "      <td>NaN</td>\n",
              "    </tr>\n",
              "    <tr>\n",
              "      <th>4444</th>\n",
              "      <td>Half-bath</td>\n",
              "      <td>NaN</td>\n",
              "    </tr>\n",
              "    <tr>\n",
              "      <th>5353</th>\n",
              "      <td>Half-bath</td>\n",
              "      <td>NaN</td>\n",
              "    </tr>\n",
              "    <tr>\n",
              "      <th>5471</th>\n",
              "      <td>Half-bath</td>\n",
              "      <td>NaN</td>\n",
              "    </tr>\n",
              "    <tr>\n",
              "      <th>5695</th>\n",
              "      <td>Half-bath</td>\n",
              "      <td>NaN</td>\n",
              "    </tr>\n",
              "    <tr>\n",
              "      <th>5975</th>\n",
              "      <td>Shared half-bath</td>\n",
              "      <td>NaN</td>\n",
              "    </tr>\n",
              "    <tr>\n",
              "      <th>6246</th>\n",
              "      <td>Shared half-bath</td>\n",
              "      <td>NaN</td>\n",
              "    </tr>\n",
              "    <tr>\n",
              "      <th>6303</th>\n",
              "      <td>Shared half-bath</td>\n",
              "      <td>NaN</td>\n",
              "    </tr>\n",
              "    <tr>\n",
              "      <th>8378</th>\n",
              "      <td>Shared half-bath</td>\n",
              "      <td>NaN</td>\n",
              "    </tr>\n",
              "    <tr>\n",
              "      <th>8911</th>\n",
              "      <td>Half-bath</td>\n",
              "      <td>NaN</td>\n",
              "    </tr>\n",
              "    <tr>\n",
              "      <th>9486</th>\n",
              "      <td>Half-bath</td>\n",
              "      <td>NaN</td>\n",
              "    </tr>\n",
              "    <tr>\n",
              "      <th>10478</th>\n",
              "      <td>Half-bath</td>\n",
              "      <td>NaN</td>\n",
              "    </tr>\n",
              "    <tr>\n",
              "      <th>11026</th>\n",
              "      <td>Half-bath</td>\n",
              "      <td>NaN</td>\n",
              "    </tr>\n",
              "    <tr>\n",
              "      <th>11179</th>\n",
              "      <td>Shared half-bath</td>\n",
              "      <td>NaN</td>\n",
              "    </tr>\n",
              "    <tr>\n",
              "      <th>11677</th>\n",
              "      <td>Shared half-bath</td>\n",
              "      <td>NaN</td>\n",
              "    </tr>\n",
              "    <tr>\n",
              "      <th>12375</th>\n",
              "      <td>Half-bath</td>\n",
              "      <td>NaN</td>\n",
              "    </tr>\n",
              "    <tr>\n",
              "      <th>14461</th>\n",
              "      <td>Shared half-bath</td>\n",
              "      <td>NaN</td>\n",
              "    </tr>\n",
              "    <tr>\n",
              "      <th>14614</th>\n",
              "      <td>Private half-bath</td>\n",
              "      <td>NaN</td>\n",
              "    </tr>\n",
              "  </tbody>\n",
              "</table>\n",
              "</div>\n",
              "    <div class=\"colab-df-buttons\">\n",
              "\n",
              "  <div class=\"colab-df-container\">\n",
              "    <button class=\"colab-df-convert\" onclick=\"convertToInteractive('df-de7c0166-641e-4349-b74e-7690e4dc23ad')\"\n",
              "            title=\"Convert this dataframe to an interactive table.\"\n",
              "            style=\"display:none;\">\n",
              "\n",
              "  <svg xmlns=\"http://www.w3.org/2000/svg\" height=\"24px\" viewBox=\"0 -960 960 960\">\n",
              "    <path d=\"M120-120v-720h720v720H120Zm60-500h600v-160H180v160Zm220 220h160v-160H400v160Zm0 220h160v-160H400v160ZM180-400h160v-160H180v160Zm440 0h160v-160H620v160ZM180-180h160v-160H180v160Zm440 0h160v-160H620v160Z\"/>\n",
              "  </svg>\n",
              "    </button>\n",
              "\n",
              "  <style>\n",
              "    .colab-df-container {\n",
              "      display:flex;\n",
              "      gap: 12px;\n",
              "    }\n",
              "\n",
              "    .colab-df-convert {\n",
              "      background-color: #E8F0FE;\n",
              "      border: none;\n",
              "      border-radius: 50%;\n",
              "      cursor: pointer;\n",
              "      display: none;\n",
              "      fill: #1967D2;\n",
              "      height: 32px;\n",
              "      padding: 0 0 0 0;\n",
              "      width: 32px;\n",
              "    }\n",
              "\n",
              "    .colab-df-convert:hover {\n",
              "      background-color: #E2EBFA;\n",
              "      box-shadow: 0px 1px 2px rgba(60, 64, 67, 0.3), 0px 1px 3px 1px rgba(60, 64, 67, 0.15);\n",
              "      fill: #174EA6;\n",
              "    }\n",
              "\n",
              "    .colab-df-buttons div {\n",
              "      margin-bottom: 4px;\n",
              "    }\n",
              "\n",
              "    [theme=dark] .colab-df-convert {\n",
              "      background-color: #3B4455;\n",
              "      fill: #D2E3FC;\n",
              "    }\n",
              "\n",
              "    [theme=dark] .colab-df-convert:hover {\n",
              "      background-color: #434B5C;\n",
              "      box-shadow: 0px 1px 3px 1px rgba(0, 0, 0, 0.15);\n",
              "      filter: drop-shadow(0px 1px 2px rgba(0, 0, 0, 0.3));\n",
              "      fill: #FFFFFF;\n",
              "    }\n",
              "  </style>\n",
              "\n",
              "    <script>\n",
              "      const buttonEl =\n",
              "        document.querySelector('#df-de7c0166-641e-4349-b74e-7690e4dc23ad button.colab-df-convert');\n",
              "      buttonEl.style.display =\n",
              "        google.colab.kernel.accessAllowed ? 'block' : 'none';\n",
              "\n",
              "      async function convertToInteractive(key) {\n",
              "        const element = document.querySelector('#df-de7c0166-641e-4349-b74e-7690e4dc23ad');\n",
              "        const dataTable =\n",
              "          await google.colab.kernel.invokeFunction('convertToInteractive',\n",
              "                                                    [key], {});\n",
              "        if (!dataTable) return;\n",
              "\n",
              "        const docLinkHtml = 'Like what you see? Visit the ' +\n",
              "          '<a target=\"_blank\" href=https://colab.research.google.com/notebooks/data_table.ipynb>data table notebook</a>'\n",
              "          + ' to learn more about interactive tables.';\n",
              "        element.innerHTML = '';\n",
              "        dataTable['output_type'] = 'display_data';\n",
              "        await google.colab.output.renderOutput(dataTable, element);\n",
              "        const docLink = document.createElement('div');\n",
              "        docLink.innerHTML = docLinkHtml;\n",
              "        element.appendChild(docLink);\n",
              "      }\n",
              "    </script>\n",
              "  </div>\n",
              "\n",
              "\n",
              "<div id=\"df-9acdcf86-36c7-4343-aff8-54e9a80ad18d\">\n",
              "  <button class=\"colab-df-quickchart\" onclick=\"quickchart('df-9acdcf86-36c7-4343-aff8-54e9a80ad18d')\"\n",
              "            title=\"Suggest charts\"\n",
              "            style=\"display:none;\">\n",
              "\n",
              "<svg xmlns=\"http://www.w3.org/2000/svg\" height=\"24px\"viewBox=\"0 0 24 24\"\n",
              "     width=\"24px\">\n",
              "    <g>\n",
              "        <path d=\"M19 3H5c-1.1 0-2 .9-2 2v14c0 1.1.9 2 2 2h14c1.1 0 2-.9 2-2V5c0-1.1-.9-2-2-2zM9 17H7v-7h2v7zm4 0h-2V7h2v10zm4 0h-2v-4h2v4z\"/>\n",
              "    </g>\n",
              "</svg>\n",
              "  </button>\n",
              "\n",
              "<style>\n",
              "  .colab-df-quickchart {\n",
              "      --bg-color: #E8F0FE;\n",
              "      --fill-color: #1967D2;\n",
              "      --hover-bg-color: #E2EBFA;\n",
              "      --hover-fill-color: #174EA6;\n",
              "      --disabled-fill-color: #AAA;\n",
              "      --disabled-bg-color: #DDD;\n",
              "  }\n",
              "\n",
              "  [theme=dark] .colab-df-quickchart {\n",
              "      --bg-color: #3B4455;\n",
              "      --fill-color: #D2E3FC;\n",
              "      --hover-bg-color: #434B5C;\n",
              "      --hover-fill-color: #FFFFFF;\n",
              "      --disabled-bg-color: #3B4455;\n",
              "      --disabled-fill-color: #666;\n",
              "  }\n",
              "\n",
              "  .colab-df-quickchart {\n",
              "    background-color: var(--bg-color);\n",
              "    border: none;\n",
              "    border-radius: 50%;\n",
              "    cursor: pointer;\n",
              "    display: none;\n",
              "    fill: var(--fill-color);\n",
              "    height: 32px;\n",
              "    padding: 0;\n",
              "    width: 32px;\n",
              "  }\n",
              "\n",
              "  .colab-df-quickchart:hover {\n",
              "    background-color: var(--hover-bg-color);\n",
              "    box-shadow: 0 1px 2px rgba(60, 64, 67, 0.3), 0 1px 3px 1px rgba(60, 64, 67, 0.15);\n",
              "    fill: var(--button-hover-fill-color);\n",
              "  }\n",
              "\n",
              "  .colab-df-quickchart-complete:disabled,\n",
              "  .colab-df-quickchart-complete:disabled:hover {\n",
              "    background-color: var(--disabled-bg-color);\n",
              "    fill: var(--disabled-fill-color);\n",
              "    box-shadow: none;\n",
              "  }\n",
              "\n",
              "  .colab-df-spinner {\n",
              "    border: 2px solid var(--fill-color);\n",
              "    border-color: transparent;\n",
              "    border-bottom-color: var(--fill-color);\n",
              "    animation:\n",
              "      spin 1s steps(1) infinite;\n",
              "  }\n",
              "\n",
              "  @keyframes spin {\n",
              "    0% {\n",
              "      border-color: transparent;\n",
              "      border-bottom-color: var(--fill-color);\n",
              "      border-left-color: var(--fill-color);\n",
              "    }\n",
              "    20% {\n",
              "      border-color: transparent;\n",
              "      border-left-color: var(--fill-color);\n",
              "      border-top-color: var(--fill-color);\n",
              "    }\n",
              "    30% {\n",
              "      border-color: transparent;\n",
              "      border-left-color: var(--fill-color);\n",
              "      border-top-color: var(--fill-color);\n",
              "      border-right-color: var(--fill-color);\n",
              "    }\n",
              "    40% {\n",
              "      border-color: transparent;\n",
              "      border-right-color: var(--fill-color);\n",
              "      border-top-color: var(--fill-color);\n",
              "    }\n",
              "    60% {\n",
              "      border-color: transparent;\n",
              "      border-right-color: var(--fill-color);\n",
              "    }\n",
              "    80% {\n",
              "      border-color: transparent;\n",
              "      border-right-color: var(--fill-color);\n",
              "      border-bottom-color: var(--fill-color);\n",
              "    }\n",
              "    90% {\n",
              "      border-color: transparent;\n",
              "      border-bottom-color: var(--fill-color);\n",
              "    }\n",
              "  }\n",
              "</style>\n",
              "\n",
              "  <script>\n",
              "    async function quickchart(key) {\n",
              "      const quickchartButtonEl =\n",
              "        document.querySelector('#' + key + ' button');\n",
              "      quickchartButtonEl.disabled = true;  // To prevent multiple clicks.\n",
              "      quickchartButtonEl.classList.add('colab-df-spinner');\n",
              "      try {\n",
              "        const charts = await google.colab.kernel.invokeFunction(\n",
              "            'suggestCharts', [key], {});\n",
              "      } catch (error) {\n",
              "        console.error('Error during call to suggestCharts:', error);\n",
              "      }\n",
              "      quickchartButtonEl.classList.remove('colab-df-spinner');\n",
              "      quickchartButtonEl.classList.add('colab-df-quickchart-complete');\n",
              "    }\n",
              "    (() => {\n",
              "      let quickchartButtonEl =\n",
              "        document.querySelector('#df-9acdcf86-36c7-4343-aff8-54e9a80ad18d button');\n",
              "      quickchartButtonEl.style.display =\n",
              "        google.colab.kernel.accessAllowed ? 'block' : 'none';\n",
              "    })();\n",
              "  </script>\n",
              "</div>\n",
              "    </div>\n",
              "  </div>\n"
            ]
          },
          "metadata": {},
          "execution_count": 354
        }
      ]
    },
    {
      "cell_type": "code",
      "source": [
        "#fill nan with 0.5 based on above\n",
        "df_train['num_baths'] = df_train['num_baths'].fillna(0.5)"
      ],
      "metadata": {
        "id": "KDp2GdXcjMOQ"
      },
      "execution_count": null,
      "outputs": []
    },
    {
      "cell_type": "code",
      "source": [
        "#correlation check\n",
        "mean_price_by_num_bathroom = df_train.groupby('num_baths')['price'].mean().reset_index()\n",
        "\n",
        "# Plot the data\n",
        "plt.figure(figsize=(8, 6))\n",
        "sns.barplot(x='num_baths', y='price', data=mean_price_by_num_bathroom, palette='viridis')\n",
        "plt.title('Mean Price by num of Bathroom')\n",
        "plt.xlabel('Shared Bathroom')\n",
        "plt.ylabel('Mean Price')\n",
        "plt.show()"
      ],
      "metadata": {
        "id": "NSINeuznK66H",
        "colab": {
          "base_uri": "https://localhost:8080/",
          "height": 564
        },
        "outputId": "a04e2fb0-829b-4912-8356-df866f735dd9"
      },
      "execution_count": null,
      "outputs": [
        {
          "output_type": "display_data",
          "data": {
            "text/plain": [
              "<Figure size 800x600 with 1 Axes>"
            ],
            "image/png": "[encoded data removed]"
          },
          "metadata": {}
        }
      ]
    },
    {
      "cell_type": "code",
      "source": [
        "df_train = df_train.drop('bathrooms_text',axis=1)"
      ],
      "metadata": {
        "id": "tDjN7MVwkj57"
      },
      "execution_count": null,
      "outputs": []
    },
    {
      "cell_type": "markdown",
      "source": [
        "Step 2.5 Turns the T/F label to binary 0,1 label"
      ],
      "metadata": {
        "id": "Baq6vFtjPCLU"
      }
    },
    {
      "cell_type": "code",
      "source": [
        "#one hot encoding for t/f columns\n",
        "from sklearn.preprocessing import LabelEncoder\n",
        "label_encoder = LabelEncoder()\n",
        "df_train['host_is_superhost'] = label_encoder.fit_transform(df_train['host_is_superhost'])\n",
        "df_train['host_has_profile_pic']= label_encoder.fit_transform(df_train['host_has_profile_pic'])\n",
        "df_train['host_identity_verified']= label_encoder.fit_transform(df_train['host_identity_verified'])\n",
        "df_train['instant_bookable']= label_encoder.fit_transform(df_train['instant_bookable'])\n",
        "df_train['has_availability']= label_encoder.fit_transform(df_train['has_availability'])"
      ],
      "metadata": {
        "id": "8Wgqku0QPC23"
      },
      "execution_count": null,
      "outputs": []
    },
    {
      "cell_type": "markdown",
      "source": [
        "Step 2.6 Data cleaning for 'room_type'"
      ],
      "metadata": {
        "id": "5Qxxgbu1aJqA"
      }
    },
    {
      "cell_type": "code",
      "source": [
        "df_train['room_type'].unique()"
      ],
      "metadata": {
        "id": "Vuo1Rr41aR7D",
        "colab": {
          "base_uri": "https://localhost:8080/"
        },
        "outputId": "50d246d8-5831-44fa-cc27-9a18aa84ef86"
      },
      "execution_count": null,
      "outputs": [
        {
          "output_type": "execute_result",
          "data": {
            "text/plain": [
              "array(['Shared room', 'Entire home/apt', 'Private room', 'Hotel room'],\n",
              "      dtype=object)"
            ]
          },
          "metadata": {},
          "execution_count": 359
        }
      ]
    },
    {
      "cell_type": "code",
      "source": [],
      "metadata": {
        "id": "lo5HSOhvYP3h"
      },
      "execution_count": null,
      "outputs": []
    },
    {
      "cell_type": "code",
      "source": [
        "#by common sense, the price of entire home > Hotel room  > private room  > shared room\n",
        "df_train['room_type'] = df_train['room_type'].replace({'Entire home/apt': 4,'Hotel room': 3, 'Private room': 2,  'Shared room': 1})\n",
        "df_train['room_type'].unique()"
      ],
      "metadata": {
        "id": "S7WL3wg0gVBV",
        "colab": {
          "base_uri": "https://localhost:8080/"
        },
        "outputId": "f4a09d9b-1b83-493c-e42c-cd31fb0d0e77"
      },
      "execution_count": null,
      "outputs": [
        {
          "output_type": "execute_result",
          "data": {
            "text/plain": [
              "array([1, 4, 2, 3])"
            ]
          },
          "metadata": {},
          "execution_count": 360
        }
      ]
    },
    {
      "cell_type": "code",
      "source": [
        "#check correlation stat for room type\n",
        "room_types_to_plot = [1, 2, 3, 4]\n",
        "\n",
        "# Calculate mean prices for each room type and plot bar chart\n",
        "mean_prices = df_train[df_train['room_type'].isin(room_types_to_plot)].groupby('room_type')['price'].mean()\n",
        "room_type_labels = ['Shared room','Private room', 'Hotel room', 'Entire home/apt']\n",
        "\n",
        "plt.bar(mean_prices.index, mean_prices, color='skyblue')\n",
        "plt.xlabel('Room Type')\n",
        "plt.ylabel('Mean Price')\n",
        "plt.title('Mean Price for Selected Room Types')\n",
        "plt.xticks(mean_prices.index, room_type_labels)\n",
        "plt.show()"
      ],
      "metadata": {
        "id": "4rPTQOmShgXn",
        "colab": {
          "base_uri": "https://localhost:8080/",
          "height": 472
        },
        "outputId": "378a692b-0a27-45a8-f47d-66674672c1fb"
      },
      "execution_count": null,
      "outputs": [
        {
          "output_type": "display_data",
          "data": {
            "text/plain": [
              "<Figure size 640x480 with 1 Axes>"
            ],
            "image/png": "[encoded data removed]"
          },
          "metadata": {}
        }
      ]
    },
    {
      "cell_type": "markdown",
      "source": [
        "Step 2.7 Data cleaning for 'neighbourhood_group_cleansed','neighbourhood_cleansed' and 'property_type'"
      ],
      "metadata": {
        "id": "6p5MB5kvad8i"
      }
    },
    {
      "cell_type": "code",
      "source": [
        "df_train['neighbourhood_group_cleansed'].unique()"
      ],
      "metadata": {
        "id": "4XMY_xhXakDw",
        "colab": {
          "base_uri": "https://localhost:8080/"
        },
        "outputId": "0dc2be55-9496-4f6b-8a1d-a0159432fde3"
      },
      "execution_count": null,
      "outputs": [
        {
          "output_type": "execute_result",
          "data": {
            "text/plain": [
              "array(['City of Los Angeles', 'Other Cities', 'Unincorporated Areas'],\n",
              "      dtype=object)"
            ]
          },
          "metadata": {},
          "execution_count": 362
        }
      ]
    },
    {
      "cell_type": "code",
      "source": [
        "\n",
        "#by common sense, the price of City of Los Angeles > Other Cities > Unincorporated Areas\n",
        "\n",
        "df_train['neighbourhood_group_cleansed'] = df_train['neighbourhood_group_cleansed'].replace({'City of Los Angeles': 3, 'Other Cities': 2,'Unincorporated Areas':1})\n",
        "\n",
        "# Display the DataFrame with the updated column\n",
        "print(df_train['neighbourhood_group_cleansed'])"
      ],
      "metadata": {
        "id": "exkFol1npBdB",
        "colab": {
          "base_uri": "https://localhost:8080/"
        },
        "outputId": "5fd9cbbb-5100-407d-aaa7-478588cbc5de"
      },
      "execution_count": null,
      "outputs": [
        {
          "output_type": "stream",
          "name": "stdout",
          "text": [
            "0        3\n",
            "1        3\n",
            "2        2\n",
            "3        2\n",
            "4        3\n",
            "        ..\n",
            "15434    2\n",
            "15435    2\n",
            "15436    2\n",
            "15438    3\n",
            "15440    3\n",
            "Name: neighbourhood_group_cleansed, Length: 14675, dtype: int64\n"
          ]
        }
      ]
    },
    {
      "cell_type": "code",
      "source": [
        "#correlation check\n",
        "plt.bar(df_train['neighbourhood_group_cleansed'].unique(), df_train.groupby('neighbourhood_group_cleansed')['price'].mean(), color='skyblue')\n",
        "plt.xlabel('Location Type')\n",
        "plt.ylabel('Mean Price')\n",
        "plt.title('Mean Price for Each Room Type')\n",
        "plt.show()"
      ],
      "metadata": {
        "id": "UpHt8sGdbQRd",
        "colab": {
          "base_uri": "https://localhost:8080/",
          "height": 472
        },
        "outputId": "4191e108-b2e9-42de-b8ff-c776e72eca23"
      },
      "execution_count": null,
      "outputs": [
        {
          "output_type": "display_data",
          "data": {
            "text/plain": [
              "<Figure size 640x480 with 1 Axes>"
            ],
            "image/png": "[encoded data removed]"
          },
          "metadata": {}
        }
      ]
    },
    {
      "cell_type": "code",
      "source": [
        "# plt.boxplot([df_train[df_train['neighbourhood_group_cleansed'] == group]['price'] for group in df_train['neighbourhood_group_cleansed'].unique()],\n",
        "#             labels=df_train['neighbourhood_group_cleansed'].unique(),\n",
        "#             patch_artist=True,\n",
        "#             showmeans=True,\n",
        "#             meanprops={'marker': 'o', 'markerfacecolor': 'red', 'markeredgecolor': 'red'})\n",
        "\n",
        "# plt.xlabel('Neighborhood Group')\n",
        "# plt.ylabel('Price')\n",
        "# plt.title('Distribution of Prices for Each Neighborhood Group')\n",
        "# plt.show()"
      ],
      "metadata": {
        "id": "UuNCmNkebs9a"
      },
      "execution_count": null,
      "outputs": []
    },
    {
      "cell_type": "code",
      "source": [
        "df_train = df_train.drop('neighbourhood_group_cleansed',axis = 1)"
      ],
      "metadata": {
        "id": "iV6hOK-hbg_S"
      },
      "execution_count": null,
      "outputs": []
    },
    {
      "cell_type": "code",
      "source": [
        "df_train['neighbourhood_cleansed'].value_counts() #check different neighbourhood types"
      ],
      "metadata": {
        "id": "_aT0rhOLS_1r",
        "colab": {
          "base_uri": "https://localhost:8080/"
        },
        "outputId": "19df4d91-4071-4052-9aac-3b2cd7200a4d"
      },
      "execution_count": null,
      "outputs": [
        {
          "output_type": "execute_result",
          "data": {
            "text/plain": [
              "Venice            727\n",
              "Santa Monica      558\n",
              "Long Beach        549\n",
              "West Hollywood    535\n",
              "Hollywood         515\n",
              "                 ... \n",
              "Citrus              1\n",
              "Val Verde           1\n",
              "Rolling Hills       1\n",
              "Angeles Crest       1\n",
              "Elizabeth Lake      1\n",
              "Name: neighbourhood_cleansed, Length: 258, dtype: int64"
            ]
          },
          "metadata": {},
          "execution_count": 367
        }
      ]
    },
    {
      "cell_type": "code",
      "source": [
        "#label encoding based on the mean price calculated by the group method\n",
        "mean_price_by_neighbourhood = df_train.groupby('neighbourhood_cleansed')['price'].mean()\n",
        "#least_frequent_categories = mean_price_by_neighbourhood.nsmallest(70).index\n",
        "rank_by_neighbourhood = mean_price_by_neighbourhood.rank()\n",
        "\n",
        "#rank_by_neighbourhood.loc[least_frequent_categories] = -1\n",
        "\n",
        "df_train['neighbourhood_cleansed'] = df_train['neighbourhood_cleansed'].map(rank_by_neighbourhood)\n",
        "\n",
        "print(df_train['neighbourhood_cleansed'])\n"
      ],
      "metadata": {
        "id": "LtWkUKXiZy14",
        "colab": {
          "base_uri": "https://localhost:8080/"
        },
        "outputId": "713b14c1-3c87-4bd8-ff65-8ca7d378ddbc"
      },
      "execution_count": null,
      "outputs": [
        {
          "output_type": "stream",
          "name": "stdout",
          "text": [
            "0         67.0\n",
            "1        212.0\n",
            "2        240.0\n",
            "3        191.0\n",
            "4        215.0\n",
            "         ...  \n",
            "15434    160.0\n",
            "15435    173.0\n",
            "15436    138.0\n",
            "15438    123.0\n",
            "15440    178.0\n",
            "Name: neighbourhood_cleansed, Length: 14675, dtype: float64\n"
          ]
        }
      ]
    },
    {
      "cell_type": "code",
      "source": [
        "#sanity check\n",
        "rank_by_neighbourhood"
      ],
      "metadata": {
        "id": "D6l7I_7QaOFH",
        "colab": {
          "base_uri": "https://localhost:8080/"
        },
        "outputId": "dd154c88-2afd-4d6a-8fa8-dffb4f8f1109"
      },
      "execution_count": null,
      "outputs": [
        {
          "output_type": "execute_result",
          "data": {
            "text/plain": [
              "neighbourhood_cleansed\n",
              "Acton              198.0\n",
              "Adams-Normandie     27.5\n",
              "Agoura Hills       180.0\n",
              "Agua Dulce         246.0\n",
              "Alhambra            72.0\n",
              "                   ...  \n",
              "Willowbrook        128.0\n",
              "Wilmington         186.0\n",
              "Windsor Square     105.5\n",
              "Winnetka           148.0\n",
              "Woodland Hills     211.0\n",
              "Name: price, Length: 258, dtype: float64"
            ]
          },
          "metadata": {},
          "execution_count": 369
        }
      ]
    },
    {
      "cell_type": "code",
      "source": [
        "#label encoding based on the mean price calculated by the group method\n",
        "mean_price_by_proptype = df_train.groupby('property_type')['price'].mean()\n",
        "\n",
        "# Calculate the rank of mean prices within each neighborhood\n",
        "rank_by_proptype = mean_price_by_proptype.rank()\n",
        "\n",
        "# Display the result\n",
        "print(rank_by_proptype)\n",
        "\n",
        "df_train['property_type'] = df_train['property_type'].map(rank_by_proptype)\n",
        "\n",
        "# Display the DataFrame with the 'price' column replaced by the rank\n",
        "print(df_train['property_type'])"
      ],
      "metadata": {
        "id": "gCLe1OcVbBAe",
        "colab": {
          "base_uri": "https://localhost:8080/"
        },
        "outputId": "70f08e0c-76d0-493f-b4d8-0571528258cf"
      },
      "execution_count": null,
      "outputs": [
        {
          "output_type": "stream",
          "name": "stdout",
          "text": [
            "property_type\n",
            "Barn                    45.0\n",
            "Boat                    46.0\n",
            "Camper/RV               30.0\n",
            "Campsite                61.5\n",
            "Casa particular         71.0\n",
            "                        ... \n",
            "Shared room in villa    10.0\n",
            "Tent                    39.0\n",
            "Tiny home               44.0\n",
            "Train                   39.0\n",
            "Yurt                    78.0\n",
            "Name: price, Length: 82, dtype: float64\n",
            "0        22.0\n",
            "1        47.0\n",
            "2        67.0\n",
            "3        67.0\n",
            "4        74.0\n",
            "         ... \n",
            "15434    67.0\n",
            "15435    54.0\n",
            "15436    47.0\n",
            "15438    47.0\n",
            "15440    47.0\n",
            "Name: property_type, Length: 14675, dtype: float64\n"
          ]
        }
      ]
    },
    {
      "cell_type": "markdown",
      "source": [
        "Step 2.8 visualize the geometric info represented by the dataset, and create downtown_distance column\n"
      ],
      "metadata": {
        "id": "PtdIYGhHYGeU"
      }
    },
    {
      "cell_type": "code",
      "source": [
        "import geopandas as gpd\n",
        "# Create a GeoDataFrame\n",
        "gdf_train = gpd.GeoDataFrame(df_train, geometry=gpd.points_from_xy(df_train.longitude, df_train.latitude))\n",
        "\n",
        "# Set the latitude and longitude limits\n",
        "latitude_min, latitude_max = 32.5, 35\n",
        "longitude_min, longitude_max = -119, -117\n",
        "\n",
        "# Filter the GeoDataFrame based on the area of interest\n",
        "gdf_area_of_interest = gdf_train[(gdf_train.latitude >= latitude_min) & (gdf_train.latitude <= latitude_max)\n",
        "                                 & (gdf_train.longitude >= longitude_min) & (gdf_train.longitude <= longitude_max)]\n",
        "\n",
        "# Create a scatter plot\n",
        "fig, ax = plt.subplots(figsize=(15, 10))\n",
        "graph = gpd.read_file(gpd.datasets.get_path('naturalearth_lowres'))\n",
        "graph.plot(ax=ax, color='lightgrey')\n",
        "\n",
        "sns.scatterplot(x='longitude', y='latitude', hue='price', data=gdf_area_of_interest, palette='viridis', alpha=0.7, legend='full', ax=ax)\n",
        "\n",
        "ax.legend(title='Price Category')\n",
        "\n",
        "# Set x-axis and y-axis limits\n",
        "ax.set_xlim(longitude_min, longitude_max)\n",
        "ax.set_ylim(latitude_min, latitude_max)\n",
        "\n",
        "plt.show()"
      ],
      "metadata": {
        "id": "ovT3aZsrGy64",
        "colab": {
          "base_uri": "https://localhost:8080/",
          "height": 911
        },
        "outputId": "952a154f-c678-4c96-d2d1-ee0ddfb381e7"
      },
      "execution_count": null,
      "outputs": [
        {
          "output_type": "stream",
          "name": "stderr",
          "text": [
            "<ipython-input-371-d35da7f089b2>:15: FutureWarning: The geopandas.dataset module is deprecated and will be removed in GeoPandas 1.0. You can get the original 'naturalearth_lowres' data from https://www.naturalearthdata.com/downloads/110m-cultural-vectors/.\n",
            "  graph = gpd.read_file(gpd.datasets.get_path('naturalearth_lowres'))\n"
          ]
        },
        {
          "output_type": "display_data",
          "data": {
            "text/plain": [
              "<Figure size 1500x1000 with 1 Axes>"
            ],
            "image/png": "[encoded data removed]"
          },
          "metadata": {}
        }
      ]
    },
    {
      "cell_type": "code",
      "source": [
        "#add new column named 'distance_to_downtown' and calculate euclidean distance between downtown and house location using geometrical info\n",
        "loc = np.array([34.052235, -118.243683])\n",
        "dis_list = []\n",
        "\n",
        "for i, j in zip(df_train['latitude'], df_train['longitude']):\n",
        "    point1 = np.array([i, j])  # Use parentheses here\n",
        "    distance = np.linalg.norm(point1 - loc)\n",
        "    dis_list.append(distance)\n",
        "\n",
        "df_train['distance_to_downtown'] = dis_list\n"
      ],
      "metadata": {
        "id": "D2TuqDhCE6bS"
      },
      "execution_count": null,
      "outputs": []
    },
    {
      "cell_type": "markdown",
      "source": [
        "check correlation for 'accomodates' and 'num_reviews'"
      ],
      "metadata": {
        "id": "XOCBr2QwkHPz"
      }
    },
    {
      "cell_type": "code",
      "source": [
        "#accomodates\n",
        "mean_price_by_accommodates = df_train.groupby('accommodates')['price'].mean().reset_index()\n",
        "\n",
        "# Plot the data\n",
        "plt.figure(figsize=(8, 6))\n",
        "sns.barplot(x='accommodates', y='price', data=mean_price_by_accommodates,color='black')\n",
        "plt.title('Mean Price by accommodates')\n",
        "plt.xlabel('accomodates')\n",
        "plt.ylabel('Mean Price')\n",
        "plt.show()"
      ],
      "metadata": {
        "id": "UdS4aQQGNK9y",
        "colab": {
          "base_uri": "https://localhost:8080/",
          "height": 564
        },
        "outputId": "028f000a-7b2e-4794-f7fa-7a8a1c2fbdb0"
      },
      "execution_count": null,
      "outputs": [
        {
          "output_type": "display_data",
          "data": {
            "text/plain": [
              "<Figure size 800x600 with 1 Axes>"
            ],
            "image/png": "[encoded data removed]"
          },
          "metadata": {}
        }
      ]
    },
    {
      "cell_type": "code",
      "source": [
        "df_train['number_of_reviews']"
      ],
      "metadata": {
        "id": "gBD-xQUwOcl_",
        "colab": {
          "base_uri": "https://localhost:8080/"
        },
        "outputId": "0eb467a4-35ef-411c-d5fd-61c70fe234d7"
      },
      "execution_count": null,
      "outputs": [
        {
          "output_type": "execute_result",
          "data": {
            "text/plain": [
              "0         0\n",
              "1        81\n",
              "2         3\n",
              "3         0\n",
              "4         0\n",
              "         ..\n",
              "15434     0\n",
              "15435     7\n",
              "15436     2\n",
              "15438     0\n",
              "15440     0\n",
              "Name: number_of_reviews, Length: 14675, dtype: int64"
            ]
          },
          "metadata": {},
          "execution_count": 374
        }
      ]
    },
    {
      "cell_type": "code",
      "source": [
        "#num_reviews\n",
        "df_train['reviews_quantile'] = pd.qcut(df_train['number_of_reviews'], q = 3, labels=False)\n",
        "\n",
        "# Group by 'reviews_quantile' and calculate mean price\n",
        "mean_price_by_reviews_quantile = df_train.groupby('reviews_quantile')['price'].mean().reset_index()\n",
        "\n",
        "# Plot the data\n",
        "plt.figure(figsize=(12, 6))\n",
        "sns.barplot(x='reviews_quantile', y='price', data=mean_price_by_reviews_quantile, color='black')\n",
        "plt.title('Mean Price by Number of Reviews Quantile')\n",
        "plt.xlabel('Number of Reviews Quantile')\n",
        "plt.ylabel('Mean Price')\n",
        "plt.xticks(rotation=45, ha='right')  # Rotate x-axis labels for better readability\n",
        "plt.show()\n",
        "\n",
        "df_train = df_train.drop('reviews_quantile',axis = 1)"
      ],
      "metadata": {
        "id": "VU4C4AYtNSSg",
        "colab": {
          "base_uri": "https://localhost:8080/",
          "height": 566
        },
        "outputId": "9a43a849-f822-419e-ece7-aa0a08dc151b"
      },
      "execution_count": null,
      "outputs": [
        {
          "output_type": "display_data",
          "data": {
            "text/plain": [
              "<Figure size 1200x600 with 1 Axes>"
            ],
            "image/png": "[encoded data removed]"
          },
          "metadata": {}
        }
      ]
    },
    {
      "cell_type": "code",
      "source": [
        "df_train = df_train.dropna() #drop all na for fitting"
      ],
      "metadata": {
        "id": "CmmEmVTimrJL"
      },
      "execution_count": null,
      "outputs": []
    },
    {
      "cell_type": "code",
      "source": [
        "df_train.shape #check final shape"
      ],
      "metadata": {
        "id": "2btjoaEQ0L8s",
        "colab": {
          "base_uri": "https://localhost:8080/"
        },
        "outputId": "9bd3b152-87be-4e8c-c72c-f043db46ff45"
      },
      "execution_count": null,
      "outputs": [
        {
          "output_type": "execute_result",
          "data": {
            "text/plain": [
              "(14675, 50)"
            ]
          },
          "metadata": {},
          "execution_count": 377
        }
      ]
    },
    {
      "cell_type": "code",
      "source": [
        "df_train.isnull().sum()#sanity check"
      ],
      "metadata": {
        "id": "Kro6qHhBnQZK",
        "colab": {
          "base_uri": "https://localhost:8080/"
        },
        "outputId": "7a43322f-45b1-41f3-8393-df3f9c41504c"
      },
      "execution_count": null,
      "outputs": [
        {
          "output_type": "execute_result",
          "data": {
            "text/plain": [
              "host_id                                         0\n",
              "property_type                                   0\n",
              "neighbourhood_cleansed                          0\n",
              "host_is_superhost                               0\n",
              "host_has_profile_pic                            0\n",
              "host_identity_verified                          0\n",
              "room_type                                       0\n",
              "accommodates                                    0\n",
              "beds                                            0\n",
              "latitude                                        0\n",
              "longitude                                       0\n",
              "price                                           0\n",
              "host_listings_count                             0\n",
              "has_availability                                0\n",
              "instant_bookable                                0\n",
              "number_of_reviews                               0\n",
              "availability_30                                 0\n",
              "availability_60                                 0\n",
              "availability_90                                 0\n",
              "availability_365                                0\n",
              "minimum_nights                                  0\n",
              "maximum_nights                                  0\n",
              "minimum_minimum_nights                          0\n",
              "minimum_maximum_nights                          0\n",
              "minimum_nights_avg_ntm                          0\n",
              "maximum_nights_avg_ntm                          0\n",
              "calculated_host_listings_count                  0\n",
              "calculated_host_listings_count_entire_homes     0\n",
              "calculated_host_listings_count_private_rooms    0\n",
              "calculated_host_listings_count_shared_rooms     0\n",
              "email                                           0\n",
              "phone                                           0\n",
              "work_email                                      0\n",
              "hair_dryer                                      0\n",
              "cooking_basics                                  0\n",
              "refrigerator                                    0\n",
              "microwave                                       0\n",
              "bed_linens                                      0\n",
              "dedicated_workspace                             0\n",
              "fire_extinguisher                               0\n",
              "air_conditioning                                0\n",
              "first_aid_kit                                   0\n",
              "amenities_count                                 0\n",
              "is_studio                                       0\n",
              "num_bedrooms                                    0\n",
              "star                                            0\n",
              "days_since_hosting                              0\n",
              "share_indicator                                 0\n",
              "num_baths                                       0\n",
              "distance_to_downtown                            0\n",
              "dtype: int64"
            ]
          },
          "metadata": {},
          "execution_count": 378
        }
      ]
    },
    {
      "cell_type": "markdown",
      "source": [
        "Step3 Model1 Random Forest"
      ],
      "metadata": {
        "id": "AnfJAFPzmwpq"
      }
    },
    {
      "cell_type": "code",
      "source": [
        "\n",
        "from sklearn.model_selection import train_test_split\n",
        "from sklearn.ensemble import RandomForestClassifier\n",
        "from sklearn.metrics import accuracy_score, classification_report\n",
        "X = df_train.drop('price', axis=1)\n",
        "y = df_train['price']\n",
        "X_train, X_test, y_train, y_test = train_test_split(X, y, test_size=0.2,random_state = 52)\n",
        "\n",
        "# Train the Random Forest Model\n",
        "#rf_model = RandomForestClassifier(n_estimators=300, max_features = 0.3, max_samples = 0.6, max_depth = 18, ccp_alpha=0.001, random_state = 45)\n",
        "rf_model = RandomForestClassifier(n_estimators=350, max_features =0.2 , random_state = 45) #10 feature version 55.8\n",
        "\n",
        "rf_model.fit(X_train, y_train)\n",
        "\n",
        "# Make Predictions on Train and Test sets\n",
        "y_train_pred = rf_model.predict(X_train)\n",
        "y_test_pred = rf_model.predict(X_test)\n",
        "\n",
        "# Calculate Train Accuracy\n",
        "train_accuracy = accuracy_score(y_train, y_train_pred)\n",
        "print(f'Training Accuracy: {train_accuracy}')\n",
        "\n",
        "# Calculate Test Accuracy\n",
        "test_accuracy = accuracy_score(y_test, y_test_pred)\n",
        "print(f'Test Accuracy: {test_accuracy}')\n",
        "\n",
        "# Print Classification Report for Test Set\n",
        "print(\"Classification Report (Test Set):\")\n",
        "print(classification_report(y_test, y_test_pred))\n",
        "# Print Variable Importance\n",
        "feature_importance = pd.DataFrame({'Feature': X.columns, 'Importance': rf_model.feature_importances_})\n",
        "feature_importance = feature_importance.sort_values(by='Importance', ascending=False)\n",
        "\n",
        "print(\"Variable Importance:\")\n",
        "print(feature_importance)"
      ],
      "metadata": {
        "id": "AXObfobeQlUr",
        "colab": {
          "base_uri": "https://localhost:8080/"
        },
        "outputId": "91413b95-904c-4b1f-9107-be4453da7b18"
      },
      "execution_count": null,
      "outputs": [
        {
          "output_type": "stream",
          "name": "stdout",
          "text": [
            "Training Accuracy: 0.9998296422487223\n",
            "Test Accuracy: 0.5965928449744463\n",
            "Classification Report (Test Set):\n",
            "              precision    recall  f1-score   support\n",
            "\n",
            "         0.0       0.76      0.87      0.81       810\n",
            "         1.0       0.51      0.50      0.50       534\n",
            "         2.0       0.44      0.34      0.38       491\n",
            "         3.0       0.49      0.56      0.52       524\n",
            "         4.0       0.55      0.47      0.51       348\n",
            "         5.0       0.81      0.66      0.73       228\n",
            "\n",
            "    accuracy                           0.60      2935\n",
            "   macro avg       0.59      0.57      0.58      2935\n",
            "weighted avg       0.59      0.60      0.59      2935\n",
            "\n",
            "Variable Importance:\n",
            "                                         Feature  Importance\n",
            "2                         neighbourhood_cleansed    0.064393\n",
            "47                                     num_baths    0.059011\n",
            "10                                     longitude    0.053501\n",
            "9                                       latitude    0.049797\n",
            "7                                   accommodates    0.046985\n",
            "43                                  num_bedrooms    0.046962\n",
            "41                               amenities_count    0.045142\n",
            "48                          distance_to_downtown    0.044994\n",
            "1                                  property_type    0.043344\n",
            "45                            days_since_hosting    0.036648\n",
            "0                                        host_id    0.036207\n",
            "18                              availability_365    0.033771\n",
            "14                             number_of_reviews    0.030404\n",
            "11                           host_listings_count    0.025838\n",
            "8                                           beds    0.025741\n",
            "17                               availability_90    0.025642\n",
            "26   calculated_host_listings_count_entire_homes    0.025192\n",
            "44                                          star    0.024894\n",
            "16                               availability_60    0.024128\n",
            "15                               availability_30    0.023183\n",
            "25                calculated_host_listings_count    0.022919\n",
            "23                        minimum_nights_avg_ntm    0.022391\n",
            "20                                maximum_nights    0.018735\n",
            "19                                minimum_nights    0.016430\n",
            "21                        minimum_minimum_nights    0.016374\n",
            "22                        minimum_maximum_nights    0.015195\n",
            "24                        maximum_nights_avg_ntm    0.014852\n",
            "27  calculated_host_listings_count_private_rooms    0.012658\n",
            "6                                      room_type    0.007225\n",
            "40                                 first_aid_kit    0.007077\n",
            "13                              instant_bookable    0.006646\n",
            "38                             fire_extinguisher    0.006619\n",
            "37                           dedicated_workspace    0.006409\n",
            "3                              host_is_superhost    0.005683\n",
            "39                              air_conditioning    0.005563\n",
            "36                                    bed_linens    0.005442\n",
            "35                                     microwave    0.005320\n",
            "31                                    work_email    0.005132\n",
            "32                                    hair_dryer    0.005050\n",
            "34                                  refrigerator    0.004892\n",
            "46                               share_indicator    0.004465\n",
            "33                                cooking_basics    0.004430\n",
            "5                         host_identity_verified    0.004269\n",
            "29                                         email    0.003485\n",
            "12                              has_availability    0.002590\n",
            "42                                     is_studio    0.002260\n",
            "4                           host_has_profile_pic    0.001362\n",
            "28   calculated_host_listings_count_shared_rooms    0.000567\n",
            "30                                         phone    0.000182\n"
          ]
        }
      ]
    },
    {
      "cell_type": "code",
      "source": [
        "#balanced accurcy for random forest model\n",
        "balanced_acc_randomforest = balanced_accuracy_score(y_test, y_test_pred)\n",
        "print(f'balanced accurcy for random forest model:{balanced_acc_randomforest}')"
      ],
      "metadata": {
        "colab": {
          "base_uri": "https://localhost:8080/"
        },
        "id": "WyJ_IcpJevGs",
        "outputId": "781b8a00-4196-4254-9eda-ac7a503593d0"
      },
      "execution_count": null,
      "outputs": [
        {
          "output_type": "stream",
          "name": "stdout",
          "text": [
            "balanced accurcy for random forest model:0.5680106663399063\n"
          ]
        }
      ]
    },
    {
      "cell_type": "code",
      "source": [
        "from sklearn.model_selection import GridSearchCV\n",
        "\n",
        "# Define the parameter grid\n",
        "param_grid = {\n",
        "    'n_estimators': [200, 250, 300],\n",
        "    'max_features': [0.3, 0.4, 0.5],\n",
        "}\n",
        "\n",
        "rf_model_grid = RandomForestClassifier(random_state = 45)\n",
        "\n",
        "grid_search = GridSearchCV(estimator=rf_model_grid, param_grid=param_grid, cv=5, scoring='accuracy',verbose = 2)\n",
        "\n",
        "# Fit the grid search to the data\n",
        "grid_search.fit(X_train, y_train)\n",
        "\n",
        "# Print the best parameters found by the grid search\n",
        "print(\"Best Parameters:\", grid_search.best_params_)\n",
        "\n",
        "# Get the mean cross-validated score of the best_estimator\n",
        "mean_accuracy = grid_search.best_score_\n",
        "print(f'Mean Cross-Validated Accuracy: {mean_accuracy}')\n",
        "\n",
        "# Make predictions using the best model\n",
        "best_rf_model = grid_search.best_estimator_\n",
        "y_test_pred_best = best_rf_model.predict(X_test)\n",
        "\n",
        "# Calculate Test Accuracy using the best model\n",
        "test_accuracy_best = accuracy_score(y_test, y_test_pred_best)\n",
        "print(f'Test Accuracy (Best Model): {test_accuracy_best}')\n",
        "\n",
        "# Print Classification Report for Test Set using the best model\n",
        "print(\"Classification Report (Test Set - Best Model):\")\n",
        "print(classification_report(y_test, y_test_pred_best))\n",
        "\n",
        "# Print Variable Importance for the best model\n",
        "feature_importance_best = pd.DataFrame({'Feature': X.columns, 'Importance': best_rf_model.feature_importances_})\n",
        "feature_importance_best = feature_importance_best.sort_values(by='Importance', ascending=False)\n",
        "\n",
        "print(\"Variable Importance (Best Model):\")\n",
        "print(feature_importance_best)\n"
      ],
      "metadata": {
        "id": "O87RHlzeKSFc",
        "colab": {
          "base_uri": "https://localhost:8080/"
        },
        "outputId": "09ae431f-9864-4241-811e-d5f54021ef92"
      },
      "execution_count": null,
      "outputs": [
        {
          "output_type": "stream",
          "name": "stdout",
          "text": [
            "Fitting 5 folds for each of 9 candidates, totalling 45 fits\n",
            "[CV] END .................max_features=0.3, n_estimators=200; total time=  11.0s\n",
            "[CV] END .................max_features=0.3, n_estimators=200; total time=  11.0s\n",
            "[CV] END .................max_features=0.3, n_estimators=200; total time=   9.7s\n",
            "[CV] END .................max_features=0.3, n_estimators=200; total time=  10.8s\n",
            "[CV] END .................max_features=0.3, n_estimators=200; total time=  11.0s\n",
            "[CV] END .................max_features=0.3, n_estimators=250; total time=  13.5s\n",
            "[CV] END .................max_features=0.3, n_estimators=250; total time=  13.3s\n",
            "[CV] END .................max_features=0.3, n_estimators=250; total time=  13.3s\n",
            "[CV] END .................max_features=0.3, n_estimators=250; total time=  13.2s\n",
            "[CV] END .................max_features=0.3, n_estimators=250; total time=  13.0s\n",
            "[CV] END .................max_features=0.3, n_estimators=300; total time=  16.4s\n",
            "[CV] END .................max_features=0.3, n_estimators=300; total time=  17.3s\n",
            "[CV] END .................max_features=0.3, n_estimators=300; total time=  15.7s\n",
            "[CV] END .................max_features=0.3, n_estimators=300; total time=  15.9s\n",
            "[CV] END .................max_features=0.3, n_estimators=300; total time=  15.8s\n",
            "[CV] END .................max_features=0.4, n_estimators=200; total time=  13.8s\n",
            "[CV] END .................max_features=0.4, n_estimators=200; total time=  13.7s\n",
            "[CV] END .................max_features=0.4, n_estimators=200; total time=  13.8s\n",
            "[CV] END .................max_features=0.4, n_estimators=200; total time=  13.8s\n",
            "[CV] END .................max_features=0.4, n_estimators=200; total time=  13.7s\n",
            "[CV] END .................max_features=0.4, n_estimators=250; total time=  16.9s\n",
            "[CV] END .................max_features=0.4, n_estimators=250; total time=  16.8s\n",
            "[CV] END .................max_features=0.4, n_estimators=250; total time=  17.8s\n",
            "[CV] END .................max_features=0.4, n_estimators=250; total time=  17.3s\n",
            "[CV] END .................max_features=0.4, n_estimators=250; total time=  16.9s\n",
            "[CV] END .................max_features=0.4, n_estimators=300; total time=  20.0s\n",
            "[CV] END .................max_features=0.4, n_estimators=300; total time=  21.2s\n",
            "[CV] END .................max_features=0.4, n_estimators=300; total time=  20.0s\n",
            "[CV] END .................max_features=0.4, n_estimators=300; total time=  21.3s\n",
            "[CV] END .................max_features=0.4, n_estimators=300; total time=  19.9s\n",
            "[CV] END .................max_features=0.5, n_estimators=200; total time=  18.0s\n",
            "[CV] END .................max_features=0.5, n_estimators=200; total time=  16.5s\n",
            "[CV] END .................max_features=0.5, n_estimators=200; total time=  16.9s\n",
            "[CV] END .................max_features=0.5, n_estimators=200; total time=  17.5s\n",
            "[CV] END .................max_features=0.5, n_estimators=200; total time=  16.6s\n",
            "[CV] END .................max_features=0.5, n_estimators=250; total time=  20.4s\n",
            "[CV] END .................max_features=0.5, n_estimators=250; total time=  22.1s\n",
            "[CV] END .................max_features=0.5, n_estimators=250; total time=  20.6s\n",
            "[CV] END .................max_features=0.5, n_estimators=250; total time=  21.9s\n",
            "[CV] END .................max_features=0.5, n_estimators=250; total time=  20.7s\n",
            "[CV] END .................max_features=0.5, n_estimators=300; total time=  25.7s\n",
            "[CV] END .................max_features=0.5, n_estimators=300; total time=  25.6s\n",
            "[CV] END .................max_features=0.5, n_estimators=300; total time=  24.6s\n",
            "[CV] END .................max_features=0.5, n_estimators=300; total time=  25.3s\n",
            "[CV] END .................max_features=0.5, n_estimators=300; total time=  25.7s\n",
            "Best Parameters: {'max_features': 0.3, 'n_estimators': 300}\n",
            "Mean Cross-Validated Accuracy: 0.5739352640545146\n",
            "Test Accuracy (Best Model): 0.5959114139693356\n",
            "Classification Report (Test Set - Best Model):\n",
            "              precision    recall  f1-score   support\n",
            "\n",
            "         0.0       0.76      0.88      0.81       810\n",
            "         1.0       0.49      0.48      0.48       534\n",
            "         2.0       0.43      0.35      0.39       491\n",
            "         3.0       0.50      0.55      0.52       524\n",
            "         4.0       0.57      0.50      0.53       348\n",
            "         5.0       0.81      0.66      0.72       228\n",
            "\n",
            "    accuracy                           0.60      2935\n",
            "   macro avg       0.59      0.57      0.58      2935\n",
            "weighted avg       0.59      0.60      0.59      2935\n",
            "\n",
            "Variable Importance (Best Model):\n",
            "                                         Feature  Importance\n",
            "2                         neighbourhood_cleansed    0.069011\n",
            "47                                     num_baths    0.062030\n",
            "10                                     longitude    0.054020\n",
            "9                                       latitude    0.052376\n",
            "43                                  num_bedrooms    0.051107\n",
            "7                                   accommodates    0.048243\n",
            "41                               amenities_count    0.048099\n",
            "48                          distance_to_downtown    0.045928\n",
            "1                                  property_type    0.045433\n",
            "0                                        host_id    0.036159\n",
            "45                            days_since_hosting    0.036015\n",
            "18                              availability_365    0.035070\n",
            "14                             number_of_reviews    0.030741\n",
            "11                           host_listings_count    0.025287\n",
            "44                                          star    0.025224\n",
            "17                               availability_90    0.024615\n",
            "16                               availability_60    0.023163\n",
            "26   calculated_host_listings_count_entire_homes    0.022414\n",
            "23                        minimum_nights_avg_ntm    0.022125\n",
            "15                               availability_30    0.022060\n",
            "8                                           beds    0.022058\n",
            "25                calculated_host_listings_count    0.021369\n",
            "20                                maximum_nights    0.018489\n",
            "21                        minimum_minimum_nights    0.015724\n",
            "19                                minimum_nights    0.015661\n",
            "22                        minimum_maximum_nights    0.014123\n",
            "24                        maximum_nights_avg_ntm    0.013767\n",
            "27  calculated_host_listings_count_private_rooms    0.011483\n",
            "40                                 first_aid_kit    0.006692\n",
            "13                              instant_bookable    0.006587\n",
            "6                                      room_type    0.006361\n",
            "38                             fire_extinguisher    0.005991\n",
            "37                           dedicated_workspace    0.005840\n",
            "3                              host_is_superhost    0.005341\n",
            "39                              air_conditioning    0.005339\n",
            "31                                    work_email    0.004937\n",
            "36                                    bed_linens    0.004812\n",
            "35                                     microwave    0.004763\n",
            "32                                    hair_dryer    0.004606\n",
            "34                                  refrigerator    0.004469\n",
            "5                         host_identity_verified    0.004222\n",
            "33                                cooking_basics    0.003978\n",
            "46                               share_indicator    0.003971\n",
            "29                                         email    0.003543\n",
            "12                              has_availability    0.002676\n",
            "42                                     is_studio    0.001958\n",
            "4                           host_has_profile_pic    0.001325\n",
            "28   calculated_host_listings_count_shared_rooms    0.000568\n",
            "30                                         phone    0.000228\n"
          ]
        }
      ]
    },
    {
      "cell_type": "markdown",
      "source": [
        "Model2 : Adaboost"
      ],
      "metadata": {
        "id": "l3NeNG6pY8kT"
      }
    },
    {
      "cell_type": "code",
      "source": [
        "from sklearn.ensemble import AdaBoostClassifier\n",
        "from sklearn.metrics import accuracy_score, classification_report\n",
        "\n",
        "# Create the AdaBoostClassifier with predefined hyperparameters\n",
        "adaboost_model = AdaBoostClassifier(learning_rate = 0.5,n_estimators=150,random_state=45)\n",
        "\n",
        "# Fit the AdaBoost model to the training data\n",
        "adaboost_model.fit(X_train, y_train)\n",
        "\n",
        "# Make predictions on the test set\n",
        "y_test_pred_adaboost = adaboost_model.predict(X_test)\n",
        "\n",
        "# Calculate Test Accuracy\n",
        "test_accuracy_adaboost = accuracy_score(y_test, y_test_pred_adaboost)\n",
        "print(f'Test Accuracy (AdaBoost): {test_accuracy_adaboost}')\n",
        "\n",
        "# Print Classification Report for Test Set\n",
        "print(\"Classification Report (Test Set - AdaBoost):\")\n",
        "print(classification_report(y_test, y_test_pred_adaboost))"
      ],
      "metadata": {
        "id": "RWYnO7EKY8IK",
        "colab": {
          "base_uri": "https://localhost:8080/"
        },
        "outputId": "9e5c54e0-4ed8-4fbe-b8d5-dc7d06d82700"
      },
      "execution_count": null,
      "outputs": [
        {
          "output_type": "stream",
          "name": "stdout",
          "text": [
            "Test Accuracy (AdaBoost): 0.5073253833049404\n",
            "Classification Report (Test Set - AdaBoost):\n",
            "              precision    recall  f1-score   support\n",
            "\n",
            "         0.0       0.70      0.83      0.76       810\n",
            "         1.0       0.40      0.35      0.37       534\n",
            "         2.0       0.31      0.21      0.25       491\n",
            "         3.0       0.42      0.56      0.48       524\n",
            "         4.0       0.40      0.32      0.35       348\n",
            "         5.0       0.65      0.52      0.58       228\n",
            "\n",
            "    accuracy                           0.51      2935\n",
            "   macro avg       0.48      0.47      0.47      2935\n",
            "weighted avg       0.49      0.51      0.49      2935\n",
            "\n"
          ]
        }
      ]
    },
    {
      "cell_type": "code",
      "source": [
        "#balanced accurcy for adaboost model\n",
        "balanced_acc_adaboost = balanced_accuracy_score(y_test, y_test_pred_adaboost)\n",
        "print(f'balanced accurcy for adaboost model:{balanced_acc_adaboost}')"
      ],
      "metadata": {
        "colab": {
          "base_uri": "https://localhost:8080/"
        },
        "id": "ZOYWFln2ft8Q",
        "outputId": "971b1b74-30d7-4eec-cee6-3784633b437f"
      },
      "execution_count": null,
      "outputs": [
        {
          "output_type": "stream",
          "name": "stdout",
          "text": [
            "balanced accurcy for adaboost model:0.4653338211401828\n"
          ]
        }
      ]
    },
    {
      "cell_type": "code",
      "source": [
        "from sklearn.model_selection import GridSearchCV\n",
        "from sklearn.ensemble import AdaBoostClassifier\n",
        "\n",
        "# Define the parameter grid for AdaBoost\n",
        "param_grid_adaboost = {\n",
        "    'n_estimators': [50, 75, 100, 125, 150],\n",
        "    'learning_rate': [0.01, 0.1, 0.5],\n",
        "}\n",
        "\n",
        "# Create the AdaBoostClassifier\n",
        "adaboost_model_grid = AdaBoostClassifier(random_state=45)\n",
        "\n",
        "# Create the GridSearchCV object for AdaBoost\n",
        "grid_search_adaboost = GridSearchCV(estimator=adaboost_model_grid, param_grid=param_grid_adaboost, cv=5, scoring='accuracy',verbose = 2)\n",
        "\n",
        "# Fit the grid search to the data\n",
        "grid_search_adaboost.fit(X_train, y_train)\n",
        "\n",
        "\n",
        "# Print the best parameters found by the grid search for AdaBoost\n",
        "print(\"Best Parameters for AdaBoost:\", grid_search_adaboost.best_params_)\n",
        "\n",
        "# Get the mean cross-validated score of the best_estimator for AdaBoost\n",
        "mean_accuracy_adaboost = grid_search_adaboost.best_score_\n",
        "print(f'Mean Cross-Validated Accuracy for AdaBoost: {mean_accuracy_adaboost}')\n",
        "\n",
        "# Make predictions using the best AdaBoost model\n",
        "best_adaboost_model = grid_search_adaboost.best_estimator_\n",
        "y_test_pred_best_adaboost = best_adaboost_model.predict(X_test)\n",
        "\n",
        "# Calculate Test Accuracy using the best AdaBoost model\n",
        "test_accuracy_best_adaboost = accuracy_score(y_test, y_test_pred_best_adaboost)\n",
        "print(f'Test Accuracy (Best Model - AdaBoost): {test_accuracy_best_adaboost}')\n",
        "\n",
        "# Print Classification Report for Test Set using the best AdaBoost model\n",
        "print(\"Classification Report (Test Set - Best Model - AdaBoost):\")\n",
        "print(classification_report(y_test, y_test_pred_best_adaboost))\n",
        "\n"
      ],
      "metadata": {
        "colab": {
          "base_uri": "https://localhost:8080/"
        },
        "id": "u8QhRxRfypDb",
        "outputId": "ec0c4894-8674-4cb9-b5e8-7204a0b95f81"
      },
      "execution_count": null,
      "outputs": [
        {
          "output_type": "stream",
          "name": "stdout",
          "text": [
            "Fitting 5 folds for each of 15 candidates, totalling 75 fits\n",
            "[CV] END ................learning_rate=0.01, n_estimators=50; total time=   1.5s\n",
            "[CV] END ................learning_rate=0.01, n_estimators=50; total time=   1.2s\n",
            "[CV] END ................learning_rate=0.01, n_estimators=50; total time=   1.2s\n",
            "[CV] END ................learning_rate=0.01, n_estimators=50; total time=   1.2s\n",
            "[CV] END ................learning_rate=0.01, n_estimators=50; total time=   1.2s\n",
            "[CV] END ................learning_rate=0.01, n_estimators=75; total time=   1.7s\n",
            "[CV] END ................learning_rate=0.01, n_estimators=75; total time=   1.8s\n",
            "[CV] END ................learning_rate=0.01, n_estimators=75; total time=   1.8s\n",
            "[CV] END ................learning_rate=0.01, n_estimators=75; total time=   2.5s\n",
            "[CV] END ................learning_rate=0.01, n_estimators=75; total time=   2.2s\n",
            "[CV] END ...............learning_rate=0.01, n_estimators=100; total time=   2.3s\n",
            "[CV] END ...............learning_rate=0.01, n_estimators=100; total time=   2.3s\n",
            "[CV] END ...............learning_rate=0.01, n_estimators=100; total time=   2.3s\n",
            "[CV] END ...............learning_rate=0.01, n_estimators=100; total time=   2.3s\n",
            "[CV] END ...............learning_rate=0.01, n_estimators=100; total time=   3.2s\n",
            "[CV] END ...............learning_rate=0.01, n_estimators=125; total time=   3.3s\n",
            "[CV] END ...............learning_rate=0.01, n_estimators=125; total time=   2.9s\n",
            "[CV] END ...............learning_rate=0.01, n_estimators=125; total time=   2.9s\n",
            "[CV] END ...............learning_rate=0.01, n_estimators=125; total time=   3.2s\n",
            "[CV] END ...............learning_rate=0.01, n_estimators=125; total time=   3.9s\n",
            "[CV] END ...............learning_rate=0.01, n_estimators=150; total time=   3.4s\n",
            "[CV] END ...............learning_rate=0.01, n_estimators=150; total time=   3.4s\n",
            "[CV] END ...............learning_rate=0.01, n_estimators=150; total time=   3.8s\n",
            "[CV] END ...............learning_rate=0.01, n_estimators=150; total time=   4.4s\n",
            "[CV] END ...............learning_rate=0.01, n_estimators=150; total time=   3.4s\n",
            "[CV] END .................learning_rate=0.1, n_estimators=50; total time=   1.1s\n",
            "[CV] END .................learning_rate=0.1, n_estimators=50; total time=   1.2s\n",
            "[CV] END .................learning_rate=0.1, n_estimators=50; total time=   1.2s\n",
            "[CV] END .................learning_rate=0.1, n_estimators=50; total time=   1.2s\n",
            "[CV] END .................learning_rate=0.1, n_estimators=50; total time=   1.3s\n",
            "[CV] END .................learning_rate=0.1, n_estimators=75; total time=   2.5s\n",
            "[CV] END .................learning_rate=0.1, n_estimators=75; total time=   2.1s\n",
            "[CV] END .................learning_rate=0.1, n_estimators=75; total time=   1.7s\n",
            "[CV] END .................learning_rate=0.1, n_estimators=75; total time=   1.7s\n",
            "[CV] END .................learning_rate=0.1, n_estimators=75; total time=   1.7s\n",
            "[CV] END ................learning_rate=0.1, n_estimators=100; total time=   2.3s\n",
            "[CV] END ................learning_rate=0.1, n_estimators=100; total time=   2.6s\n",
            "[CV] END ................learning_rate=0.1, n_estimators=100; total time=   3.3s\n",
            "[CV] END ................learning_rate=0.1, n_estimators=100; total time=   2.4s\n",
            "[CV] END ................learning_rate=0.1, n_estimators=100; total time=   2.3s\n",
            "[CV] END ................learning_rate=0.1, n_estimators=125; total time=   2.9s\n",
            "[CV] END ................learning_rate=0.1, n_estimators=125; total time=   3.0s\n",
            "[CV] END ................learning_rate=0.1, n_estimators=125; total time=   4.1s\n",
            "[CV] END ................learning_rate=0.1, n_estimators=125; total time=   2.9s\n",
            "[CV] END ................learning_rate=0.1, n_estimators=125; total time=   2.9s\n",
            "[CV] END ................learning_rate=0.1, n_estimators=150; total time=   3.5s\n",
            "[CV] END ................learning_rate=0.1, n_estimators=150; total time=   4.7s\n",
            "[CV] END ................learning_rate=0.1, n_estimators=150; total time=   3.5s\n",
            "[CV] END ................learning_rate=0.1, n_estimators=150; total time=   3.4s\n",
            "[CV] END ................learning_rate=0.1, n_estimators=150; total time=   3.4s\n",
            "[CV] END .................learning_rate=0.5, n_estimators=50; total time=   1.6s\n",
            "[CV] END .................learning_rate=0.5, n_estimators=50; total time=   1.7s\n",
            "[CV] END .................learning_rate=0.5, n_estimators=50; total time=   1.5s\n",
            "[CV] END .................learning_rate=0.5, n_estimators=50; total time=   1.2s\n",
            "[CV] END .................learning_rate=0.5, n_estimators=50; total time=   1.2s\n",
            "[CV] END .................learning_rate=0.5, n_estimators=75; total time=   1.7s\n",
            "[CV] END .................learning_rate=0.5, n_estimators=75; total time=   1.7s\n",
            "[CV] END .................learning_rate=0.5, n_estimators=75; total time=   1.7s\n",
            "[CV] END .................learning_rate=0.5, n_estimators=75; total time=   1.7s\n",
            "[CV] END .................learning_rate=0.5, n_estimators=75; total time=   2.3s\n",
            "[CV] END ................learning_rate=0.5, n_estimators=100; total time=   3.7s\n",
            "[CV] END ................learning_rate=0.5, n_estimators=100; total time=   4.2s\n",
            "[CV] END ................learning_rate=0.5, n_estimators=100; total time=   4.5s\n",
            "[CV] END ................learning_rate=0.5, n_estimators=100; total time=   6.6s\n",
            "[CV] END ................learning_rate=0.5, n_estimators=100; total time=   4.3s\n",
            "[CV] END ................learning_rate=0.5, n_estimators=125; total time=   3.2s\n",
            "[CV] END ................learning_rate=0.5, n_estimators=125; total time=   3.7s\n",
            "[CV] END ................learning_rate=0.5, n_estimators=125; total time=   3.4s\n",
            "[CV] END ................learning_rate=0.5, n_estimators=125; total time=   2.9s\n",
            "[CV] END ................learning_rate=0.5, n_estimators=125; total time=   2.8s\n",
            "[CV] END ................learning_rate=0.5, n_estimators=150; total time=   3.7s\n",
            "[CV] END ................learning_rate=0.5, n_estimators=150; total time=   4.4s\n",
            "[CV] END ................learning_rate=0.5, n_estimators=150; total time=   3.4s\n",
            "[CV] END ................learning_rate=0.5, n_estimators=150; total time=   3.4s\n",
            "[CV] END ................learning_rate=0.5, n_estimators=150; total time=   4.1s\n",
            "Best Parameters for AdaBoost: {'learning_rate': 0.5, 'n_estimators': 150}\n",
            "Mean Cross-Validated Accuracy for AdaBoost: 0.4945485519591141\n",
            "Test Accuracy (Best Model - AdaBoost): 0.5073253833049404\n",
            "Classification Report (Test Set - Best Model - AdaBoost):\n",
            "              precision    recall  f1-score   support\n",
            "\n",
            "         0.0       0.70      0.83      0.76       810\n",
            "         1.0       0.40      0.35      0.37       534\n",
            "         2.0       0.31      0.21      0.25       491\n",
            "         3.0       0.42      0.56      0.48       524\n",
            "         4.0       0.40      0.32      0.35       348\n",
            "         5.0       0.65      0.52      0.58       228\n",
            "\n",
            "    accuracy                           0.51      2935\n",
            "   macro avg       0.48      0.47      0.47      2935\n",
            "weighted avg       0.49      0.51      0.49      2935\n",
            "\n"
          ]
        }
      ]
    },
    {
      "cell_type": "markdown",
      "source": [
        "plot for hyperparameter tuning (random forest)\n"
      ],
      "metadata": {
        "id": "Tb9JUs5TBZOj"
      }
    },
    {
      "cell_type": "code",
      "source": [
        "#plot graph with respective to mean validation acc and n_estimators\n",
        "rf = RandomForestClassifier(max_features=0.3, random_state=45)\n",
        "\n",
        "acc_list = []\n",
        "for num_estimate in range(50, 400, 50):\n",
        "\n",
        "    rf.set_params(n_estimators= num_estimate)\n",
        "    acc = cross_val_score(rf, X_train, y_train, cv=5).mean()\n",
        "    acc_list.append(acc)\n",
        "\n",
        "x = np.arange(50, 400, 50)\n",
        "plt.plot(x, acc_list, 'r-')\n",
        "plt.xlabel('Number of Trees')\n",
        "plt.ylabel('mean Cross-Validated Accuracy')\n",
        "plt.show()"
      ],
      "metadata": {
        "colab": {
          "base_uri": "https://localhost:8080/",
          "height": 449
        },
        "id": "I651VV7l5QJa",
        "outputId": "cd91571e-75a1-45d1-d36a-34ab73939827"
      },
      "execution_count": null,
      "outputs": [
        {
          "output_type": "display_data",
          "data": {
            "text/plain": [
              "<Figure size 640x480 with 1 Axes>"
            ],
            "image/png": "[encoded data removed]"
          },
          "metadata": {}
        }
      ]
    },
    {
      "cell_type": "code",
      "source": [
        "#plot graph with respective to mean validation acc and max_featuress\n",
        "rf = RandomForestClassifier(n_estimators=300, random_state=45)\n",
        "\n",
        "acc_list = []\n",
        "for num_features in range(1, 7):  # Adjust the range to [1, 2, 3, 4, 5, 6]\n",
        "\n",
        "    rf.set_params(max_features=num_features / 10)\n",
        "    acc = cross_val_score(rf, X_train, y_train, cv=5).mean()\n",
        "    acc_list.append(acc)\n",
        "\n",
        "x = np.arange(0.1, 0.7, 0.1)  # Adjust the range to [0.1, 0.2, 0.3, 0.4, 0.5, 0.6]\n",
        "plt.plot(x, acc_list, 'r-')\n",
        "plt.xlabel('Number of features')\n",
        "plt.ylabel('Mean Cross-Validated Accuracy')\n",
        "plt.show()"
      ],
      "metadata": {
        "colab": {
          "base_uri": "https://localhost:8080/",
          "height": 449
        },
        "id": "OBvXqD3R8Spd",
        "outputId": "e93e2b41-72ae-44a5-9342-9e47e32e6719"
      },
      "execution_count": null,
      "outputs": [
        {
          "output_type": "display_data",
          "data": {
            "text/plain": [
              "<Figure size 640x480 with 1 Axes>"
            ],
            "image/png": "[encoded data removed]"
          },
          "metadata": {}
        }
      ]
    },
    {
      "cell_type": "markdown",
      "source": [
        "plot for hyperparameter tuning (Adaboost)"
      ],
      "metadata": {
        "id": "v_kJtPUuSeex"
      }
    },
    {
      "cell_type": "code",
      "source": [
        "from sklearn.ensemble import AdaBoostClassifier\n",
        "\n",
        "ada_boost = AdaBoostClassifier(n_estimators=150, random_state=45)\n",
        "\n",
        "acc_list = []\n",
        "for lr in range(1, 7):  # Adjust the range to [1, 2, 3, 4, 5, 6]\n",
        "\n",
        "    ada_boost.set_params(learning_rate=lr / 10)\n",
        "    acc = cross_val_score(ada_boost, X_train, y_train, cv=5).mean()\n",
        "    acc_list.append(acc)\n",
        "\n",
        "x = np.arange(0.1, 0.7, 0.1)  # Adjust the range to [0.1, 0.2, 0.3, 0.4, 0.5, 0.6]\n",
        "plt.plot(x, acc_list, 'r-')\n",
        "plt.xlabel('Learning Rate')\n",
        "plt.ylabel('Mean Cross-Validated Accuracy')\n",
        "plt.show()"
      ],
      "metadata": {
        "colab": {
          "base_uri": "https://localhost:8080/",
          "height": 449
        },
        "id": "4swj_atbBO1h",
        "outputId": "76261140-7ef7-4d15-bc2b-884186fe1e2e"
      },
      "execution_count": null,
      "outputs": [
        {
          "output_type": "display_data",
          "data": {
            "text/plain": [
              "<Figure size 640x480 with 1 Axes>"
            ],
            "image/png": "[encoded data removed]"
          },
          "metadata": {}
        }
      ]
    },
    {
      "cell_type": "code",
      "source": [
        "from sklearn.ensemble import AdaBoostClassifier\n",
        "\n",
        "ada_boost = AdaBoostClassifier(learning_rate=0.5, random_state=45)\n",
        "\n",
        "acc_list = []\n",
        "for num_estimators in [50, 100, 150, 200]:  # Adjust the range as per your needs\n",
        "\n",
        "    ada_boost.set_params(n_estimators=num_estimators)\n",
        "    acc = cross_val_score(ada_boost, X_train, y_train, cv=5).mean()\n",
        "    acc_list.append(acc)\n",
        "\n",
        "x = np.array([50, 100, 150, 200])  # Use the specific values you want to test\n",
        "plt.plot(x, acc_list, 'r-')\n",
        "plt.xlabel('Number of Estimators')\n",
        "plt.ylabel('Mean Cross-Validated Accuracy')\n",
        "plt.show()\n",
        "\n"
      ],
      "metadata": {
        "colab": {
          "base_uri": "https://localhost:8080/",
          "height": 449
        },
        "id": "CKvGh-HvCUoo",
        "outputId": "c6e3dca2-537e-497f-ee44-89c5e6dbd0f0"
      },
      "execution_count": null,
      "outputs": [
        {
          "output_type": "display_data",
          "data": {
            "text/plain": [
              "<Figure size 640x480 with 1 Axes>"
            ],
            "image/png": "[encoded data removed]"
          },
          "metadata": {}
        }
      ]
    },
    {
      "cell_type": "markdown",
      "source": [
        "**Feature engineering for test set(should be exatly the same as the procedure we did above to the test dataframe)**"
      ],
      "metadata": {
        "id": "0-K_drVrq91h"
      }
    },
    {
      "cell_type": "code",
      "source": [
        "#remove 'price' column\n",
        "target_var.remove('price')"
      ],
      "metadata": {
        "id": "hyDZOirdQXG9"
      },
      "execution_count": null,
      "outputs": []
    },
    {
      "cell_type": "code",
      "source": [
        "#drop some meaningless column of the test datafeam\n",
        "df_test = df_test[target_var]"
      ],
      "metadata": {
        "id": "PDXtm3t8osWX"
      },
      "execution_count": null,
      "outputs": []
    },
    {
      "cell_type": "code",
      "source": [
        "# sentiment_score = []\n",
        "# df_test['description']\n",
        "# from nltk.sentiment import SentimentIntensityAnalyzer\n",
        "# nltk.download('vader_lexicon')\n",
        "\n",
        "# # Assuming df_train is your DataFrame with a 'text_column' containing text data\n",
        "# # Replace 'text_column' with the actual column name\n",
        "\n",
        "# # Example: Fill NaN values with an empty string\n",
        "# df_test['description'] = df_test['description'].fillna('')\n",
        "\n",
        "# # Create a SentimentIntensityAnalyzer\n",
        "# sia = SentimentIntensityAnalyzer()\n",
        "\n",
        "# # Function to calculate sentiment score using SentimentIntensityAnalyzer\n",
        "# def calculate_sentiment(text):\n",
        "#     return sia.polarity_scores(text)['compound']\n",
        "\n",
        "# df_test['description_count'] = df_test['description'].apply(lambda x: len(x.split()))\n",
        "# # Apply the function to create a new column 'sentiment_score'\n",
        "# df_test['sentiment_score'] = df_test['description'].apply(calculate_sentiment)\n"
      ],
      "metadata": {
        "id": "0cPyErP4rSn2"
      },
      "execution_count": null,
      "outputs": []
    },
    {
      "cell_type": "code",
      "source": [
        "df_test = df_test.drop('description',axis=1)\n",
        "#do the one-hot encoding for 'method' column for test dataframe\n",
        "for method in methods:\n",
        "\n",
        "    df_test[method] = df_test['host_verifications'].apply(lambda x: 1 if method in x else 0)"
      ],
      "metadata": {
        "id": "qEGF3pDKriYZ"
      },
      "execution_count": null,
      "outputs": []
    },
    {
      "cell_type": "code",
      "source": [
        "#do the one-hot encoding for 'amenities' column for test dataframe\n",
        "for attr in top_amenities:\n",
        "    indicator = attr.replace(' ', '_').lower()\n",
        "    df_test[indicator] = np.where(df_test['amenities'].str.contains(attr, case=False), 1, 0)\n",
        "df_test['amenities_count'] = df_test['amenities'].apply(lambda x: len(eval(x)))\n",
        "df_test = df_test.drop('amenities',axis = 1)"
      ],
      "metadata": {
        "id": "uKhmvdb0rn9n"
      },
      "execution_count": null,
      "outputs": []
    },
    {
      "cell_type": "code",
      "source": [
        "#distinguish whether the house is studio or not for test dataframe\n",
        "df_test['is_studio'] = df_test['name'].apply(lambda x: 1 if 'Studio' in x.split() else 0)\n",
        "df_test = df_test.drop('host_verifications',axis = 1)"
      ],
      "metadata": {
        "id": "A6vGWSH4OTWM"
      },
      "execution_count": null,
      "outputs": []
    },
    {
      "cell_type": "code",
      "source": [
        "#extract number of bedrooms from name column for test dataframe\n",
        "bedroom_list = []\n",
        "# Define expression pattern\n",
        "pattern = r'(\\d+)\\s*bedrooms?'\n",
        "for info in df_test['name'].values:\n",
        "\n",
        "# Use re.search to find the match in the string\n",
        "    match = re.search(pattern, info)\n",
        "\n",
        "# If a match is found, extract the number of bedrooms\n",
        "    if match:\n",
        "        num_bedrooms = int(match.group(1))\n",
        "    else:\n",
        "        num_bedrooms = None\n",
        "\n",
        "    bedroom_list.append(num_bedrooms)\n",
        "\n",
        "df_test['num_bedrooms'] = bedroom_list\n",
        "df_test['num_bedrooms'] = df_test['num_bedrooms'].fillna(0)\n",
        "\n",
        "#extract star from name column for test dataframe\n",
        "star_list = []\n",
        "for info in df_test['name'].values:\n",
        "    pattern = r'★([\\d.]+)'\n",
        "    match = re.search(pattern, info)\n",
        "    if match:\n",
        "        rating = match.group(1)\n",
        "    else:\n",
        "        rating = None\n",
        "    star_list.append(rating)\n",
        "df_test['star'] = star_list\n",
        "df_test['star'].fillna(50,inplace = True) #fill none value with outlier 50\n",
        "df_test = df_test.drop('name',axis = 1)"
      ],
      "metadata": {
        "id": "BTkDlaFQr6zk"
      },
      "execution_count": null,
      "outputs": []
    },
    {
      "cell_type": "code",
      "source": [
        "#convert date-time data to the number of days since hosting for test dataframe\n",
        "df_test['host_since'] = pd.to_datetime(df_test['host_since'])\n",
        "target_date = pd.to_datetime('2023-12-2')\n",
        "df_test['days_since_hosting'] = (target_date - df_test['host_since']).dt.days\n",
        "df_test = df_test.drop(['host_since'],axis = 1)"
      ],
      "metadata": {
        "id": "zkDSSFSHPBdt"
      },
      "execution_count": null,
      "outputs": []
    },
    {
      "cell_type": "code",
      "source": [
        "#extract 'shared_indicator' and number of baths from 'bathroom_txt' column for test dataframe\n",
        "df_test['share_indicator'] = np.where(df_test['bathrooms_text'].str.contains('share', case=False), 1, 0)\n",
        "df_test['num_baths'] = df_test['bathrooms_text'].str.extract('(\\d+\\.?\\d*)').astype(float)\n",
        "df_test['num_baths'] = df_test['num_baths'].fillna(0.5)\n",
        "df_test = df_test.drop('bathrooms_text',axis=1)"
      ],
      "metadata": {
        "id": "vd239bfvPFA8"
      },
      "execution_count": null,
      "outputs": []
    },
    {
      "cell_type": "code",
      "source": [
        "#do the one hot encoding for columns only contains 't' and 'f' for test dataframe\n",
        "from sklearn.preprocessing import LabelEncoder\n",
        "label_encoder = LabelEncoder()\n",
        "df_test['host_is_superhost'] = label_encoder.fit_transform(df_test['host_is_superhost'])\n",
        "df_test['host_has_profile_pic']= label_encoder.fit_transform(df_test['host_has_profile_pic'])\n",
        "df_test['host_identity_verified']= label_encoder.fit_transform(df_test['host_identity_verified'])\n",
        "df_test['instant_bookable']= label_encoder.fit_transform(df_test['instant_bookable'])\n",
        "df_test['has_availability']= label_encoder.fit_transform(df_test['has_availability'])"
      ],
      "metadata": {
        "id": "G1d1i-crPHaj"
      },
      "execution_count": null,
      "outputs": []
    },
    {
      "cell_type": "code",
      "source": [
        "#do the label encoding for 'room_type' 'neighbourhood_group_cleansed' 'neighbourhood_cleansed' and 'property_type' for test dataframe\n",
        "df_test['room_type'] = df_test['room_type'].replace({'Entire home/apt': 4,'Hotel room': 3, 'Private room': 2,  'Shared room': 1})\n",
        "df_test['neighbourhood_group_cleansed'] = df_test['neighbourhood_group_cleansed'].replace({'City of Los Angeles': 3, 'Other Cities': 2,'Unincorporated Areas':1})\n",
        "df_test = df_test.drop('neighbourhood_group_cleansed',axis = 1)\n",
        "df_test['neighbourhood_cleansed'] = df_test['neighbourhood_cleansed'].map(rank_by_neighbourhood)\n",
        "df_test['property_type'] = df_test['property_type'].map(rank_by_proptype)"
      ],
      "metadata": {
        "id": "XJfy3RN5PMGU"
      },
      "execution_count": null,
      "outputs": []
    },
    {
      "cell_type": "code",
      "source": [
        "#create 'distance_to_downtown' column for the test dataframe with the same methodology as in the train data frame\n",
        "dis_list = []\n",
        "\n",
        "for i, j in zip(df_test['latitude'], df_test['longitude']):\n",
        "    point1 = np.array([i, j])  # Use parentheses here\n",
        "    distance = np.linalg.norm(point1 - loc)\n",
        "    dis_list.append(distance)\n",
        "\n",
        "df_test['distance_to_downtown'] = dis_list"
      ],
      "metadata": {
        "id": "Rtcrmk7QOo0i"
      },
      "execution_count": null,
      "outputs": []
    },
    {
      "cell_type": "code",
      "source": [
        "#check null in test dataframe\n",
        "df_test.isnull().sum()"
      ],
      "metadata": {
        "id": "ImNNwJy8syCi",
        "colab": {
          "base_uri": "https://localhost:8080/"
        },
        "outputId": "46b4e7a3-2d34-4e6f-bfe2-edc045364570"
      },
      "execution_count": null,
      "outputs": [
        {
          "output_type": "execute_result",
          "data": {
            "text/plain": [
              "host_id                                         0\n",
              "property_type                                   7\n",
              "neighbourhood_cleansed                          4\n",
              "host_is_superhost                               0\n",
              "host_has_profile_pic                            0\n",
              "host_identity_verified                          0\n",
              "room_type                                       0\n",
              "accommodates                                    0\n",
              "beds                                            0\n",
              "latitude                                        0\n",
              "longitude                                       0\n",
              "host_listings_count                             0\n",
              "has_availability                                0\n",
              "instant_bookable                                0\n",
              "number_of_reviews                               0\n",
              "availability_30                                 0\n",
              "availability_60                                 0\n",
              "availability_90                                 0\n",
              "availability_365                                0\n",
              "minimum_nights                                  0\n",
              "maximum_nights                                  0\n",
              "minimum_minimum_nights                          0\n",
              "minimum_maximum_nights                          0\n",
              "minimum_nights_avg_ntm                          0\n",
              "maximum_nights_avg_ntm                          0\n",
              "calculated_host_listings_count                  0\n",
              "calculated_host_listings_count_entire_homes     0\n",
              "calculated_host_listings_count_private_rooms    0\n",
              "calculated_host_listings_count_shared_rooms     0\n",
              "email                                           0\n",
              "phone                                           0\n",
              "work_email                                      0\n",
              "hair_dryer                                      0\n",
              "cooking_basics                                  0\n",
              "refrigerator                                    0\n",
              "microwave                                       0\n",
              "bed_linens                                      0\n",
              "dedicated_workspace                             0\n",
              "fire_extinguisher                               0\n",
              "air_conditioning                                0\n",
              "first_aid_kit                                   0\n",
              "amenities_count                                 0\n",
              "is_studio                                       0\n",
              "num_bedrooms                                    0\n",
              "star                                            0\n",
              "days_since_hosting                              0\n",
              "share_indicator                                 0\n",
              "num_baths                                       0\n",
              "distance_to_downtown                            0\n",
              "dtype: int64"
            ]
          },
          "metadata": {},
          "execution_count": 401
        }
      ]
    },
    {
      "cell_type": "code",
      "source": [
        "df_test['neighbourhood_cleansed'].fillna(df_test['neighbourhood_cleansed'].median(),inplace = True)"
      ],
      "metadata": {
        "id": "fhDLJ4NCYvH6"
      },
      "execution_count": null,
      "outputs": []
    },
    {
      "cell_type": "code",
      "source": [
        "df_test['property_type'].fillna(df_test['property_type'].median(),inplace = True)"
      ],
      "metadata": {
        "id": "b74XBmfhblQR"
      },
      "execution_count": null,
      "outputs": []
    },
    {
      "cell_type": "markdown",
      "source": [
        "**apply model to the test set to submit**"
      ],
      "metadata": {
        "id": "T2mL0CIMQsL7"
      }
    },
    {
      "cell_type": "code",
      "source": [
        "#check if the column diff is only the 'price'\n",
        "difference1 = set(df_train.columns) - set(df_test.columns)\n",
        "difference1"
      ],
      "metadata": {
        "id": "eiaoSkoiUPLx",
        "colab": {
          "base_uri": "https://localhost:8080/"
        },
        "outputId": "81fa46ae-b486-4e40-fdc2-da17ecc9a4ab"
      },
      "execution_count": null,
      "outputs": [
        {
          "output_type": "execute_result",
          "data": {
            "text/plain": [
              "{'price'}"
            ]
          },
          "metadata": {},
          "execution_count": 404
        }
      ]
    },
    {
      "cell_type": "code",
      "source": [
        "#use fine-tuned model to predict output\n",
        "predict_array = rf_model.predict(df_test)"
      ],
      "metadata": {
        "id": "3fnQ5avJviHA"
      },
      "execution_count": null,
      "outputs": []
    },
    {
      "cell_type": "code",
      "source": [
        "#use fine-tuned model to predict output\n",
        "predict_array_ada = adaboost_model.predict(df_test)"
      ],
      "metadata": {
        "id": "9K-7Lc9xTEy_"
      },
      "execution_count": null,
      "outputs": []
    },
    {
      "cell_type": "code",
      "source": [
        "#check format\n",
        "id_array = np.arange(6291)\n",
        "df_sub_random_forest = pd.DataFrame(data={'id': id_array, 'price': predict_array})\n",
        "df_sub_adaboost = pd.DataFrame(data={'id': id_array, 'price': predict_array_ada})\n",
        "df_sub_random_forest"
      ],
      "metadata": {
        "id": "FXnRMcubw-DE",
        "colab": {
          "base_uri": "https://localhost:8080/",
          "height": 424
        },
        "outputId": "d2b89c39-dfaf-47e4-e8d6-21d4b4df805d"
      },
      "execution_count": null,
      "outputs": [
        {
          "output_type": "execute_result",
          "data": {
            "text/plain": [
              "        id  price\n",
              "0        0    3.0\n",
              "1        1    2.0\n",
              "2        2    3.0\n",
              "3        3    4.0\n",
              "4        4    2.0\n",
              "...    ...    ...\n",
              "6286  6286    5.0\n",
              "6287  6287    5.0\n",
              "6288  6288    2.0\n",
              "6289  6289    0.0\n",
              "6290  6290    3.0\n",
              "\n",
              "[6291 rows x 2 columns]"
            ],
            "text/html": [
              "\n",
              "  <div id=\"df-3c99d46d-5faa-4c95-803f-fdb590ae203d\" class=\"colab-df-container\">\n",
              "    <div>\n",
              "<style scoped>\n",
              "    .dataframe tbody tr th:only-of-type {\n",
              "        vertical-align: middle;\n",
              "    }\n",
              "\n",
              "    .dataframe tbody tr th {\n",
              "        vertical-align: top;\n",
              "    }\n",
              "\n",
              "    .dataframe thead th {\n",
              "        text-align: right;\n",
              "    }\n",
              "</style>\n",
              "<table border=\"1\" class=\"dataframe\">\n",
              "  <thead>\n",
              "    <tr style=\"text-align: right;\">\n",
              "      <th></th>\n",
              "      <th>id</th>\n",
              "      <th>price</th>\n",
              "    </tr>\n",
              "  </thead>\n",
              "  <tbody>\n",
              "    <tr>\n",
              "      <th>0</th>\n",
              "      <td>0</td>\n",
              "      <td>3.0</td>\n",
              "    </tr>\n",
              "    <tr>\n",
              "      <th>1</th>\n",
              "      <td>1</td>\n",
              "      <td>2.0</td>\n",
              "    </tr>\n",
              "    <tr>\n",
              "      <th>2</th>\n",
              "      <td>2</td>\n",
              "      <td>3.0</td>\n",
              "    </tr>\n",
              "    <tr>\n",
              "      <th>3</th>\n",
              "      <td>3</td>\n",
              "      <td>4.0</td>\n",
              "    </tr>\n",
              "    <tr>\n",
              "      <th>4</th>\n",
              "      <td>4</td>\n",
              "      <td>2.0</td>\n",
              "    </tr>\n",
              "    <tr>\n",
              "      <th>...</th>\n",
              "      <td>...</td>\n",
              "      <td>...</td>\n",
              "    </tr>\n",
              "    <tr>\n",
              "      <th>6286</th>\n",
              "      <td>6286</td>\n",
              "      <td>5.0</td>\n",
              "    </tr>\n",
              "    <tr>\n",
              "      <th>6287</th>\n",
              "      <td>6287</td>\n",
              "      <td>5.0</td>\n",
              "    </tr>\n",
              "    <tr>\n",
              "      <th>6288</th>\n",
              "      <td>6288</td>\n",
              "      <td>2.0</td>\n",
              "    </tr>\n",
              "    <tr>\n",
              "      <th>6289</th>\n",
              "      <td>6289</td>\n",
              "      <td>0.0</td>\n",
              "    </tr>\n",
              "    <tr>\n",
              "      <th>6290</th>\n",
              "      <td>6290</td>\n",
              "      <td>3.0</td>\n",
              "    </tr>\n",
              "  </tbody>\n",
              "</table>\n",
              "<p>6291 rows × 2 columns</p>\n",
              "</div>\n",
              "    <div class=\"colab-df-buttons\">\n",
              "\n",
              "  <div class=\"colab-df-container\">\n",
              "    <button class=\"colab-df-convert\" onclick=\"convertToInteractive('df-3c99d46d-5faa-4c95-803f-fdb590ae203d')\"\n",
              "            title=\"Convert this dataframe to an interactive table.\"\n",
              "            style=\"display:none;\">\n",
              "\n",
              "  <svg xmlns=\"http://www.w3.org/2000/svg\" height=\"24px\" viewBox=\"0 -960 960 960\">\n",
              "    <path d=\"M120-120v-720h720v720H120Zm60-500h600v-160H180v160Zm220 220h160v-160H400v160Zm0 220h160v-160H400v160ZM180-400h160v-160H180v160Zm440 0h160v-160H620v160ZM180-180h160v-160H180v160Zm440 0h160v-160H620v160Z\"/>\n",
              "  </svg>\n",
              "    </button>\n",
              "\n",
              "  <style>\n",
              "    .colab-df-container {\n",
              "      display:flex;\n",
              "      gap: 12px;\n",
              "    }\n",
              "\n",
              "    .colab-df-convert {\n",
              "      background-color: #E8F0FE;\n",
              "      border: none;\n",
              "      border-radius: 50%;\n",
              "      cursor: pointer;\n",
              "      display: none;\n",
              "      fill: #1967D2;\n",
              "      height: 32px;\n",
              "      padding: 0 0 0 0;\n",
              "      width: 32px;\n",
              "    }\n",
              "\n",
              "    .colab-df-convert:hover {\n",
              "      background-color: #E2EBFA;\n",
              "      box-shadow: 0px 1px 2px rgba(60, 64, 67, 0.3), 0px 1px 3px 1px rgba(60, 64, 67, 0.15);\n",
              "      fill: #174EA6;\n",
              "    }\n",
              "\n",
              "    .colab-df-buttons div {\n",
              "      margin-bottom: 4px;\n",
              "    }\n",
              "\n",
              "    [theme=dark] .colab-df-convert {\n",
              "      background-color: #3B4455;\n",
              "      fill: #D2E3FC;\n",
              "    }\n",
              "\n",
              "    [theme=dark] .colab-df-convert:hover {\n",
              "      background-color: #434B5C;\n",
              "      box-shadow: 0px 1px 3px 1px rgba(0, 0, 0, 0.15);\n",
              "      filter: drop-shadow(0px 1px 2px rgba(0, 0, 0, 0.3));\n",
              "      fill: #FFFFFF;\n",
              "    }\n",
              "  </style>\n",
              "\n",
              "    <script>\n",
              "      const buttonEl =\n",
              "        document.querySelector('#df-3c99d46d-5faa-4c95-803f-fdb590ae203d button.colab-df-convert');\n",
              "      buttonEl.style.display =\n",
              "        google.colab.kernel.accessAllowed ? 'block' : 'none';\n",
              "\n",
              "      async function convertToInteractive(key) {\n",
              "        const element = document.querySelector('#df-3c99d46d-5faa-4c95-803f-fdb590ae203d');\n",
              "        const dataTable =\n",
              "          await google.colab.kernel.invokeFunction('convertToInteractive',\n",
              "                                                    [key], {});\n",
              "        if (!dataTable) return;\n",
              "\n",
              "        const docLinkHtml = 'Like what you see? Visit the ' +\n",
              "          '<a target=\"_blank\" href=https://colab.research.google.com/notebooks/data_table.ipynb>data table notebook</a>'\n",
              "          + ' to learn more about interactive tables.';\n",
              "        element.innerHTML = '';\n",
              "        dataTable['output_type'] = 'display_data';\n",
              "        await google.colab.output.renderOutput(dataTable, element);\n",
              "        const docLink = document.createElement('div');\n",
              "        docLink.innerHTML = docLinkHtml;\n",
              "        element.appendChild(docLink);\n",
              "      }\n",
              "    </script>\n",
              "  </div>\n",
              "\n",
              "\n",
              "<div id=\"df-b6a87dd2-d4c6-4971-ab26-a7ca56d42de5\">\n",
              "  <button class=\"colab-df-quickchart\" onclick=\"quickchart('df-b6a87dd2-d4c6-4971-ab26-a7ca56d42de5')\"\n",
              "            title=\"Suggest charts\"\n",
              "            style=\"display:none;\">\n",
              "\n",
              "<svg xmlns=\"http://www.w3.org/2000/svg\" height=\"24px\"viewBox=\"0 0 24 24\"\n",
              "     width=\"24px\">\n",
              "    <g>\n",
              "        <path d=\"M19 3H5c-1.1 0-2 .9-2 2v14c0 1.1.9 2 2 2h14c1.1 0 2-.9 2-2V5c0-1.1-.9-2-2-2zM9 17H7v-7h2v7zm4 0h-2V7h2v10zm4 0h-2v-4h2v4z\"/>\n",
              "    </g>\n",
              "</svg>\n",
              "  </button>\n",
              "\n",
              "<style>\n",
              "  .colab-df-quickchart {\n",
              "      --bg-color: #E8F0FE;\n",
              "      --fill-color: #1967D2;\n",
              "      --hover-bg-color: #E2EBFA;\n",
              "      --hover-fill-color: #174EA6;\n",
              "      --disabled-fill-color: #AAA;\n",
              "      --disabled-bg-color: #DDD;\n",
              "  }\n",
              "\n",
              "  [theme=dark] .colab-df-quickchart {\n",
              "      --bg-color: #3B4455;\n",
              "      --fill-color: #D2E3FC;\n",
              "      --hover-bg-color: #434B5C;\n",
              "      --hover-fill-color: #FFFFFF;\n",
              "      --disabled-bg-color: #3B4455;\n",
              "      --disabled-fill-color: #666;\n",
              "  }\n",
              "\n",
              "  .colab-df-quickchart {\n",
              "    background-color: var(--bg-color);\n",
              "    border: none;\n",
              "    border-radius: 50%;\n",
              "    cursor: pointer;\n",
              "    display: none;\n",
              "    fill: var(--fill-color);\n",
              "    height: 32px;\n",
              "    padding: 0;\n",
              "    width: 32px;\n",
              "  }\n",
              "\n",
              "  .colab-df-quickchart:hover {\n",
              "    background-color: var(--hover-bg-color);\n",
              "    box-shadow: 0 1px 2px rgba(60, 64, 67, 0.3), 0 1px 3px 1px rgba(60, 64, 67, 0.15);\n",
              "    fill: var(--button-hover-fill-color);\n",
              "  }\n",
              "\n",
              "  .colab-df-quickchart-complete:disabled,\n",
              "  .colab-df-quickchart-complete:disabled:hover {\n",
              "    background-color: var(--disabled-bg-color);\n",
              "    fill: var(--disabled-fill-color);\n",
              "    box-shadow: none;\n",
              "  }\n",
              "\n",
              "  .colab-df-spinner {\n",
              "    border: 2px solid var(--fill-color);\n",
              "    border-color: transparent;\n",
              "    border-bottom-color: var(--fill-color);\n",
              "    animation:\n",
              "      spin 1s steps(1) infinite;\n",
              "  }\n",
              "\n",
              "  @keyframes spin {\n",
              "    0% {\n",
              "      border-color: transparent;\n",
              "      border-bottom-color: var(--fill-color);\n",
              "      border-left-color: var(--fill-color);\n",
              "    }\n",
              "    20% {\n",
              "      border-color: transparent;\n",
              "      border-left-color: var(--fill-color);\n",
              "      border-top-color: var(--fill-color);\n",
              "    }\n",
              "    30% {\n",
              "      border-color: transparent;\n",
              "      border-left-color: var(--fill-color);\n",
              "      border-top-color: var(--fill-color);\n",
              "      border-right-color: var(--fill-color);\n",
              "    }\n",
              "    40% {\n",
              "      border-color: transparent;\n",
              "      border-right-color: var(--fill-color);\n",
              "      border-top-color: var(--fill-color);\n",
              "    }\n",
              "    60% {\n",
              "      border-color: transparent;\n",
              "      border-right-color: var(--fill-color);\n",
              "    }\n",
              "    80% {\n",
              "      border-color: transparent;\n",
              "      border-right-color: var(--fill-color);\n",
              "      border-bottom-color: var(--fill-color);\n",
              "    }\n",
              "    90% {\n",
              "      border-color: transparent;\n",
              "      border-bottom-color: var(--fill-color);\n",
              "    }\n",
              "  }\n",
              "</style>\n",
              "\n",
              "  <script>\n",
              "    async function quickchart(key) {\n",
              "      const quickchartButtonEl =\n",
              "        document.querySelector('#' + key + ' button');\n",
              "      quickchartButtonEl.disabled = true;  // To prevent multiple clicks.\n",
              "      quickchartButtonEl.classList.add('colab-df-spinner');\n",
              "      try {\n",
              "        const charts = await google.colab.kernel.invokeFunction(\n",
              "            'suggestCharts', [key], {});\n",
              "      } catch (error) {\n",
              "        console.error('Error during call to suggestCharts:', error);\n",
              "      }\n",
              "      quickchartButtonEl.classList.remove('colab-df-spinner');\n",
              "      quickchartButtonEl.classList.add('colab-df-quickchart-complete');\n",
              "    }\n",
              "    (() => {\n",
              "      let quickchartButtonEl =\n",
              "        document.querySelector('#df-b6a87dd2-d4c6-4971-ab26-a7ca56d42de5 button');\n",
              "      quickchartButtonEl.style.display =\n",
              "        google.colab.kernel.accessAllowed ? 'block' : 'none';\n",
              "    })();\n",
              "  </script>\n",
              "</div>\n",
              "    </div>\n",
              "  </div>\n"
            ]
          },
          "metadata": {},
          "execution_count": 407
        }
      ]
    },
    {
      "cell_type": "code",
      "source": [],
      "metadata": {
        "id": "tfZ29CC2UX4h"
      },
      "execution_count": null,
      "outputs": []
    },
    {
      "cell_type": "code",
      "source": [
        "#download to submit\n",
        "df_sub_random_forest.to_csv('output_file_random_forest.csv', index=False)\n",
        "df_sub_adaboost.to_csv('output_file_adaboost.csv', index=False)\n",
        "from google.colab import files\n",
        "files.download('output_file_random_forest.csv')\n",
        "files.download('output_file_adaboost.csv')"
      ],
      "metadata": {
        "id": "uJSjuQdjUfUr",
        "colab": {
          "base_uri": "https://localhost:8080/",
          "height": 17
        },
        "outputId": "e7887166-dc30-44d8-bf94-b5d86f13f177"
      },
      "execution_count": null,
      "outputs": [
        {
          "output_type": "display_data",
          "data": {
            "text/plain": [
              "<IPython.core.display.Javascript object>"
            ],
            "application/javascript": [
              "\n",
              "    async function download(id, filename, size) {\n",
              "      if (!google.colab.kernel.accessAllowed) {\n",
              "        return;\n",
              "      }\n",
              "      const div = document.createElement('div');\n",
              "      const label = document.createElement('label');\n",
              "      label.textContent = `Downloading \"${filename}\": `;\n",
              "      div.appendChild(label);\n",
              "      const progress = document.createElement('progress');\n",
              "      progress.max = size;\n",
              "      div.appendChild(progress);\n",
              "      document.body.appendChild(div);\n",
              "\n",
              "      const buffers = [];\n",
              "      let downloaded = 0;\n",
              "\n",
              "      const channel = await google.colab.kernel.comms.open(id);\n",
              "      // Send a message to notify the kernel that we're ready.\n",
              "      channel.send({})\n",
              "\n",
              "      for await (const message of channel.messages) {\n",
              "        // Send a message to notify the kernel that we're ready.\n",
              "        channel.send({})\n",
              "        if (message.buffers) {\n",
              "          for (const buffer of message.buffers) {\n",
              "            buffers.push(buffer);\n",
              "            downloaded += buffer.byteLength;\n",
              "            progress.value = downloaded;\n",
              "          }\n",
              "        }\n",
              "      }\n",
              "      const blob = new Blob(buffers, {type: 'application/binary'});\n",
              "      const a = document.createElement('a');\n",
              "      a.href = window.URL.createObjectURL(blob);\n",
              "      a.download = filename;\n",
              "      div.appendChild(a);\n",
              "      a.click();\n",
              "      div.remove();\n",
              "    }\n",
              "  "
            ]
          },
          "metadata": {}
        },
        {
          "output_type": "display_data",
          "data": {
            "text/plain": [
              "<IPython.core.display.Javascript object>"
            ],
            "application/javascript": [
              "download(\"download_c70bb169-5b62-4387-8aaa-44c1cdfbc6e2\", \"output_file_random_forest.csv\", 55518)"
            ]
          },
          "metadata": {}
        },
        {
          "output_type": "display_data",
          "data": {
            "text/plain": [
              "<IPython.core.display.Javascript object>"
            ],
            "application/javascript": [
              "\n",
              "    async function download(id, filename, size) {\n",
              "      if (!google.colab.kernel.accessAllowed) {\n",
              "        return;\n",
              "      }\n",
              "      const div = document.createElement('div');\n",
              "      const label = document.createElement('label');\n",
              "      label.textContent = `Downloading \"${filename}\": `;\n",
              "      div.appendChild(label);\n",
              "      const progress = document.createElement('progress');\n",
              "      progress.max = size;\n",
              "      div.appendChild(progress);\n",
              "      document.body.appendChild(div);\n",
              "\n",
              "      const buffers = [];\n",
              "      let downloaded = 0;\n",
              "\n",
              "      const channel = await google.colab.kernel.comms.open(id);\n",
              "      // Send a message to notify the kernel that we're ready.\n",
              "      channel.send({})\n",
              "\n",
              "      for await (const message of channel.messages) {\n",
              "        // Send a message to notify the kernel that we're ready.\n",
              "        channel.send({})\n",
              "        if (message.buffers) {\n",
              "          for (const buffer of message.buffers) {\n",
              "            buffers.push(buffer);\n",
              "            downloaded += buffer.byteLength;\n",
              "            progress.value = downloaded;\n",
              "          }\n",
              "        }\n",
              "      }\n",
              "      const blob = new Blob(buffers, {type: 'application/binary'});\n",
              "      const a = document.createElement('a');\n",
              "      a.href = window.URL.createObjectURL(blob);\n",
              "      a.download = filename;\n",
              "      div.appendChild(a);\n",
              "      a.click();\n",
              "      div.remove();\n",
              "    }\n",
              "  "
            ]
          },
          "metadata": {}
        },
        {
          "output_type": "display_data",
          "data": {
            "text/plain": [
              "<IPython.core.display.Javascript object>"
            ],
            "application/javascript": [
              "download(\"download_1a84b60f-9055-420c-ad8a-326a52922df4\", \"output_file_adaboost.csv\", 55518)"
            ]
          },
          "metadata": {}
        }
      ]
    },
    {
      "cell_type": "markdown",
      "source": [
        "plot for comparasion"
      ],
      "metadata": {
        "id": "WAHhUOLIV0Sa"
      }
    },
    {
      "cell_type": "code",
      "source": [
        "\n",
        "acc_values = [46.282, 55.88]\n",
        "labels = ['adaboost', 'random_forest']\n",
        "\n",
        "# Plotting\n",
        "plt.bar(labels, acc_values)\n",
        "plt.xlabel('algorithms')\n",
        "plt.ylabel('kaggle_best_accuracy')\n",
        "plt.ylim(40,60)\n",
        "plt.show()\n"
      ],
      "metadata": {
        "colab": {
          "base_uri": "https://localhost:8080/",
          "height": 455
        },
        "id": "g5WuT6SbxfCh",
        "outputId": "b2701e90-5ed7-49b1-97c0-25d32bee0ed7"
      },
      "execution_count": null,
      "outputs": [
        {
          "output_type": "display_data",
          "data": {
            "text/plain": [
              "<Figure size 640x480 with 1 Axes>"
            ],
            "image/png": "[encoded data removed]"
          },
          "metadata": {}
        }
      ]
    },
    {
      "cell_type": "code",
      "source": [
        "#plot for comparasion of balanced accuracy of different algo\n",
        "balanced_acc_adaboost = balanced_accuracy_score(y_test, y_test_pred_adaboost)\n",
        "balanced_acc_randomforest = balanced_accuracy_score(y_test, y_test_pred)\n",
        "acc_values = [balanced_acc_adaboost,balanced_acc_randomforest]\n",
        "\n",
        "# Plotting\n",
        "plt.bar(labels, acc_values)\n",
        "plt.xlabel('Algorithms')\n",
        "plt.ylabel('Balanced Accuracy')\n",
        "plt.ylim(0.4, 0.6)\n",
        "plt.title('Comparison of Balanced Accuracy for Different Algorithms')\n",
        "plt.show()\n"
      ],
      "metadata": {
        "colab": {
          "base_uri": "https://localhost:8080/",
          "height": 472
        },
        "id": "rnOVJ1KPheaf",
        "outputId": "79f87e93-f76b-4fd0-bf01-5ee1e0e577d5"
      },
      "execution_count": null,
      "outputs": [
        {
          "output_type": "display_data",
          "data": {
            "text/plain": [
              "<Figure size 640x480 with 1 Axes>"
            ],
            "image/png": "[encoded data removed]"
          },
          "metadata": {}
        }
      ]
    },
    {
      "cell_type": "code",
      "source": [],
      "metadata": {
        "id": "cg-XSrN-hpea"
      },
      "execution_count": null,
      "outputs": []
    }
  ]
}